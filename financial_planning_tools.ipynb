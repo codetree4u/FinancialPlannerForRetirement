{
 "cells": [
  {
   "cell_type": "markdown",
   "metadata": {},
   "source": [
    "# Financial Planning with APIs and Simulations\n",
    "\n",
    "In this Challenge, you’ll create two financial analysis tools by using a single Jupyter notebook:\n",
    "\n",
    "Part 1: A financial planner for emergencies. The members will be able to use this tool to visualize their current savings. The members can then determine if they have enough reserves for an emergency fund.\n",
    "\n",
    "Part 2: A financial planner for retirement. This tool will forecast the performance of their retirement portfolio in 30 years. To do this, the tool will make an Alpaca API call via the Alpaca SDK to get historical price data for use in Monte Carlo simulations.\n",
    "\n",
    "You’ll use the information from the Monte Carlo simulation to answer questions about the portfolio in your Jupyter notebook.\n",
    "\n"
   ]
  },
  {
   "cell_type": "code",
   "execution_count": 1,
   "metadata": {},
   "outputs": [],
   "source": [
    "# Import the required libraries and dependencies\n",
    "import os\n",
    "import requests\n",
    "import json\n",
    "import pandas as pd\n",
    "from dotenv import load_dotenv\n",
    "import alpaca_trade_api as tradeapi\n",
    "from MCForecastTools import MCSimulation\n",
    "\n",
    "%matplotlib inline"
   ]
  },
  {
   "cell_type": "code",
   "execution_count": 2,
   "metadata": {},
   "outputs": [
    {
     "data": {
      "text/plain": [
       "True"
      ]
     },
     "execution_count": 2,
     "metadata": {},
     "output_type": "execute_result"
    }
   ],
   "source": [
    "# Load the environment variables from the .env file\n",
    "#by calling the load_dotenv function\n",
    "load_dotenv()"
   ]
  },
  {
   "cell_type": "markdown",
   "metadata": {},
   "source": [
    "## Part 1: Create a Financial Planner for Emergencies"
   ]
  },
  {
   "cell_type": "markdown",
   "metadata": {},
   "source": [
    "### Evaluate the Cryptocurrency Wallet by Using the Requests Library\n",
    "\n",
    "In this section, you’ll determine the current value of a member’s cryptocurrency wallet. You’ll collect the current prices for the Bitcoin and Ethereum cryptocurrencies by using the Python Requests library. For the prototype, you’ll assume that the member holds the 1.2 Bitcoins (BTC) and 5.3 Ethereum coins (ETH). To do all this, complete the following steps:\n",
    "\n",
    "1. Create a variable named `monthly_income`, and set its value to `12000`.\n",
    "\n",
    "2. Use the Requests library to get the current price (in US dollars) of Bitcoin (BTC) and Ethereum (ETH) by using the API endpoints that the starter code supplies.\n",
    "\n",
    "3. Navigate the JSON response object to access the current price of each coin, and store each in a variable.\n",
    "\n",
    "    > **Hint** Note the specific identifier for each cryptocurrency in the API JSON response. The Bitcoin identifier is `1`, and the Ethereum identifier is `1027`.\n",
    "\n",
    "4. Calculate the value, in US dollars, of the current amount of each cryptocurrency and of the entire cryptocurrency wallet.\n",
    "\n"
   ]
  },
  {
   "cell_type": "code",
   "execution_count": 3,
   "metadata": {},
   "outputs": [],
   "source": [
    "# The current number of coins for each cryptocurrency asset held in the portfolio.\n",
    "btc_coins = 1.2\n",
    "eth_coins = 5.3"
   ]
  },
  {
   "cell_type": "markdown",
   "metadata": {},
   "source": [
    "#### Step 1: Create a variable named `monthly_income`, and set its value to `12000`."
   ]
  },
  {
   "cell_type": "code",
   "execution_count": 4,
   "metadata": {},
   "outputs": [],
   "source": [
    "# The monthly amount for the member's household income\n",
    "monthly_income = 12000\n"
   ]
  },
  {
   "cell_type": "markdown",
   "metadata": {},
   "source": [
    "#### Review the endpoint URLs for the API calls to Free Crypto API in order to get the current pricing information for both BTC and ETH."
   ]
  },
  {
   "cell_type": "code",
   "execution_count": 5,
   "metadata": {},
   "outputs": [],
   "source": [
    "# The Free Crypto API Call endpoint URLs for the held cryptocurrency assets\n",
    "btc_url = \"https://api.alternative.me/v2/ticker/Bitcoin/?convert=USD\"\n",
    "eth_url = \"https://api.alternative.me/v2/ticker/Ethereum/?convert=USD\""
   ]
  },
  {
   "cell_type": "markdown",
   "metadata": {},
   "source": [
    "#### Step 2. Use the Requests library to get the current price (in US dollars) of Bitcoin (BTC) and Ethereum (ETH) by using the API endpoints that the starter code supplied."
   ]
  },
  {
   "cell_type": "code",
   "execution_count": 6,
   "metadata": {},
   "outputs": [
    {
     "name": "stdout",
     "output_type": "stream",
     "text": [
      "{\n",
      "  \"data\": {\n",
      "    \"1\": {\n",
      "      \"circulating_supply\": 18697756,\n",
      "      \"id\": 1,\n",
      "      \"last_updated\": 1620015536,\n",
      "      \"max_supply\": 21000000,\n",
      "      \"name\": \"Bitcoin\",\n",
      "      \"quotes\": {\n",
      "        \"USD\": {\n",
      "          \"market_cap\": 1083579480260,\n",
      "          \"percent_change_1h\": -0.213972595389936,\n",
      "          \"percent_change_24h\": 2.29879360754931,\n",
      "          \"percent_change_7d\": 18.3715896432362,\n",
      "          \"percentage_change_1h\": -0.213972595389936,\n",
      "          \"percentage_change_24h\": 2.29879360754931,\n",
      "          \"percentage_change_7d\": 18.3715896432362,\n",
      "          \"price\": 57980.0,\n",
      "          \"volume_24h\": 40590850732\n",
      "        }\n",
      "      },\n",
      "      \"rank\": 1,\n",
      "      \"symbol\": \"BTC\",\n",
      "      \"total_supply\": 18697756,\n",
      "      \"website_slug\": \"bitcoin\"\n",
      "    }\n",
      "  },\n",
      "  \"metadata\": {\n",
      "    \"error\": null,\n",
      "    \"num_cryptocurrencies\": 1308,\n",
      "    \"timestamp\": 1620015536\n",
      "  }\n",
      "}\n"
     ]
    }
   ],
   "source": [
    "# Using the Python requests library, make an API call to access the current price of BTC\n",
    "btc_response = requests.get(btc_url).json()\n",
    "\n",
    "# Use the json.dumps function to review the response data from the API call\n",
    "# Use the indent and sort_keys parameters to make the response object readable\n",
    "print(json.dumps(btc_response,indent=2,sort_keys=True))\n"
   ]
  },
  {
   "cell_type": "code",
   "execution_count": 7,
   "metadata": {},
   "outputs": [
    {
     "name": "stdout",
     "output_type": "stream",
     "text": [
      "{\n",
      "  \"data\": {\n",
      "    \"1027\": {\n",
      "      \"circulating_supply\": 115716888,\n",
      "      \"id\": 1027,\n",
      "      \"last_updated\": 1620015495,\n",
      "      \"max_supply\": 0,\n",
      "      \"name\": \"Ethereum\",\n",
      "      \"quotes\": {\n",
      "        \"USD\": {\n",
      "          \"market_cap\": 353597642310,\n",
      "          \"percent_change_1h\": 0.577669919473278,\n",
      "          \"percent_change_24h\": 4.97421168499834,\n",
      "          \"percent_change_7d\": 32.4081801157405,\n",
      "          \"percentage_change_1h\": 0.577669919473278,\n",
      "          \"percentage_change_24h\": 4.97421168499834,\n",
      "          \"percentage_change_7d\": 32.4081801157405,\n",
      "          \"price\": 3055.13,\n",
      "          \"volume_24h\": 38395754065\n",
      "        }\n",
      "      },\n",
      "      \"rank\": 2,\n",
      "      \"symbol\": \"ETH\",\n",
      "      \"total_supply\": 115716888,\n",
      "      \"website_slug\": \"ethereum\"\n",
      "    }\n",
      "  },\n",
      "  \"metadata\": {\n",
      "    \"error\": null,\n",
      "    \"num_cryptocurrencies\": 1308,\n",
      "    \"timestamp\": 1620015495\n",
      "  }\n",
      "}\n"
     ]
    }
   ],
   "source": [
    "# Using the Python requests library, make an API call to access the current price ETH\n",
    "eth_response = requests.get(eth_url).json()\n",
    "\n",
    "# Use the json.dumps function to review the response data from the API call\n",
    "# Use the indent and sort_keys parameters to make the response object readable\n",
    "print(json.dumps(eth_response,indent=2,sort_keys=True))"
   ]
  },
  {
   "cell_type": "markdown",
   "metadata": {},
   "source": [
    "#### Step 3: Navigate the JSON response object to access the current price of each coin, and store each in a variable."
   ]
  },
  {
   "cell_type": "code",
   "execution_count": 8,
   "metadata": {},
   "outputs": [
    {
     "name": "stdout",
     "output_type": "stream",
     "text": [
      "The current price for Bitcoin is $57980.00\n"
     ]
    }
   ],
   "source": [
    "# Navigate the BTC response object to access the current price of BTC\n",
    "btc_price = btc_response[\"data\"][\"1\"][\"quotes\"][\"USD\"][\"price\"]\n",
    "\n",
    "\n",
    "# Print the current price of BTC\n",
    "print(f\"The current price for Bitcoin is ${btc_price:.2f}\")"
   ]
  },
  {
   "cell_type": "code",
   "execution_count": 9,
   "metadata": {},
   "outputs": [
    {
     "name": "stdout",
     "output_type": "stream",
     "text": [
      "The current price for Ethereum is $3055.13\n"
     ]
    }
   ],
   "source": [
    "# Navigate the BTC response object to access the current price of ETH\n",
    "eth_price = eth_response[\"data\"][\"1027\"][\"quotes\"][\"USD\"][\"price\"]\n",
    "\n",
    "\n",
    "# Print the current price of ETH\n",
    "print(f\"The current price for Ethereum is ${eth_price:.2f}\")\n"
   ]
  },
  {
   "cell_type": "markdown",
   "metadata": {},
   "source": [
    "### Step 4: Calculate the value, in US dollars, of the current amount of each cryptocurrency and of the entire cryptocurrency wallet."
   ]
  },
  {
   "cell_type": "code",
   "execution_count": 10,
   "metadata": {},
   "outputs": [
    {
     "name": "stdout",
     "output_type": "stream",
     "text": [
      "The current holding Bitcoin value is $69576.00\n"
     ]
    }
   ],
   "source": [
    "# Compute the current value of the BTC holding \n",
    "btc_value = btc_coins * btc_price\n",
    "\n",
    "# Print current value of your holding in BTC\n",
    "\n",
    "print(f\"The current holding Bitcoin value is ${btc_value:.2f}\")"
   ]
  },
  {
   "cell_type": "code",
   "execution_count": 11,
   "metadata": {},
   "outputs": [
    {
     "name": "stdout",
     "output_type": "stream",
     "text": [
      "The current holding Ethereum value is $16192.19\n"
     ]
    }
   ],
   "source": [
    "# Compute the current value of the ETH holding \n",
    "eth_value = eth_coins * eth_price\n",
    "\n",
    "# Print current value of your holding in ETH\n",
    "print(f\"The current holding Ethereum value is ${eth_value:.2f}\")"
   ]
  },
  {
   "cell_type": "code",
   "execution_count": 12,
   "metadata": {},
   "outputs": [
    {
     "name": "stdout",
     "output_type": "stream",
     "text": [
      "The cryptocurrency wallet balance is $85768.19\n"
     ]
    }
   ],
   "source": [
    "# Compute the total value of the cryptocurrency wallet\n",
    "# Add the value of the BTC holding to the value of the ETH holding\n",
    "total_crypto_wallet = btc_value + eth_value\n",
    "\n",
    "# Print current cryptocurrency wallet balance\n",
    "print(f\"The cryptocurrency wallet balance is ${total_crypto_wallet:.2f}\")\n"
   ]
  },
  {
   "cell_type": "markdown",
   "metadata": {},
   "source": [
    "### Evaluate the Stock and Bond Holdings by Using the Alpaca SDK\n",
    "\n",
    "In this section, you’ll determine the current value of a member’s stock and bond holdings. You’ll make an API call to Alpaca via the Alpaca SDK to get the current closing prices of the SPDR S&P 500 ETF Trust (ticker: SPY) and of the iShares Core US Aggregate Bond ETF (ticker: AGG). For the prototype, assume that the member holds 110 shares of SPY, which represents the stock portion of their portfolio, and 200 shares of AGG, which represents the bond portion. To do all this, complete the following steps:\n",
    "\n",
    "1. In the `Starter_Code` folder, create an environment file (`.env`) to store the values of your Alpaca API key and Alpaca secret key.\n",
    "\n",
    "2. Set the variables for the Alpaca API and secret keys. Using the Alpaca SDK, create the Alpaca `tradeapi.REST` object. In this object, include the parameters for the Alpaca API key, the secret key, and the version number.\n",
    "\n",
    "3. Set the following parameters for the Alpaca API call:\n",
    "\n",
    "    - `tickers`: Use the tickers for the member’s stock and bond holdings.\n",
    "\n",
    "    - `timeframe`: Use a time frame of one day.\n",
    "\n",
    "    - `start_date` and `end_date`: Use the same date for these parameters, and format them with the date of the previous weekday (or `2020-08-07`). This is because you want the one closing price for the most-recent trading day.\n",
    "\n",
    "4. Get the current closing prices for `SPY` and `AGG` by using the Alpaca `get_barset` function. Format the response as a Pandas DataFrame by including the `df` property at the end of the `get_barset` function.\n",
    "\n",
    "5. Navigating the Alpaca response DataFrame, select the `SPY` and `AGG` closing prices, and store them as variables.\n",
    "\n",
    "6. Calculate the value, in US dollars, of the current amount of shares in each of the stock and bond portions of the portfolio, and print the results.\n"
   ]
  },
  {
   "cell_type": "markdown",
   "metadata": {},
   "source": [
    "#### Review the total number of shares held in both (SPY) and (AGG)."
   ]
  },
  {
   "cell_type": "code",
   "execution_count": 13,
   "metadata": {},
   "outputs": [],
   "source": [
    "# Current amount of shares held in both the stock (SPY) and bond (AGG) portion of the portfolio.\n",
    "spy_shares = 110\n",
    "agg_shares = 200\n"
   ]
  },
  {
   "cell_type": "markdown",
   "metadata": {},
   "source": [
    "#### Step 1: In the `Starter_Code` folder, create an environment file (`.env`) to store the values of your Alpaca API key and Alpaca secret key."
   ]
  },
  {
   "cell_type": "markdown",
   "metadata": {},
   "source": [
    "#### Step 2: Set the variables for the Alpaca API and secret keys. Using the Alpaca SDK, create the Alpaca `tradeapi.REST` object. In this object, include the parameters for the Alpaca API key, the secret key, and the version number."
   ]
  },
  {
   "cell_type": "code",
   "execution_count": 14,
   "metadata": {},
   "outputs": [],
   "source": [
    "# Set the variables for the Alpaca API and secret keys\n",
    "alpaca_api_key = os.getenv(\"ALPACA_API_KEY\")\n",
    "alpaca_secret_key = os.getenv(\"ALPACA_SECRET_KEY\")\n",
    "\n",
    "# Create the Alpaca tradeapi.REST object\n",
    "# Create the Alpaca API object\n",
    "api = tradeapi.REST(\n",
    "    alpaca_api_key,\n",
    "    alpaca_secret_key,\n",
    "    api_version=\"v2\")\n"
   ]
  },
  {
   "cell_type": "markdown",
   "metadata": {},
   "source": [
    "#### Step 3: Set the following parameters for the Alpaca API call:\n",
    "\n",
    "- `tickers`: Use the tickers for the member’s stock and bond holdings.\n",
    "\n",
    "- `timeframe`: Use a time frame of one day.\n",
    "\n",
    "- `start_date` and `end_date`: Use the same date for these parameters, and format them with the date of the previous weekday (or `2020-08-07`). This is because you want the one closing price for the most-recent trading day.\n"
   ]
  },
  {
   "cell_type": "code",
   "execution_count": 15,
   "metadata": {},
   "outputs": [],
   "source": [
    "# Set the tickers for both the bond and stock portion of the portfolio\n",
    "ticker_spy = \"SPY\"\n",
    "ticker_agg = \"AGG\"\n",
    "\n",
    "# Set timeframe to 1D \n",
    "timeframe = \"1D\"\n",
    "\n",
    "# Format current date as ISO format\n",
    "# Set both the start and end date at the date of your prior weekday \n",
    "# This will give you the closing price of the previous trading day\n",
    "# Alternatively you can use a start and end date of 2020-08-07\n",
    "start_date = pd.Timestamp(\"2021-04-30\", tz=\"America/New_York\").isoformat()\n",
    "end_date = pd.Timestamp(\"2021-04-30\", tz=\"America/New_York\").isoformat()\n",
    "\n"
   ]
  },
  {
   "cell_type": "markdown",
   "metadata": {},
   "source": [
    "#### Step 4: Get the current closing prices for `SPY` and `AGG` by using the Alpaca `get_barset` function. Format the response as a Pandas DataFrame by including the `df` property at the end of the `get_barset` function."
   ]
  },
  {
   "cell_type": "code",
   "execution_count": 16,
   "metadata": {},
   "outputs": [
    {
     "data": {
      "text/html": [
       "<div>\n",
       "<style scoped>\n",
       "    .dataframe tbody tr th:only-of-type {\n",
       "        vertical-align: middle;\n",
       "    }\n",
       "\n",
       "    .dataframe tbody tr th {\n",
       "        vertical-align: top;\n",
       "    }\n",
       "\n",
       "    .dataframe thead tr th {\n",
       "        text-align: left;\n",
       "    }\n",
       "\n",
       "    .dataframe thead tr:last-of-type th {\n",
       "        text-align: right;\n",
       "    }\n",
       "</style>\n",
       "<table border=\"1\" class=\"dataframe\">\n",
       "  <thead>\n",
       "    <tr>\n",
       "      <th></th>\n",
       "      <th colspan=\"5\" halign=\"left\">SPY</th>\n",
       "    </tr>\n",
       "    <tr>\n",
       "      <th></th>\n",
       "      <th>open</th>\n",
       "      <th>high</th>\n",
       "      <th>low</th>\n",
       "      <th>close</th>\n",
       "      <th>volume</th>\n",
       "    </tr>\n",
       "    <tr>\n",
       "      <th>time</th>\n",
       "      <th></th>\n",
       "      <th></th>\n",
       "      <th></th>\n",
       "      <th></th>\n",
       "      <th></th>\n",
       "    </tr>\n",
       "  </thead>\n",
       "  <tbody>\n",
       "    <tr>\n",
       "      <th>2021-04-30 00:00:00-04:00</th>\n",
       "      <td>417.63</td>\n",
       "      <td>418.54</td>\n",
       "      <td>416.34</td>\n",
       "      <td>417.3</td>\n",
       "      <td>73129109</td>\n",
       "    </tr>\n",
       "  </tbody>\n",
       "</table>\n",
       "</div>"
      ],
      "text/plain": [
       "                              SPY                                 \n",
       "                             open    high     low  close    volume\n",
       "time                                                              \n",
       "2021-04-30 00:00:00-04:00  417.63  418.54  416.34  417.3  73129109"
      ]
     },
     "execution_count": 16,
     "metadata": {},
     "output_type": "execute_result"
    }
   ],
   "source": [
    "# Use the Alpaca get_barset function to get current closing prices the portfolio\n",
    "# Be sure to set the `df` property after the function to format the response object as a DataFrame\n",
    "spy_ticker_df = api.get_barset(\n",
    "    ticker_spy,\n",
    "    timeframe,\n",
    "    start=start_date,\n",
    "    end=end_date\n",
    ").df\n",
    "\n",
    "# Review the first 5 rows of the Alpaca DataFrame\n",
    "spy_ticker_df.head()"
   ]
  },
  {
   "cell_type": "code",
   "execution_count": 17,
   "metadata": {},
   "outputs": [
    {
     "data": {
      "text/html": [
       "<div>\n",
       "<style scoped>\n",
       "    .dataframe tbody tr th:only-of-type {\n",
       "        vertical-align: middle;\n",
       "    }\n",
       "\n",
       "    .dataframe tbody tr th {\n",
       "        vertical-align: top;\n",
       "    }\n",
       "\n",
       "    .dataframe thead tr th {\n",
       "        text-align: left;\n",
       "    }\n",
       "\n",
       "    .dataframe thead tr:last-of-type th {\n",
       "        text-align: right;\n",
       "    }\n",
       "</style>\n",
       "<table border=\"1\" class=\"dataframe\">\n",
       "  <thead>\n",
       "    <tr>\n",
       "      <th></th>\n",
       "      <th colspan=\"5\" halign=\"left\">AGG</th>\n",
       "    </tr>\n",
       "    <tr>\n",
       "      <th></th>\n",
       "      <th>open</th>\n",
       "      <th>high</th>\n",
       "      <th>low</th>\n",
       "      <th>close</th>\n",
       "      <th>volume</th>\n",
       "    </tr>\n",
       "    <tr>\n",
       "      <th>time</th>\n",
       "      <th></th>\n",
       "      <th></th>\n",
       "      <th></th>\n",
       "      <th></th>\n",
       "      <th></th>\n",
       "    </tr>\n",
       "  </thead>\n",
       "  <tbody>\n",
       "    <tr>\n",
       "      <th>2021-04-30 00:00:00-04:00</th>\n",
       "      <td>114.41</td>\n",
       "      <td>114.515</td>\n",
       "      <td>114.33</td>\n",
       "      <td>114.5</td>\n",
       "      <td>5160765</td>\n",
       "    </tr>\n",
       "  </tbody>\n",
       "</table>\n",
       "</div>"
      ],
      "text/plain": [
       "                              AGG                                 \n",
       "                             open     high     low  close   volume\n",
       "time                                                              \n",
       "2021-04-30 00:00:00-04:00  114.41  114.515  114.33  114.5  5160765"
      ]
     },
     "execution_count": 17,
     "metadata": {},
     "output_type": "execute_result"
    }
   ],
   "source": [
    "# Use the Alpaca get_barset function to get current closing prices the portfolio\n",
    "# Be sure to set the `df` property after the function to format the response object as a DataFrame\n",
    "agg_ticker_df = api.get_barset(\n",
    "    ticker_agg,\n",
    "    timeframe,\n",
    "    start=start_date,\n",
    "    end=end_date\n",
    ").df\n",
    "\n",
    "# Review the first 5 rows of the Alpaca DataFrame\n",
    "agg_ticker_df.head()"
   ]
  },
  {
   "cell_type": "markdown",
   "metadata": {},
   "source": [
    "#### Step 5: Navigating the Alpaca response DataFrame, select the `SPY` and `AGG` closing prices, and store them as variables."
   ]
  },
  {
   "cell_type": "code",
   "execution_count": 18,
   "metadata": {},
   "outputs": [
    {
     "name": "stdout",
     "output_type": "stream",
     "text": [
      "The AGG close price is $114.50\n"
     ]
    }
   ],
   "source": [
    "# Access the closing price for AGG from the Alpaca DataFrame\n",
    "# Converting the value to a floating point number\n",
    "agg_close_price = agg_ticker_df[\"AGG\"][\"close\"].iloc[-1]\n",
    "\n",
    "# Print the AGG closing price\n",
    "print(f\"The AGG close price is ${agg_close_price:.2f}\")"
   ]
  },
  {
   "cell_type": "code",
   "execution_count": 19,
   "metadata": {},
   "outputs": [
    {
     "name": "stdout",
     "output_type": "stream",
     "text": [
      "The SPY close price is $417.30\n"
     ]
    }
   ],
   "source": [
    "# Access the closing price for SPY from the Alpaca DataFrame\n",
    "# Converting the value to a floating point number\n",
    "spy_close_price  = spy_ticker_df[\"SPY\"][\"close\"].iloc[-1]\n",
    "\n",
    "# Print the SPY closing price\n",
    "print(f\"The SPY close price is ${spy_close_price:.2f}\")\n"
   ]
  },
  {
   "cell_type": "markdown",
   "metadata": {},
   "source": [
    "#### Step 6: Calculate the value, in US dollars, of the current amount of shares in each of the stock and bond portions of the portfolio, and print the results."
   ]
  },
  {
   "cell_type": "code",
   "execution_count": 20,
   "metadata": {},
   "outputs": [
    {
     "name": "stdout",
     "output_type": "stream",
     "text": [
      "The current bonds porfolio value is $22900.00\n"
     ]
    }
   ],
   "source": [
    "# Calculate the current value of the bond portion of the portfolio\n",
    "agg_value = agg_shares * agg_close_price\n",
    "# Print the current value of the bond portfolio\n",
    "print(f\"The current bonds porfolio value is ${agg_value:.2f}\")\n"
   ]
  },
  {
   "cell_type": "code",
   "execution_count": 21,
   "metadata": {},
   "outputs": [
    {
     "name": "stdout",
     "output_type": "stream",
     "text": [
      "The current stock portfolio value is $45903.00\n"
     ]
    }
   ],
   "source": [
    "# Calculate the current value of the stock portion of the portfolio\n",
    "spy_value = spy_shares * spy_close_price\n",
    "# Print the current value of the stock portfolio\n",
    "print(f\"The current stock portfolio value is ${spy_value:.2f}\")\n"
   ]
  },
  {
   "cell_type": "code",
   "execution_count": 22,
   "metadata": {},
   "outputs": [
    {
     "name": "stdout",
     "output_type": "stream",
     "text": [
      "The total bonds/stocks porfolio value is $68803.00\n"
     ]
    }
   ],
   "source": [
    "# Calculate the total value of the stock and bond portion of the portfolio\n",
    "total_stocks_bonds = agg_value + spy_value\n",
    "\n",
    "# Print the current balance of the stock and bond portion of the portfolio\n",
    "print(f\"The total bonds/stocks porfolio value is ${total_stocks_bonds:.2f}\")\n"
   ]
  },
  {
   "cell_type": "code",
   "execution_count": 23,
   "metadata": {},
   "outputs": [
    {
     "name": "stdout",
     "output_type": "stream",
     "text": [
      "The total porfolio value is $154571.19\n",
      "The total cryptocurrency wallet balance is $85768.19\n"
     ]
    }
   ],
   "source": [
    "# Calculate the total value of the member's entire savings portfolio\n",
    "# Add the value of the cryptocurrency walled to the value of the total stocks and bonds\n",
    "total_portfolio = total_stocks_bonds + total_crypto_wallet\n",
    "print(f\"The total porfolio value is ${total_portfolio:.2f}\")\n",
    "\n",
    "# Print current cryptocurrency wallet balance\n",
    "print(f\"The total cryptocurrency wallet balance is ${total_crypto_wallet:.2f}\")\n"
   ]
  },
  {
   "cell_type": "markdown",
   "metadata": {},
   "source": [
    "### Evaluate the Emergency Fund\n",
    "\n",
    "In this section, you’ll use the valuations for the cryptocurrency wallet and for the stock and bond portions of the portfolio to determine if the credit union member has enough savings to build an emergency fund into their financial plan. To do this, complete the following steps:\n",
    "\n",
    "1. Create a Python list named `savings_data` that has two elements. The first element contains the total value of the cryptocurrency wallet. The second element contains the total value of the stock and bond portions of the portfolio.\n",
    "\n",
    "2. Use the `savings_data` list to create a Pandas DataFrame named `savings_df`, and then display this DataFrame. The function to create the DataFrame should take the following three parameters:\n",
    "\n",
    "    - `savings_data`: Use the list that you just created.\n",
    "\n",
    "    - `columns`: Set this parameter equal to a Python list with a single value called `amount`.\n",
    "\n",
    "    - `index`: Set this parameter equal to a Python list with the values of `crypto` and `stock/bond`.\n",
    "\n",
    "3. Use the `savings_df` DataFrame to plot a pie chart that visualizes the composition of the member’s portfolio. The y-axis of the pie chart uses `amount`. Be sure to add a title.\n",
    "\n",
    "4. Using Python, determine if the current portfolio has enough to create an emergency fund as part of the member’s financial plan. Ideally, an emergency fund should equal to three times the member’s monthly income. To do this, implement the following steps:\n",
    "\n",
    "    1. Create a variable named `emergency_fund_value`, and set it equal to three times the value of the member’s `monthly_income` of $12000. (You set this earlier in Part 1).\n",
    "\n",
    "    2. Create a series of three if statements to determine if the member’s total portfolio is large enough to fund the emergency portfolio:\n",
    "\n",
    "        1. If the total portfolio value is greater than the emergency fund value, display a message congratulating the member for having enough money in this fund.\n",
    "\n",
    "        2. Else if the total portfolio value is equal to the emergency fund value, display a message congratulating the member on reaching this important financial goal.\n",
    "\n",
    "        3. Else the total portfolio is less than the emergency fund value, so display a message showing how many dollars away the member is from reaching the goal. (Subtract the total portfolio value from the emergency fund value.)\n"
   ]
  },
  {
   "cell_type": "markdown",
   "metadata": {},
   "source": [
    "#### Step 1: Create a Python list named `savings_data` that has two elements. The first element contains the total value of the cryptocurrency wallet. The second element contains the total value of the stock and bond portions of the portfolio."
   ]
  },
  {
   "cell_type": "code",
   "execution_count": 24,
   "metadata": {},
   "outputs": [
    {
     "name": "stdout",
     "output_type": "stream",
     "text": [
      "[85768.189, 68803.0]\n"
     ]
    }
   ],
   "source": [
    "# Consolidate financial assets data into a Python list\n",
    "savings_data =[total_crypto_wallet,total_stocks_bonds]\n",
    "# Review the Python list savings_data\n",
    "print(savings_data)\n",
    "    "
   ]
  },
  {
   "cell_type": "markdown",
   "metadata": {},
   "source": [
    "#### Step 2: Use the `savings_data` list to create a Pandas DataFrame named `savings_df`, and then display this DataFrame. The function to create the DataFrame should take the following three parameters:\n",
    "\n",
    "- `savings_data`: Use the list that you just created.\n",
    "\n",
    "- `columns`: Set this parameter equal to a Python list with a single value called `amount`.\n",
    "\n",
    "- `index`: Set this parameter equal to a Python list with the values of `crypto` and `stock/bond`.\n"
   ]
  },
  {
   "cell_type": "code",
   "execution_count": 25,
   "metadata": {},
   "outputs": [
    {
     "name": "stdout",
     "output_type": "stream",
     "text": [
      "               amount\n",
      "crypto      85768.189\n",
      "stock/bond  68803.000\n"
     ]
    }
   ],
   "source": [
    "# Create a Pandas DataFrame called savings_df \n",
    "savings_df = pd.DataFrame(savings_data, columns = ['amount'],index=['crypto','stock/bond'])\n",
    "\n",
    "# Display the savings_df DataFrame\n",
    "print(savings_df)\n"
   ]
  },
  {
   "cell_type": "markdown",
   "metadata": {},
   "source": [
    "#### Step 3: Use the `savings_df` DataFrame to plot a pie chart that visualizes the composition of the member’s portfolio. The y-axis of the pie chart uses `amount`. Be sure to add a title."
   ]
  },
  {
   "cell_type": "code",
   "execution_count": 45,
   "metadata": {},
   "outputs": [
    {
     "data": {
      "text/plain": [
       "<AxesSubplot:ylabel=\"Credit Union Member's Porfolio Investment\">"
      ]
     },
     "execution_count": 45,
     "metadata": {},
     "output_type": "execute_result"
    },
    {
     "data": {
      "image/png": "[encoded data removed]",
      "text/plain": [
       "<Figure size 432x432 with 1 Axes>"
      ]
     },
     "metadata": {},
     "output_type": "display_data"
    }
   ],
   "source": [
    "# Plot the total value of the member's portfolio (crypto and stock/bond) in a pie chart\n",
    "savings_df.plot.pie(y='amount', figsize=(6,6), label=\"Credit Union Member's Porfolio Investment\")\n"
   ]
  },
  {
   "cell_type": "markdown",
   "metadata": {},
   "source": [
    "#### Step 4: Using Python, determine if the current portfolio has enough to create an emergency fund as part of the member’s financial plan. Ideally, an emergency fund should equal to three times the member’s monthly income. To do this, implement the following steps:\n",
    "\n",
    "Step 1. Create a variable named `emergency_fund_value`, and set it equal to three times the value of the member’s `monthly_income` of 12000. (You set this earlier in Part 1).\n",
    "\n",
    "Step 2. Create a series of three if statements to determine if the member’s total portfolio is large enough to fund the emergency portfolio:\n",
    "\n",
    "* If the total portfolio value is greater than the emergency fund value, display a message congratulating the member for having enough money in this fund.\n",
    "\n",
    "* Else if the total portfolio value is equal to the emergency fund value, display a message congratulating the member on reaching this important financial goal.\n",
    "\n",
    "* Else the total portfolio is less than the emergency fund value, so display a message showing how many dollars away the member is from reaching the goal. (Subtract the total portfolio value from the emergency fund value.)\n"
   ]
  },
  {
   "cell_type": "markdown",
   "metadata": {},
   "source": [
    "##### Step 4-1: Create a variable named `emergency_fund_value`, and set it equal to three times the value of the member’s `monthly_income` of 12000. (You set this earlier in Part 1)."
   ]
  },
  {
   "cell_type": "code",
   "execution_count": 27,
   "metadata": {},
   "outputs": [
    {
     "name": "stdout",
     "output_type": "stream",
     "text": [
      "The emergency fund value should be three times the credit union member's income $36000.00\n"
     ]
    }
   ],
   "source": [
    "# Create a variable named emergency_fund_value\n",
    "emergency_fund_value = 3 * monthly_income\n",
    "print(f\"The emergency fund value should be three times the credit union member's income ${emergency_fund_value:.2f}\")\n"
   ]
  },
  {
   "cell_type": "markdown",
   "metadata": {},
   "source": [
    "##### Step 4-2: Create a series of three if statements to determine if the member’s total portfolio is large enough to fund the emergency portfolio:\n",
    "\n",
    "* If the total portfolio value is greater than the emergency fund value, display a message congratulating the member for having enough money in this fund.\n",
    "\n",
    "* Else if the total portfolio value is equal to the emergency fund value, display a message congratulating the member on reaching this important financial goal.\n",
    "\n",
    "* Else the total portfolio is less than the emergency fund value, so display a message showing how many dollars away the member is from reaching the goal. (Subtract the total portfolio value from the emergency fund value.)"
   ]
  },
  {
   "cell_type": "code",
   "execution_count": 28,
   "metadata": {},
   "outputs": [
    {
     "name": "stdout",
     "output_type": "stream",
     "text": [
      "Congratulations yeah!\n"
     ]
    }
   ],
   "source": [
    "# Evaluate the possibility of creating an emergency fund with 3 conditions:\n",
    "if total_portfolio > emergency_fund_value:\n",
    "    print('Congratulations yeah!')\n",
    "elif total_portfolio >= emergency_fund_value:\n",
    "    print('Congras reaching goal')\n",
    "else:\n",
    "    print(\"bye\")"
   ]
  },
  {
   "cell_type": "markdown",
   "metadata": {},
   "source": [
    "## Part 2: Create a Financial Planner for Retirement"
   ]
  },
  {
   "cell_type": "markdown",
   "metadata": {},
   "source": [
    "### Create the Monte Carlo Simulation\n",
    "\n",
    "In this section, you’ll use the MCForecastTools library to create a Monte Carlo simulation for the member’s savings portfolio. To do this, complete the following steps:\n",
    "\n",
    "1. Make an API call via the Alpaca SDK to get 10 years of historical closing prices for a traditional 60/40 portfolio split: 60% stocks (SPY) and 40% bonds (AGG).\n",
    "\n",
    "2. Run a Monte Carlo simulation of 500 samples and 30 years for the 60/40 portfolio, and then plot the results.The following image shows the overlay line plot resulting from a simulation with these characteristics. However, because a random number generator is used to run each live Monte Carlo simulation, your image will differ slightly from this exact image:\n",
    "\n",
    "![A screenshot depicts the resulting plot.](Images/5-4-monte-carlo-line-plot.png)\n",
    "\n",
    "3. Plot the probability distribution of the Monte Carlo simulation. Plot the probability distribution of the Monte Carlo simulation. The following image shows the histogram plot resulting from a simulation with these characteristics. However, because a random number generator is used to run each live Monte Carlo simulation, your image will differ slightly from this exact image:\n",
    "\n",
    "![A screenshot depicts the histogram plot.](Images/5-4-monte-carlo-histogram.png)\n",
    "\n",
    "4. Generate the summary statistics for the Monte Carlo simulation.\n",
    "\n"
   ]
  },
  {
   "cell_type": "markdown",
   "metadata": {},
   "source": [
    "#### Step 1: Make an API call via the Alpaca SDK to get 10 years of historical closing prices for a traditional 60/40 portfolio split: 60% stocks (SPY) and 40% bonds (AGG)."
   ]
  },
  {
   "cell_type": "code",
   "execution_count": 29,
   "metadata": {},
   "outputs": [],
   "source": [
    "# Set start and end dates of 10 years back from your current date\n",
    "# Alternatively, you can use an end date of 2020-08-07 and work 10 years back from that date \n",
    "# Set the AGG and SPY tickers\n",
    "tickers = [\"AGG\",\"SPY\"]\n",
    "\n",
    "# Set start and end datetimes of 1 year, between now and 365 days ago.\n",
    "start_date = pd.Timestamp(\"2011-04-30\", tz=\"America/New_York\").isoformat()\n",
    "end_date = pd.Timestamp(\"2021-04-30\", tz=\"America/New_York\").isoformat()\n"
   ]
  },
  {
   "cell_type": "code",
   "execution_count": 30,
   "metadata": {},
   "outputs": [
    {
     "data": {
      "text/html": [
       "<div>\n",
       "<style scoped>\n",
       "    .dataframe tbody tr th:only-of-type {\n",
       "        vertical-align: middle;\n",
       "    }\n",
       "\n",
       "    .dataframe tbody tr th {\n",
       "        vertical-align: top;\n",
       "    }\n",
       "\n",
       "    .dataframe thead tr th {\n",
       "        text-align: left;\n",
       "    }\n",
       "\n",
       "    .dataframe thead tr:last-of-type th {\n",
       "        text-align: right;\n",
       "    }\n",
       "</style>\n",
       "<table border=\"1\" class=\"dataframe\">\n",
       "  <thead>\n",
       "    <tr>\n",
       "      <th></th>\n",
       "      <th colspan=\"5\" halign=\"left\">AGG</th>\n",
       "      <th colspan=\"5\" halign=\"left\">SPY</th>\n",
       "    </tr>\n",
       "    <tr>\n",
       "      <th></th>\n",
       "      <th>open</th>\n",
       "      <th>high</th>\n",
       "      <th>low</th>\n",
       "      <th>close</th>\n",
       "      <th>volume</th>\n",
       "      <th>open</th>\n",
       "      <th>high</th>\n",
       "      <th>low</th>\n",
       "      <th>close</th>\n",
       "      <th>volume</th>\n",
       "    </tr>\n",
       "    <tr>\n",
       "      <th>time</th>\n",
       "      <th></th>\n",
       "      <th></th>\n",
       "      <th></th>\n",
       "      <th></th>\n",
       "      <th></th>\n",
       "      <th></th>\n",
       "      <th></th>\n",
       "      <th></th>\n",
       "      <th></th>\n",
       "      <th></th>\n",
       "    </tr>\n",
       "  </thead>\n",
       "  <tbody>\n",
       "    <tr>\n",
       "      <th>2020-12-07 00:00:00-05:00</th>\n",
       "      <td>117.76</td>\n",
       "      <td>117.8262</td>\n",
       "      <td>117.6900</td>\n",
       "      <td>117.75</td>\n",
       "      <td>4689469</td>\n",
       "      <td>369.02</td>\n",
       "      <td>369.6200</td>\n",
       "      <td>367.72</td>\n",
       "      <td>369.1200</td>\n",
       "      <td>40456544</td>\n",
       "    </tr>\n",
       "    <tr>\n",
       "      <th>2020-12-08 00:00:00-05:00</th>\n",
       "      <td>117.88</td>\n",
       "      <td>117.9597</td>\n",
       "      <td>117.7500</td>\n",
       "      <td>117.77</td>\n",
       "      <td>3587353</td>\n",
       "      <td>367.72</td>\n",
       "      <td>370.7800</td>\n",
       "      <td>367.67</td>\n",
       "      <td>370.1599</td>\n",
       "      <td>32702217</td>\n",
       "    </tr>\n",
       "    <tr>\n",
       "      <th>2020-12-09 00:00:00-05:00</th>\n",
       "      <td>117.73</td>\n",
       "      <td>117.7800</td>\n",
       "      <td>117.5172</td>\n",
       "      <td>117.62</td>\n",
       "      <td>4720359</td>\n",
       "      <td>370.88</td>\n",
       "      <td>371.0500</td>\n",
       "      <td>365.95</td>\n",
       "      <td>366.8900</td>\n",
       "      <td>60700254</td>\n",
       "    </tr>\n",
       "    <tr>\n",
       "      <th>2020-12-10 00:00:00-05:00</th>\n",
       "      <td>117.74</td>\n",
       "      <td>117.9300</td>\n",
       "      <td>117.6900</td>\n",
       "      <td>117.88</td>\n",
       "      <td>4694024</td>\n",
       "      <td>365.37</td>\n",
       "      <td>367.8600</td>\n",
       "      <td>364.43</td>\n",
       "      <td>366.7200</td>\n",
       "      <td>47851654</td>\n",
       "    </tr>\n",
       "    <tr>\n",
       "      <th>2020-12-11 00:00:00-05:00</th>\n",
       "      <td>118.01</td>\n",
       "      <td>118.0900</td>\n",
       "      <td>117.9500</td>\n",
       "      <td>118.03</td>\n",
       "      <td>5537449</td>\n",
       "      <td>364.90</td>\n",
       "      <td>366.7402</td>\n",
       "      <td>363.26</td>\n",
       "      <td>366.2800</td>\n",
       "      <td>47917103</td>\n",
       "    </tr>\n",
       "    <tr>\n",
       "      <th>...</th>\n",
       "      <td>...</td>\n",
       "      <td>...</td>\n",
       "      <td>...</td>\n",
       "      <td>...</td>\n",
       "      <td>...</td>\n",
       "      <td>...</td>\n",
       "      <td>...</td>\n",
       "      <td>...</td>\n",
       "      <td>...</td>\n",
       "      <td>...</td>\n",
       "    </tr>\n",
       "    <tr>\n",
       "      <th>2021-04-19 00:00:00-04:00</th>\n",
       "      <td>114.00</td>\n",
       "      <td>114.5000</td>\n",
       "      <td>114.0000</td>\n",
       "      <td>114.44</td>\n",
       "      <td>4820664</td>\n",
       "      <td>416.26</td>\n",
       "      <td>416.7400</td>\n",
       "      <td>413.79</td>\n",
       "      <td>415.2400</td>\n",
       "      <td>66226327</td>\n",
       "    </tr>\n",
       "    <tr>\n",
       "      <th>2021-04-20 00:00:00-04:00</th>\n",
       "      <td>114.42</td>\n",
       "      <td>114.6700</td>\n",
       "      <td>114.3900</td>\n",
       "      <td>114.62</td>\n",
       "      <td>3674209</td>\n",
       "      <td>413.91</td>\n",
       "      <td>415.0859</td>\n",
       "      <td>410.59</td>\n",
       "      <td>412.2200</td>\n",
       "      <td>69715050</td>\n",
       "    </tr>\n",
       "    <tr>\n",
       "      <th>2021-04-21 00:00:00-04:00</th>\n",
       "      <td>114.60</td>\n",
       "      <td>114.7400</td>\n",
       "      <td>114.5300</td>\n",
       "      <td>114.74</td>\n",
       "      <td>5250384</td>\n",
       "      <td>411.51</td>\n",
       "      <td>416.2900</td>\n",
       "      <td>411.36</td>\n",
       "      <td>416.0800</td>\n",
       "      <td>54772634</td>\n",
       "    </tr>\n",
       "    <tr>\n",
       "      <th>2021-04-22 00:00:00-04:00</th>\n",
       "      <td>114.74</td>\n",
       "      <td>114.8000</td>\n",
       "      <td>114.5900</td>\n",
       "      <td>114.77</td>\n",
       "      <td>3518947</td>\n",
       "      <td>415.88</td>\n",
       "      <td>416.7800</td>\n",
       "      <td>411.13</td>\n",
       "      <td>412.3000</td>\n",
       "      <td>90085820</td>\n",
       "    </tr>\n",
       "    <tr>\n",
       "      <th>2021-04-23 00:00:00-04:00</th>\n",
       "      <td>114.81</td>\n",
       "      <td>115.0860</td>\n",
       "      <td>114.6415</td>\n",
       "      <td>114.75</td>\n",
       "      <td>3506457</td>\n",
       "      <td>412.87</td>\n",
       "      <td>418.2500</td>\n",
       "      <td>412.79</td>\n",
       "      <td>416.7200</td>\n",
       "      <td>62186191</td>\n",
       "    </tr>\n",
       "  </tbody>\n",
       "</table>\n",
       "<p>95 rows × 10 columns</p>\n",
       "</div>"
      ],
      "text/plain": [
       "                              AGG                                       \\\n",
       "                             open      high       low   close   volume   \n",
       "time                                                                     \n",
       "2020-12-07 00:00:00-05:00  117.76  117.8262  117.6900  117.75  4689469   \n",
       "2020-12-08 00:00:00-05:00  117.88  117.9597  117.7500  117.77  3587353   \n",
       "2020-12-09 00:00:00-05:00  117.73  117.7800  117.5172  117.62  4720359   \n",
       "2020-12-10 00:00:00-05:00  117.74  117.9300  117.6900  117.88  4694024   \n",
       "2020-12-11 00:00:00-05:00  118.01  118.0900  117.9500  118.03  5537449   \n",
       "...                           ...       ...       ...     ...      ...   \n",
       "2021-04-19 00:00:00-04:00  114.00  114.5000  114.0000  114.44  4820664   \n",
       "2021-04-20 00:00:00-04:00  114.42  114.6700  114.3900  114.62  3674209   \n",
       "2021-04-21 00:00:00-04:00  114.60  114.7400  114.5300  114.74  5250384   \n",
       "2021-04-22 00:00:00-04:00  114.74  114.8000  114.5900  114.77  3518947   \n",
       "2021-04-23 00:00:00-04:00  114.81  115.0860  114.6415  114.75  3506457   \n",
       "\n",
       "                              SPY                                        \n",
       "                             open      high     low     close    volume  \n",
       "time                                                                     \n",
       "2020-12-07 00:00:00-05:00  369.02  369.6200  367.72  369.1200  40456544  \n",
       "2020-12-08 00:00:00-05:00  367.72  370.7800  367.67  370.1599  32702217  \n",
       "2020-12-09 00:00:00-05:00  370.88  371.0500  365.95  366.8900  60700254  \n",
       "2020-12-10 00:00:00-05:00  365.37  367.8600  364.43  366.7200  47851654  \n",
       "2020-12-11 00:00:00-05:00  364.90  366.7402  363.26  366.2800  47917103  \n",
       "...                           ...       ...     ...       ...       ...  \n",
       "2021-04-19 00:00:00-04:00  416.26  416.7400  413.79  415.2400  66226327  \n",
       "2021-04-20 00:00:00-04:00  413.91  415.0859  410.59  412.2200  69715050  \n",
       "2021-04-21 00:00:00-04:00  411.51  416.2900  411.36  416.0800  54772634  \n",
       "2021-04-22 00:00:00-04:00  415.88  416.7800  411.13  412.3000  90085820  \n",
       "2021-04-23 00:00:00-04:00  412.87  418.2500  412.79  416.7200  62186191  \n",
       "\n",
       "[95 rows x 10 columns]"
      ]
     },
     "execution_count": 30,
     "metadata": {},
     "output_type": "execute_result"
    }
   ],
   "source": [
    "# Use the Alpaca get_barset function to make the API call to get the 10 years worth of pricing data\n",
    "# The tickers and timeframe parameters should have been set in Part 1 of this activity \n",
    "# The start and end dates should be updated with the information set above\n",
    "# Remember to add the df property to the end of the call so the response is returned as a DataFrame\n",
    "# Get 1 year's worth of historical data for AGG and SPY\n",
    "price_10yr_df = api.get_barset(\n",
    "    tickers,\n",
    "    timeframe,\n",
    "    start=start_date,\n",
    "    end=end_date\n",
    ").df\n",
    "\n",
    "# Display both the first and last five rows of the DataFrame\n",
    "price_10yr_df.head(-5)\n"
   ]
  },
  {
   "cell_type": "markdown",
   "metadata": {},
   "source": [
    "#### Step 2: Run a Monte Carlo simulation of 500 samples and 30 years for the 60/40 portfolio, and then plot the results."
   ]
  },
  {
   "cell_type": "code",
   "execution_count": 31,
   "metadata": {},
   "outputs": [
    {
     "data": {
      "text/html": [
       "<div>\n",
       "<style scoped>\n",
       "    .dataframe tbody tr th:only-of-type {\n",
       "        vertical-align: middle;\n",
       "    }\n",
       "\n",
       "    .dataframe tbody tr th {\n",
       "        vertical-align: top;\n",
       "    }\n",
       "\n",
       "    .dataframe thead tr th {\n",
       "        text-align: left;\n",
       "    }\n",
       "\n",
       "    .dataframe thead tr:last-of-type th {\n",
       "        text-align: right;\n",
       "    }\n",
       "</style>\n",
       "<table border=\"1\" class=\"dataframe\">\n",
       "  <thead>\n",
       "    <tr>\n",
       "      <th></th>\n",
       "      <th colspan=\"6\" halign=\"left\">AGG</th>\n",
       "      <th colspan=\"6\" halign=\"left\">SPY</th>\n",
       "    </tr>\n",
       "    <tr>\n",
       "      <th></th>\n",
       "      <th>open</th>\n",
       "      <th>high</th>\n",
       "      <th>low</th>\n",
       "      <th>close</th>\n",
       "      <th>volume</th>\n",
       "      <th>daily_return</th>\n",
       "      <th>open</th>\n",
       "      <th>high</th>\n",
       "      <th>low</th>\n",
       "      <th>close</th>\n",
       "      <th>volume</th>\n",
       "      <th>daily_return</th>\n",
       "    </tr>\n",
       "    <tr>\n",
       "      <th>time</th>\n",
       "      <th></th>\n",
       "      <th></th>\n",
       "      <th></th>\n",
       "      <th></th>\n",
       "      <th></th>\n",
       "      <th></th>\n",
       "      <th></th>\n",
       "      <th></th>\n",
       "      <th></th>\n",
       "      <th></th>\n",
       "      <th></th>\n",
       "      <th></th>\n",
       "    </tr>\n",
       "  </thead>\n",
       "  <tbody>\n",
       "    <tr>\n",
       "      <th>2020-12-07 00:00:00-05:00</th>\n",
       "      <td>117.76</td>\n",
       "      <td>117.8262</td>\n",
       "      <td>117.6900</td>\n",
       "      <td>117.75</td>\n",
       "      <td>4689469</td>\n",
       "      <td>NaN</td>\n",
       "      <td>369.02</td>\n",
       "      <td>369.6200</td>\n",
       "      <td>367.72</td>\n",
       "      <td>369.1200</td>\n",
       "      <td>40456544</td>\n",
       "      <td>NaN</td>\n",
       "    </tr>\n",
       "    <tr>\n",
       "      <th>2020-12-08 00:00:00-05:00</th>\n",
       "      <td>117.88</td>\n",
       "      <td>117.9597</td>\n",
       "      <td>117.7500</td>\n",
       "      <td>117.77</td>\n",
       "      <td>3587353</td>\n",
       "      <td>0.000170</td>\n",
       "      <td>367.72</td>\n",
       "      <td>370.7800</td>\n",
       "      <td>367.67</td>\n",
       "      <td>370.1599</td>\n",
       "      <td>32702217</td>\n",
       "      <td>0.002817</td>\n",
       "    </tr>\n",
       "    <tr>\n",
       "      <th>2020-12-09 00:00:00-05:00</th>\n",
       "      <td>117.73</td>\n",
       "      <td>117.7800</td>\n",
       "      <td>117.5172</td>\n",
       "      <td>117.62</td>\n",
       "      <td>4720359</td>\n",
       "      <td>-0.001274</td>\n",
       "      <td>370.88</td>\n",
       "      <td>371.0500</td>\n",
       "      <td>365.95</td>\n",
       "      <td>366.8900</td>\n",
       "      <td>60700254</td>\n",
       "      <td>-0.008834</td>\n",
       "    </tr>\n",
       "    <tr>\n",
       "      <th>2020-12-10 00:00:00-05:00</th>\n",
       "      <td>117.74</td>\n",
       "      <td>117.9300</td>\n",
       "      <td>117.6900</td>\n",
       "      <td>117.88</td>\n",
       "      <td>4694024</td>\n",
       "      <td>0.002211</td>\n",
       "      <td>365.37</td>\n",
       "      <td>367.8600</td>\n",
       "      <td>364.43</td>\n",
       "      <td>366.7200</td>\n",
       "      <td>47851654</td>\n",
       "      <td>-0.000463</td>\n",
       "    </tr>\n",
       "    <tr>\n",
       "      <th>2020-12-11 00:00:00-05:00</th>\n",
       "      <td>118.01</td>\n",
       "      <td>118.0900</td>\n",
       "      <td>117.9500</td>\n",
       "      <td>118.03</td>\n",
       "      <td>5537449</td>\n",
       "      <td>0.001272</td>\n",
       "      <td>364.90</td>\n",
       "      <td>366.7402</td>\n",
       "      <td>363.26</td>\n",
       "      <td>366.2800</td>\n",
       "      <td>47917103</td>\n",
       "      <td>-0.001200</td>\n",
       "    </tr>\n",
       "  </tbody>\n",
       "</table>\n",
       "</div>"
      ],
      "text/plain": [
       "                              AGG                                       \\\n",
       "                             open      high       low   close   volume   \n",
       "time                                                                     \n",
       "2020-12-07 00:00:00-05:00  117.76  117.8262  117.6900  117.75  4689469   \n",
       "2020-12-08 00:00:00-05:00  117.88  117.9597  117.7500  117.77  3587353   \n",
       "2020-12-09 00:00:00-05:00  117.73  117.7800  117.5172  117.62  4720359   \n",
       "2020-12-10 00:00:00-05:00  117.74  117.9300  117.6900  117.88  4694024   \n",
       "2020-12-11 00:00:00-05:00  118.01  118.0900  117.9500  118.03  5537449   \n",
       "\n",
       "                                           SPY                              \\\n",
       "                          daily_return    open      high     low     close   \n",
       "time                                                                         \n",
       "2020-12-07 00:00:00-05:00          NaN  369.02  369.6200  367.72  369.1200   \n",
       "2020-12-08 00:00:00-05:00     0.000170  367.72  370.7800  367.67  370.1599   \n",
       "2020-12-09 00:00:00-05:00    -0.001274  370.88  371.0500  365.95  366.8900   \n",
       "2020-12-10 00:00:00-05:00     0.002211  365.37  367.8600  364.43  366.7200   \n",
       "2020-12-11 00:00:00-05:00     0.001272  364.90  366.7402  363.26  366.2800   \n",
       "\n",
       "                                                  \n",
       "                             volume daily_return  \n",
       "time                                              \n",
       "2020-12-07 00:00:00-05:00  40456544          NaN  \n",
       "2020-12-08 00:00:00-05:00  32702217     0.002817  \n",
       "2020-12-09 00:00:00-05:00  60700254    -0.008834  \n",
       "2020-12-10 00:00:00-05:00  47851654    -0.000463  \n",
       "2020-12-11 00:00:00-05:00  47917103    -0.001200  "
      ]
     },
     "execution_count": 31,
     "metadata": {},
     "output_type": "execute_result"
    }
   ],
   "source": [
    "# Configure the Monte Carlo simulation to forecast 30 years cumulative returns\n",
    "# The weights should be split 40% to AGG and 60% to SPY.\n",
    "# Run 500 samples.\n",
    "MC_even_weight = MCSimulation(\n",
    "    portfolio_data = price_10yr_df,\n",
    "    weights = [.60,.40],\n",
    "    num_simulation = 500,\n",
    "    num_trading_days = 252*30\n",
    ")\n",
    "\n",
    "# Printing the first five rows of the simulation input data\n",
    "MC_even_weight.portfolio_data.head()"
   ]
  },
  {
   "cell_type": "code",
   "execution_count": 32,
   "metadata": {},
   "outputs": [
    {
     "name": "stdout",
     "output_type": "stream",
     "text": [
      "Running Monte Carlo simulation number 0.\n",
      "Running Monte Carlo simulation number 10.\n",
      "Running Monte Carlo simulation number 20.\n",
      "Running Monte Carlo simulation number 30.\n",
      "Running Monte Carlo simulation number 40.\n",
      "Running Monte Carlo simulation number 50.\n",
      "Running Monte Carlo simulation number 60.\n",
      "Running Monte Carlo simulation number 70.\n",
      "Running Monte Carlo simulation number 80.\n",
      "Running Monte Carlo simulation number 90.\n",
      "Running Monte Carlo simulation number 100.\n",
      "Running Monte Carlo simulation number 110.\n",
      "Running Monte Carlo simulation number 120.\n",
      "Running Monte Carlo simulation number 130.\n",
      "Running Monte Carlo simulation number 140.\n",
      "Running Monte Carlo simulation number 150.\n",
      "Running Monte Carlo simulation number 160.\n",
      "Running Monte Carlo simulation number 170.\n",
      "Running Monte Carlo simulation number 180.\n",
      "Running Monte Carlo simulation number 190.\n",
      "Running Monte Carlo simulation number 200.\n",
      "Running Monte Carlo simulation number 210.\n",
      "Running Monte Carlo simulation number 220.\n",
      "Running Monte Carlo simulation number 230.\n",
      "Running Monte Carlo simulation number 240.\n",
      "Running Monte Carlo simulation number 250.\n",
      "Running Monte Carlo simulation number 260.\n",
      "Running Monte Carlo simulation number 270.\n",
      "Running Monte Carlo simulation number 280.\n",
      "Running Monte Carlo simulation number 290.\n",
      "Running Monte Carlo simulation number 300.\n",
      "Running Monte Carlo simulation number 310.\n",
      "Running Monte Carlo simulation number 320.\n",
      "Running Monte Carlo simulation number 330.\n",
      "Running Monte Carlo simulation number 340.\n",
      "Running Monte Carlo simulation number 350.\n",
      "Running Monte Carlo simulation number 360.\n",
      "Running Monte Carlo simulation number 370.\n",
      "Running Monte Carlo simulation number 380.\n",
      "Running Monte Carlo simulation number 390.\n",
      "Running Monte Carlo simulation number 400.\n",
      "Running Monte Carlo simulation number 410.\n",
      "Running Monte Carlo simulation number 420.\n",
      "Running Monte Carlo simulation number 430.\n",
      "Running Monte Carlo simulation number 440.\n",
      "Running Monte Carlo simulation number 450.\n",
      "Running Monte Carlo simulation number 460.\n",
      "Running Monte Carlo simulation number 470.\n",
      "Running Monte Carlo simulation number 480.\n",
      "Running Monte Carlo simulation number 490.\n"
     ]
    },
    {
     "data": {
      "text/html": [
       "<div>\n",
       "<style scoped>\n",
       "    .dataframe tbody tr th:only-of-type {\n",
       "        vertical-align: middle;\n",
       "    }\n",
       "\n",
       "    .dataframe tbody tr th {\n",
       "        vertical-align: top;\n",
       "    }\n",
       "\n",
       "    .dataframe thead th {\n",
       "        text-align: right;\n",
       "    }\n",
       "</style>\n",
       "<table border=\"1\" class=\"dataframe\">\n",
       "  <thead>\n",
       "    <tr style=\"text-align: right;\">\n",
       "      <th></th>\n",
       "      <th>0</th>\n",
       "      <th>1</th>\n",
       "      <th>2</th>\n",
       "      <th>3</th>\n",
       "      <th>4</th>\n",
       "      <th>5</th>\n",
       "      <th>6</th>\n",
       "      <th>7</th>\n",
       "      <th>8</th>\n",
       "      <th>9</th>\n",
       "      <th>...</th>\n",
       "      <th>490</th>\n",
       "      <th>491</th>\n",
       "      <th>492</th>\n",
       "      <th>493</th>\n",
       "      <th>494</th>\n",
       "      <th>495</th>\n",
       "      <th>496</th>\n",
       "      <th>497</th>\n",
       "      <th>498</th>\n",
       "      <th>499</th>\n",
       "    </tr>\n",
       "  </thead>\n",
       "  <tbody>\n",
       "    <tr>\n",
       "      <th>0</th>\n",
       "      <td>1.000000</td>\n",
       "      <td>1.000000</td>\n",
       "      <td>1.000000</td>\n",
       "      <td>1.000000</td>\n",
       "      <td>1.000000</td>\n",
       "      <td>1.000000</td>\n",
       "      <td>1.000000</td>\n",
       "      <td>1.000000</td>\n",
       "      <td>1.000000</td>\n",
       "      <td>1.000000</td>\n",
       "      <td>...</td>\n",
       "      <td>1.000000</td>\n",
       "      <td>1.000000</td>\n",
       "      <td>1.000000</td>\n",
       "      <td>1.000000</td>\n",
       "      <td>1.000000</td>\n",
       "      <td>1.000000</td>\n",
       "      <td>1.000000</td>\n",
       "      <td>1.000000</td>\n",
       "      <td>1.000000</td>\n",
       "      <td>1.000000</td>\n",
       "    </tr>\n",
       "    <tr>\n",
       "      <th>1</th>\n",
       "      <td>1.001457</td>\n",
       "      <td>1.002520</td>\n",
       "      <td>0.999665</td>\n",
       "      <td>0.998697</td>\n",
       "      <td>0.998691</td>\n",
       "      <td>1.000269</td>\n",
       "      <td>0.996677</td>\n",
       "      <td>0.993480</td>\n",
       "      <td>1.003911</td>\n",
       "      <td>1.002484</td>\n",
       "      <td>...</td>\n",
       "      <td>0.997819</td>\n",
       "      <td>0.998891</td>\n",
       "      <td>0.998428</td>\n",
       "      <td>0.998812</td>\n",
       "      <td>1.002246</td>\n",
       "      <td>0.999668</td>\n",
       "      <td>0.997069</td>\n",
       "      <td>0.998627</td>\n",
       "      <td>1.002109</td>\n",
       "      <td>1.001550</td>\n",
       "    </tr>\n",
       "    <tr>\n",
       "      <th>2</th>\n",
       "      <td>0.995930</td>\n",
       "      <td>0.995661</td>\n",
       "      <td>0.999036</td>\n",
       "      <td>0.997058</td>\n",
       "      <td>0.994164</td>\n",
       "      <td>1.002017</td>\n",
       "      <td>0.997484</td>\n",
       "      <td>0.991333</td>\n",
       "      <td>1.000734</td>\n",
       "      <td>1.001409</td>\n",
       "      <td>...</td>\n",
       "      <td>0.994038</td>\n",
       "      <td>1.005466</td>\n",
       "      <td>1.003259</td>\n",
       "      <td>0.995550</td>\n",
       "      <td>1.000150</td>\n",
       "      <td>0.997639</td>\n",
       "      <td>0.992705</td>\n",
       "      <td>0.998502</td>\n",
       "      <td>1.004018</td>\n",
       "      <td>1.001253</td>\n",
       "    </tr>\n",
       "    <tr>\n",
       "      <th>3</th>\n",
       "      <td>0.994612</td>\n",
       "      <td>0.990605</td>\n",
       "      <td>0.998913</td>\n",
       "      <td>0.998790</td>\n",
       "      <td>0.999808</td>\n",
       "      <td>0.995081</td>\n",
       "      <td>0.992781</td>\n",
       "      <td>0.992192</td>\n",
       "      <td>0.998343</td>\n",
       "      <td>1.002142</td>\n",
       "      <td>...</td>\n",
       "      <td>0.990873</td>\n",
       "      <td>1.005452</td>\n",
       "      <td>1.002069</td>\n",
       "      <td>0.993179</td>\n",
       "      <td>1.003356</td>\n",
       "      <td>0.995724</td>\n",
       "      <td>0.992872</td>\n",
       "      <td>0.999156</td>\n",
       "      <td>1.001972</td>\n",
       "      <td>1.002528</td>\n",
       "    </tr>\n",
       "    <tr>\n",
       "      <th>4</th>\n",
       "      <td>0.999408</td>\n",
       "      <td>0.990570</td>\n",
       "      <td>0.998033</td>\n",
       "      <td>1.000038</td>\n",
       "      <td>1.001961</td>\n",
       "      <td>0.988484</td>\n",
       "      <td>0.993060</td>\n",
       "      <td>0.995769</td>\n",
       "      <td>1.001966</td>\n",
       "      <td>1.005292</td>\n",
       "      <td>...</td>\n",
       "      <td>0.993249</td>\n",
       "      <td>1.011895</td>\n",
       "      <td>0.996591</td>\n",
       "      <td>0.995455</td>\n",
       "      <td>1.005741</td>\n",
       "      <td>1.001750</td>\n",
       "      <td>0.987115</td>\n",
       "      <td>1.000112</td>\n",
       "      <td>1.005740</td>\n",
       "      <td>0.998211</td>\n",
       "    </tr>\n",
       "    <tr>\n",
       "      <th>...</th>\n",
       "      <td>...</td>\n",
       "      <td>...</td>\n",
       "      <td>...</td>\n",
       "      <td>...</td>\n",
       "      <td>...</td>\n",
       "      <td>...</td>\n",
       "      <td>...</td>\n",
       "      <td>...</td>\n",
       "      <td>...</td>\n",
       "      <td>...</td>\n",
       "      <td>...</td>\n",
       "      <td>...</td>\n",
       "      <td>...</td>\n",
       "      <td>...</td>\n",
       "      <td>...</td>\n",
       "      <td>...</td>\n",
       "      <td>...</td>\n",
       "      <td>...</td>\n",
       "      <td>...</td>\n",
       "      <td>...</td>\n",
       "      <td>...</td>\n",
       "    </tr>\n",
       "    <tr>\n",
       "      <th>7556</th>\n",
       "      <td>11.036237</td>\n",
       "      <td>11.935345</td>\n",
       "      <td>12.680925</td>\n",
       "      <td>12.155877</td>\n",
       "      <td>16.652027</td>\n",
       "      <td>8.142500</td>\n",
       "      <td>7.372395</td>\n",
       "      <td>7.080790</td>\n",
       "      <td>9.788667</td>\n",
       "      <td>14.211544</td>\n",
       "      <td>...</td>\n",
       "      <td>11.978419</td>\n",
       "      <td>16.547298</td>\n",
       "      <td>14.371326</td>\n",
       "      <td>15.723895</td>\n",
       "      <td>6.664502</td>\n",
       "      <td>11.848337</td>\n",
       "      <td>10.698201</td>\n",
       "      <td>10.858491</td>\n",
       "      <td>11.609781</td>\n",
       "      <td>10.348995</td>\n",
       "    </tr>\n",
       "    <tr>\n",
       "      <th>7557</th>\n",
       "      <td>11.141495</td>\n",
       "      <td>11.878634</td>\n",
       "      <td>12.711574</td>\n",
       "      <td>12.162669</td>\n",
       "      <td>16.603354</td>\n",
       "      <td>8.152779</td>\n",
       "      <td>7.403839</td>\n",
       "      <td>7.086381</td>\n",
       "      <td>9.717422</td>\n",
       "      <td>14.215924</td>\n",
       "      <td>...</td>\n",
       "      <td>12.001720</td>\n",
       "      <td>16.683912</td>\n",
       "      <td>14.379127</td>\n",
       "      <td>15.805945</td>\n",
       "      <td>6.653605</td>\n",
       "      <td>11.730466</td>\n",
       "      <td>10.685738</td>\n",
       "      <td>10.910788</td>\n",
       "      <td>11.648739</td>\n",
       "      <td>10.407582</td>\n",
       "    </tr>\n",
       "    <tr>\n",
       "      <th>7558</th>\n",
       "      <td>11.124917</td>\n",
       "      <td>11.866825</td>\n",
       "      <td>12.759350</td>\n",
       "      <td>12.102728</td>\n",
       "      <td>16.619444</td>\n",
       "      <td>8.210713</td>\n",
       "      <td>7.458910</td>\n",
       "      <td>7.025348</td>\n",
       "      <td>9.741028</td>\n",
       "      <td>14.179799</td>\n",
       "      <td>...</td>\n",
       "      <td>11.993251</td>\n",
       "      <td>16.739022</td>\n",
       "      <td>14.378996</td>\n",
       "      <td>15.759938</td>\n",
       "      <td>6.704590</td>\n",
       "      <td>11.767506</td>\n",
       "      <td>10.665759</td>\n",
       "      <td>10.942133</td>\n",
       "      <td>11.642249</td>\n",
       "      <td>10.413162</td>\n",
       "    </tr>\n",
       "    <tr>\n",
       "      <th>7559</th>\n",
       "      <td>11.099089</td>\n",
       "      <td>11.879225</td>\n",
       "      <td>12.726912</td>\n",
       "      <td>12.145551</td>\n",
       "      <td>16.599673</td>\n",
       "      <td>8.275259</td>\n",
       "      <td>7.443272</td>\n",
       "      <td>7.044502</td>\n",
       "      <td>9.640026</td>\n",
       "      <td>14.139079</td>\n",
       "      <td>...</td>\n",
       "      <td>11.959236</td>\n",
       "      <td>16.783076</td>\n",
       "      <td>14.368447</td>\n",
       "      <td>15.727072</td>\n",
       "      <td>6.693695</td>\n",
       "      <td>11.770218</td>\n",
       "      <td>10.692097</td>\n",
       "      <td>10.956128</td>\n",
       "      <td>11.654414</td>\n",
       "      <td>10.412263</td>\n",
       "    </tr>\n",
       "    <tr>\n",
       "      <th>7560</th>\n",
       "      <td>11.086957</td>\n",
       "      <td>11.992698</td>\n",
       "      <td>12.823974</td>\n",
       "      <td>12.062305</td>\n",
       "      <td>16.727729</td>\n",
       "      <td>8.322478</td>\n",
       "      <td>7.435653</td>\n",
       "      <td>7.044083</td>\n",
       "      <td>9.607923</td>\n",
       "      <td>14.092316</td>\n",
       "      <td>...</td>\n",
       "      <td>11.978742</td>\n",
       "      <td>16.807031</td>\n",
       "      <td>14.435113</td>\n",
       "      <td>15.680271</td>\n",
       "      <td>6.726482</td>\n",
       "      <td>11.788689</td>\n",
       "      <td>10.690764</td>\n",
       "      <td>10.987674</td>\n",
       "      <td>11.626923</td>\n",
       "      <td>10.426041</td>\n",
       "    </tr>\n",
       "  </tbody>\n",
       "</table>\n",
       "<p>7561 rows × 500 columns</p>\n",
       "</div>"
      ],
      "text/plain": [
       "            0          1          2          3          4         5    \\\n",
       "0      1.000000   1.000000   1.000000   1.000000   1.000000  1.000000   \n",
       "1      1.001457   1.002520   0.999665   0.998697   0.998691  1.000269   \n",
       "2      0.995930   0.995661   0.999036   0.997058   0.994164  1.002017   \n",
       "3      0.994612   0.990605   0.998913   0.998790   0.999808  0.995081   \n",
       "4      0.999408   0.990570   0.998033   1.000038   1.001961  0.988484   \n",
       "...         ...        ...        ...        ...        ...       ...   \n",
       "7556  11.036237  11.935345  12.680925  12.155877  16.652027  8.142500   \n",
       "7557  11.141495  11.878634  12.711574  12.162669  16.603354  8.152779   \n",
       "7558  11.124917  11.866825  12.759350  12.102728  16.619444  8.210713   \n",
       "7559  11.099089  11.879225  12.726912  12.145551  16.599673  8.275259   \n",
       "7560  11.086957  11.992698  12.823974  12.062305  16.727729  8.322478   \n",
       "\n",
       "           6         7         8          9    ...        490        491  \\\n",
       "0     1.000000  1.000000  1.000000   1.000000  ...   1.000000   1.000000   \n",
       "1     0.996677  0.993480  1.003911   1.002484  ...   0.997819   0.998891   \n",
       "2     0.997484  0.991333  1.000734   1.001409  ...   0.994038   1.005466   \n",
       "3     0.992781  0.992192  0.998343   1.002142  ...   0.990873   1.005452   \n",
       "4     0.993060  0.995769  1.001966   1.005292  ...   0.993249   1.011895   \n",
       "...        ...       ...       ...        ...  ...        ...        ...   \n",
       "7556  7.372395  7.080790  9.788667  14.211544  ...  11.978419  16.547298   \n",
       "7557  7.403839  7.086381  9.717422  14.215924  ...  12.001720  16.683912   \n",
       "7558  7.458910  7.025348  9.741028  14.179799  ...  11.993251  16.739022   \n",
       "7559  7.443272  7.044502  9.640026  14.139079  ...  11.959236  16.783076   \n",
       "7560  7.435653  7.044083  9.607923  14.092316  ...  11.978742  16.807031   \n",
       "\n",
       "            492        493       494        495        496        497  \\\n",
       "0      1.000000   1.000000  1.000000   1.000000   1.000000   1.000000   \n",
       "1      0.998428   0.998812  1.002246   0.999668   0.997069   0.998627   \n",
       "2      1.003259   0.995550  1.000150   0.997639   0.992705   0.998502   \n",
       "3      1.002069   0.993179  1.003356   0.995724   0.992872   0.999156   \n",
       "4      0.996591   0.995455  1.005741   1.001750   0.987115   1.000112   \n",
       "...         ...        ...       ...        ...        ...        ...   \n",
       "7556  14.371326  15.723895  6.664502  11.848337  10.698201  10.858491   \n",
       "7557  14.379127  15.805945  6.653605  11.730466  10.685738  10.910788   \n",
       "7558  14.378996  15.759938  6.704590  11.767506  10.665759  10.942133   \n",
       "7559  14.368447  15.727072  6.693695  11.770218  10.692097  10.956128   \n",
       "7560  14.435113  15.680271  6.726482  11.788689  10.690764  10.987674   \n",
       "\n",
       "            498        499  \n",
       "0      1.000000   1.000000  \n",
       "1      1.002109   1.001550  \n",
       "2      1.004018   1.001253  \n",
       "3      1.001972   1.002528  \n",
       "4      1.005740   0.998211  \n",
       "...         ...        ...  \n",
       "7556  11.609781  10.348995  \n",
       "7557  11.648739  10.407582  \n",
       "7558  11.642249  10.413162  \n",
       "7559  11.654414  10.412263  \n",
       "7560  11.626923  10.426041  \n",
       "\n",
       "[7561 rows x 500 columns]"
      ]
     },
     "execution_count": 32,
     "metadata": {},
     "output_type": "execute_result"
    }
   ],
   "source": [
    "# Run the Monte Carlo simulation to forecast 30 years cumulative returns\n",
    "MC_even_weight.calc_cumulative_return()"
   ]
  },
  {
   "cell_type": "code",
   "execution_count": 33,
   "metadata": {},
   "outputs": [
    {
     "data": {
      "image/png": "[encoded data removed]",
      "text/plain": [
       "<Figure size 432x288 with 1 Axes>"
      ]
     },
     "metadata": {
      "needs_background": "light"
     },
     "output_type": "display_data"
    }
   ],
   "source": [
    "# Visualize the 30-year Monte Carlo simulation by creating an\n",
    "# overlay line plot\n",
    "even_weight_line_plot = MC_even_weight.plot_simulation()"
   ]
  },
  {
   "cell_type": "markdown",
   "metadata": {},
   "source": [
    "#### Step 3: Plot the probability distribution of the Monte Carlo simulation."
   ]
  },
  {
   "cell_type": "code",
   "execution_count": 34,
   "metadata": {},
   "outputs": [
    {
     "data": {
      "image/png": "[encoded data removed]",
      "text/plain": [
       "<Figure size 432x288 with 1 Axes>"
      ]
     },
     "metadata": {
      "needs_background": "light"
     },
     "output_type": "display_data"
    }
   ],
   "source": [
    "# Visualize the probability distribution of the 30-year Monte Carlo simulation \n",
    "# by plotting a histogram\n",
    "even_weight_distribution_plot = MC_even_weight.plot_distribution()"
   ]
  },
  {
   "cell_type": "markdown",
   "metadata": {},
   "source": [
    "#### Step 4: Generate the summary statistics for the Monte Carlo simulation."
   ]
  },
  {
   "cell_type": "code",
   "execution_count": 35,
   "metadata": {},
   "outputs": [
    {
     "name": "stdout",
     "output_type": "stream",
     "text": [
      "count           500.000000\n",
      "mean             13.465953\n",
      "std               4.412371\n",
      "min               4.544810\n",
      "25%              10.371266\n",
      "50%              12.625911\n",
      "75%              16.291928\n",
      "max              35.176620\n",
      "95% CI Lower      6.803046\n",
      "95% CI Upper     23.603043\n",
      "Name: 7560, dtype: float64\n"
     ]
    }
   ],
   "source": [
    "# Generate summary statistics from the 30-year Monte Carlo simulation results\n",
    "# Save the results as a variable\n",
    "even_weight_table = MC_even_weight.summarize_cumulative_return()\n",
    "\n",
    "# Review the 30-year Monte Carlo summary statistics\n",
    "# Print the table of summary statistics\n",
    "print(even_weight_table)"
   ]
  },
  {
   "cell_type": "markdown",
   "metadata": {},
   "source": [
    "### Analyze the Retirement Portfolio Forecasts\n",
    "\n",
    "Using the current value of only the stock and bond portion of the member's portfolio and the summary statistics that you generated from the Monte Carlo simulation, answer the following question in your Jupyter notebook:\n",
    "\n",
    "-  What are the lower and upper bounds for the expected value of the portfolio with a 95% confidence interval?\n"
   ]
  },
  {
   "cell_type": "code",
   "execution_count": 36,
   "metadata": {},
   "outputs": [
    {
     "name": "stdout",
     "output_type": "stream",
     "text": [
      "The total bonds/stocks porfolio value is $68803.00\n"
     ]
    }
   ],
   "source": [
    "# Print the current balance of the stock and bond portion of the members portfolio\n",
    "print(f\"The total bonds/stocks porfolio value is ${total_stocks_bonds:.2f}\")"
   ]
  },
  {
   "cell_type": "code",
   "execution_count": 37,
   "metadata": {},
   "outputs": [
    {
     "name": "stdout",
     "output_type": "stream",
     "text": [
      "There is a 95% chance that the investment of $68803.00 in the portfolio with Bonds/Stocks 60/40 weight portfolio over the next 30 years will end within in the range of $468069.95 and $1623960.18.\n"
     ]
    }
   ],
   "source": [
    "# Use the lower and upper `95%` confidence intervals to calculate the range of the possible outcomes for the current stock/bond portfolio\n",
    "ci_lower_thirty_cumulative_return = round(even_weight_table[8]*total_stocks_bonds,2)\n",
    "ci_upper_thirty_cumulative_return = round(even_weight_table[9]*total_stocks_bonds,2)\n",
    "\n",
    "# Print results of your calculations\n",
    "print(f\"There is a 95% chance that the investment of ${total_stocks_bonds:.2f} in the portfolio\"\n",
    "      f\" with Bonds/Stocks 60/40 weight portfolio over the next 30 years will end within in the range of\"\n",
    "      f\" ${ci_lower_thirty_cumulative_return} and ${ci_upper_thirty_cumulative_return}.\")"
   ]
  },
  {
   "cell_type": "markdown",
   "metadata": {},
   "source": [
    "### Forecast Cumulative Returns in 10 Years\n",
    "\n",
    "The CTO of the credit union is impressed with your work on these planning tools but wonders if 30 years is a long time to wait until retirement. So, your next task is to adjust the retirement portfolio and run a new Monte Carlo simulation to find out if the changes will allow members to retire earlier.\n",
    "\n",
    "For this new Monte Carlo simulation, do the following: \n",
    "\n",
    "- Forecast the cumulative returns for 10 years from now. Because of the shortened investment horizon (30 years to 10 years), the portfolio needs to invest more heavily in the riskier asset&mdash;that is, stock&mdash;to help accumulate wealth for retirement. \n",
    "\n",
    "- Adjust the weights of the retirement portfolio so that the composition for the Monte Carlo simulation consists of 20% bonds and 80% stocks. \n",
    "\n",
    "- Run the simulation over 500 samples, and use the same data that the API call to Alpaca generated.\n",
    "\n",
    "- Based on the new Monte Carlo simulation, answer the following questions in your Jupyter notebook:\n",
    "\n",
    "    - Using the current value of only the stock and bond portion of the member's portfolio and the summary statistics that you generated from the new Monte Carlo simulation, what are the lower and upper bounds for the expected value of the portfolio (with the new weights) with a 95% confidence interval?\n",
    "\n",
    "    - Will weighting the portfolio more heavily toward stocks allow the credit union members to retire after only 10 years?\n"
   ]
  },
  {
   "cell_type": "code",
   "execution_count": 38,
   "metadata": {},
   "outputs": [
    {
     "data": {
      "text/html": [
       "<div>\n",
       "<style scoped>\n",
       "    .dataframe tbody tr th:only-of-type {\n",
       "        vertical-align: middle;\n",
       "    }\n",
       "\n",
       "    .dataframe tbody tr th {\n",
       "        vertical-align: top;\n",
       "    }\n",
       "\n",
       "    .dataframe thead tr th {\n",
       "        text-align: left;\n",
       "    }\n",
       "\n",
       "    .dataframe thead tr:last-of-type th {\n",
       "        text-align: right;\n",
       "    }\n",
       "</style>\n",
       "<table border=\"1\" class=\"dataframe\">\n",
       "  <thead>\n",
       "    <tr>\n",
       "      <th></th>\n",
       "      <th colspan=\"6\" halign=\"left\">AGG</th>\n",
       "      <th colspan=\"6\" halign=\"left\">SPY</th>\n",
       "    </tr>\n",
       "    <tr>\n",
       "      <th></th>\n",
       "      <th>open</th>\n",
       "      <th>high</th>\n",
       "      <th>low</th>\n",
       "      <th>close</th>\n",
       "      <th>volume</th>\n",
       "      <th>daily_return</th>\n",
       "      <th>open</th>\n",
       "      <th>high</th>\n",
       "      <th>low</th>\n",
       "      <th>close</th>\n",
       "      <th>volume</th>\n",
       "      <th>daily_return</th>\n",
       "    </tr>\n",
       "    <tr>\n",
       "      <th>time</th>\n",
       "      <th></th>\n",
       "      <th></th>\n",
       "      <th></th>\n",
       "      <th></th>\n",
       "      <th></th>\n",
       "      <th></th>\n",
       "      <th></th>\n",
       "      <th></th>\n",
       "      <th></th>\n",
       "      <th></th>\n",
       "      <th></th>\n",
       "      <th></th>\n",
       "    </tr>\n",
       "  </thead>\n",
       "  <tbody>\n",
       "    <tr>\n",
       "      <th>2020-12-07 00:00:00-05:00</th>\n",
       "      <td>117.76</td>\n",
       "      <td>117.8262</td>\n",
       "      <td>117.6900</td>\n",
       "      <td>117.75</td>\n",
       "      <td>4689469</td>\n",
       "      <td>NaN</td>\n",
       "      <td>369.02</td>\n",
       "      <td>369.6200</td>\n",
       "      <td>367.72</td>\n",
       "      <td>369.1200</td>\n",
       "      <td>40456544</td>\n",
       "      <td>NaN</td>\n",
       "    </tr>\n",
       "    <tr>\n",
       "      <th>2020-12-08 00:00:00-05:00</th>\n",
       "      <td>117.88</td>\n",
       "      <td>117.9597</td>\n",
       "      <td>117.7500</td>\n",
       "      <td>117.77</td>\n",
       "      <td>3587353</td>\n",
       "      <td>0.000170</td>\n",
       "      <td>367.72</td>\n",
       "      <td>370.7800</td>\n",
       "      <td>367.67</td>\n",
       "      <td>370.1599</td>\n",
       "      <td>32702217</td>\n",
       "      <td>0.002817</td>\n",
       "    </tr>\n",
       "    <tr>\n",
       "      <th>2020-12-09 00:00:00-05:00</th>\n",
       "      <td>117.73</td>\n",
       "      <td>117.7800</td>\n",
       "      <td>117.5172</td>\n",
       "      <td>117.62</td>\n",
       "      <td>4720359</td>\n",
       "      <td>-0.001274</td>\n",
       "      <td>370.88</td>\n",
       "      <td>371.0500</td>\n",
       "      <td>365.95</td>\n",
       "      <td>366.8900</td>\n",
       "      <td>60700254</td>\n",
       "      <td>-0.008834</td>\n",
       "    </tr>\n",
       "    <tr>\n",
       "      <th>2020-12-10 00:00:00-05:00</th>\n",
       "      <td>117.74</td>\n",
       "      <td>117.9300</td>\n",
       "      <td>117.6900</td>\n",
       "      <td>117.88</td>\n",
       "      <td>4694024</td>\n",
       "      <td>0.002211</td>\n",
       "      <td>365.37</td>\n",
       "      <td>367.8600</td>\n",
       "      <td>364.43</td>\n",
       "      <td>366.7200</td>\n",
       "      <td>47851654</td>\n",
       "      <td>-0.000463</td>\n",
       "    </tr>\n",
       "    <tr>\n",
       "      <th>2020-12-11 00:00:00-05:00</th>\n",
       "      <td>118.01</td>\n",
       "      <td>118.0900</td>\n",
       "      <td>117.9500</td>\n",
       "      <td>118.03</td>\n",
       "      <td>5537449</td>\n",
       "      <td>0.001272</td>\n",
       "      <td>364.90</td>\n",
       "      <td>366.7402</td>\n",
       "      <td>363.26</td>\n",
       "      <td>366.2800</td>\n",
       "      <td>47917103</td>\n",
       "      <td>-0.001200</td>\n",
       "    </tr>\n",
       "  </tbody>\n",
       "</table>\n",
       "</div>"
      ],
      "text/plain": [
       "                              AGG                                       \\\n",
       "                             open      high       low   close   volume   \n",
       "time                                                                     \n",
       "2020-12-07 00:00:00-05:00  117.76  117.8262  117.6900  117.75  4689469   \n",
       "2020-12-08 00:00:00-05:00  117.88  117.9597  117.7500  117.77  3587353   \n",
       "2020-12-09 00:00:00-05:00  117.73  117.7800  117.5172  117.62  4720359   \n",
       "2020-12-10 00:00:00-05:00  117.74  117.9300  117.6900  117.88  4694024   \n",
       "2020-12-11 00:00:00-05:00  118.01  118.0900  117.9500  118.03  5537449   \n",
       "\n",
       "                                           SPY                              \\\n",
       "                          daily_return    open      high     low     close   \n",
       "time                                                                         \n",
       "2020-12-07 00:00:00-05:00          NaN  369.02  369.6200  367.72  369.1200   \n",
       "2020-12-08 00:00:00-05:00     0.000170  367.72  370.7800  367.67  370.1599   \n",
       "2020-12-09 00:00:00-05:00    -0.001274  370.88  371.0500  365.95  366.8900   \n",
       "2020-12-10 00:00:00-05:00     0.002211  365.37  367.8600  364.43  366.7200   \n",
       "2020-12-11 00:00:00-05:00     0.001272  364.90  366.7402  363.26  366.2800   \n",
       "\n",
       "                                                  \n",
       "                             volume daily_return  \n",
       "time                                              \n",
       "2020-12-07 00:00:00-05:00  40456544          NaN  \n",
       "2020-12-08 00:00:00-05:00  32702217     0.002817  \n",
       "2020-12-09 00:00:00-05:00  60700254    -0.008834  \n",
       "2020-12-10 00:00:00-05:00  47851654    -0.000463  \n",
       "2020-12-11 00:00:00-05:00  47917103    -0.001200  "
      ]
     },
     "execution_count": 38,
     "metadata": {},
     "output_type": "execute_result"
    }
   ],
   "source": [
    "# Configure a Monte Carlo simulation to forecast 10 years cumulative returns\n",
    "# The weights should be split 20% to AGG and 80% to SPY.\n",
    "# Run 500 samples.\n",
    "MC_riskier = MCSimulation(\n",
    "    portfolio_data = price_10yr_df,\n",
    "    weights = [.20,.80],\n",
    "    num_simulation = 500,\n",
    "    num_trading_days = 252*10)\n",
    "\n",
    "# Printing the first five rows of the simulation input data\n",
    "MC_riskier.portfolio_data.head()"
   ]
  },
  {
   "cell_type": "code",
   "execution_count": 39,
   "metadata": {},
   "outputs": [
    {
     "name": "stdout",
     "output_type": "stream",
     "text": [
      "Running Monte Carlo simulation number 0.\n",
      "Running Monte Carlo simulation number 10.\n",
      "Running Monte Carlo simulation number 20.\n",
      "Running Monte Carlo simulation number 30.\n",
      "Running Monte Carlo simulation number 40.\n",
      "Running Monte Carlo simulation number 50.\n",
      "Running Monte Carlo simulation number 60.\n",
      "Running Monte Carlo simulation number 70.\n",
      "Running Monte Carlo simulation number 80.\n",
      "Running Monte Carlo simulation number 90.\n",
      "Running Monte Carlo simulation number 100.\n",
      "Running Monte Carlo simulation number 110.\n",
      "Running Monte Carlo simulation number 120.\n",
      "Running Monte Carlo simulation number 130.\n",
      "Running Monte Carlo simulation number 140.\n",
      "Running Monte Carlo simulation number 150.\n",
      "Running Monte Carlo simulation number 160.\n",
      "Running Monte Carlo simulation number 170.\n",
      "Running Monte Carlo simulation number 180.\n",
      "Running Monte Carlo simulation number 190.\n",
      "Running Monte Carlo simulation number 200.\n",
      "Running Monte Carlo simulation number 210.\n",
      "Running Monte Carlo simulation number 220.\n",
      "Running Monte Carlo simulation number 230.\n",
      "Running Monte Carlo simulation number 240.\n",
      "Running Monte Carlo simulation number 250.\n",
      "Running Monte Carlo simulation number 260.\n",
      "Running Monte Carlo simulation number 270.\n",
      "Running Monte Carlo simulation number 280.\n",
      "Running Monte Carlo simulation number 290.\n",
      "Running Monte Carlo simulation number 300.\n",
      "Running Monte Carlo simulation number 310.\n",
      "Running Monte Carlo simulation number 320.\n",
      "Running Monte Carlo simulation number 330.\n",
      "Running Monte Carlo simulation number 340.\n",
      "Running Monte Carlo simulation number 350.\n",
      "Running Monte Carlo simulation number 360.\n",
      "Running Monte Carlo simulation number 370.\n",
      "Running Monte Carlo simulation number 380.\n",
      "Running Monte Carlo simulation number 390.\n",
      "Running Monte Carlo simulation number 400.\n",
      "Running Monte Carlo simulation number 410.\n",
      "Running Monte Carlo simulation number 420.\n",
      "Running Monte Carlo simulation number 430.\n",
      "Running Monte Carlo simulation number 440.\n",
      "Running Monte Carlo simulation number 450.\n",
      "Running Monte Carlo simulation number 460.\n",
      "Running Monte Carlo simulation number 470.\n",
      "Running Monte Carlo simulation number 480.\n",
      "Running Monte Carlo simulation number 490.\n"
     ]
    },
    {
     "data": {
      "text/html": [
       "<div>\n",
       "<style scoped>\n",
       "    .dataframe tbody tr th:only-of-type {\n",
       "        vertical-align: middle;\n",
       "    }\n",
       "\n",
       "    .dataframe tbody tr th {\n",
       "        vertical-align: top;\n",
       "    }\n",
       "\n",
       "    .dataframe thead th {\n",
       "        text-align: right;\n",
       "    }\n",
       "</style>\n",
       "<table border=\"1\" class=\"dataframe\">\n",
       "  <thead>\n",
       "    <tr style=\"text-align: right;\">\n",
       "      <th></th>\n",
       "      <th>0</th>\n",
       "      <th>1</th>\n",
       "      <th>2</th>\n",
       "      <th>3</th>\n",
       "      <th>4</th>\n",
       "      <th>5</th>\n",
       "      <th>6</th>\n",
       "      <th>7</th>\n",
       "      <th>8</th>\n",
       "      <th>9</th>\n",
       "      <th>...</th>\n",
       "      <th>490</th>\n",
       "      <th>491</th>\n",
       "      <th>492</th>\n",
       "      <th>493</th>\n",
       "      <th>494</th>\n",
       "      <th>495</th>\n",
       "      <th>496</th>\n",
       "      <th>497</th>\n",
       "      <th>498</th>\n",
       "      <th>499</th>\n",
       "    </tr>\n",
       "  </thead>\n",
       "  <tbody>\n",
       "    <tr>\n",
       "      <th>0</th>\n",
       "      <td>1.000000</td>\n",
       "      <td>1.000000</td>\n",
       "      <td>1.000000</td>\n",
       "      <td>1.000000</td>\n",
       "      <td>1.000000</td>\n",
       "      <td>1.000000</td>\n",
       "      <td>1.000000</td>\n",
       "      <td>1.000000</td>\n",
       "      <td>1.000000</td>\n",
       "      <td>1.000000</td>\n",
       "      <td>...</td>\n",
       "      <td>1.000000</td>\n",
       "      <td>1.000000</td>\n",
       "      <td>1.000000</td>\n",
       "      <td>1.000000</td>\n",
       "      <td>1.000000</td>\n",
       "      <td>1.000000</td>\n",
       "      <td>1.000000</td>\n",
       "      <td>1.000000</td>\n",
       "      <td>1.000000</td>\n",
       "      <td>1.000000</td>\n",
       "    </tr>\n",
       "    <tr>\n",
       "      <th>1</th>\n",
       "      <td>0.991738</td>\n",
       "      <td>1.007740</td>\n",
       "      <td>0.993068</td>\n",
       "      <td>1.002021</td>\n",
       "      <td>1.002236</td>\n",
       "      <td>0.999182</td>\n",
       "      <td>1.005841</td>\n",
       "      <td>1.001102</td>\n",
       "      <td>1.015976</td>\n",
       "      <td>1.000135</td>\n",
       "      <td>...</td>\n",
       "      <td>1.005602</td>\n",
       "      <td>1.003312</td>\n",
       "      <td>1.008653</td>\n",
       "      <td>1.004878</td>\n",
       "      <td>1.009654</td>\n",
       "      <td>1.011704</td>\n",
       "      <td>0.995499</td>\n",
       "      <td>0.993956</td>\n",
       "      <td>1.001944</td>\n",
       "      <td>1.013911</td>\n",
       "    </tr>\n",
       "    <tr>\n",
       "      <th>2</th>\n",
       "      <td>0.996940</td>\n",
       "      <td>1.006198</td>\n",
       "      <td>1.004445</td>\n",
       "      <td>1.000088</td>\n",
       "      <td>0.996703</td>\n",
       "      <td>1.003250</td>\n",
       "      <td>1.007701</td>\n",
       "      <td>1.006776</td>\n",
       "      <td>1.022545</td>\n",
       "      <td>1.009868</td>\n",
       "      <td>...</td>\n",
       "      <td>1.022036</td>\n",
       "      <td>1.003986</td>\n",
       "      <td>0.997854</td>\n",
       "      <td>1.009279</td>\n",
       "      <td>0.994547</td>\n",
       "      <td>1.014711</td>\n",
       "      <td>1.003149</td>\n",
       "      <td>1.012651</td>\n",
       "      <td>1.007703</td>\n",
       "      <td>1.011463</td>\n",
       "    </tr>\n",
       "    <tr>\n",
       "      <th>3</th>\n",
       "      <td>0.997954</td>\n",
       "      <td>0.985912</td>\n",
       "      <td>1.004655</td>\n",
       "      <td>0.999121</td>\n",
       "      <td>1.000849</td>\n",
       "      <td>1.002673</td>\n",
       "      <td>1.009223</td>\n",
       "      <td>1.010627</td>\n",
       "      <td>1.021039</td>\n",
       "      <td>1.010869</td>\n",
       "      <td>...</td>\n",
       "      <td>1.016014</td>\n",
       "      <td>1.003179</td>\n",
       "      <td>1.008787</td>\n",
       "      <td>1.007407</td>\n",
       "      <td>0.991244</td>\n",
       "      <td>1.013282</td>\n",
       "      <td>1.016134</td>\n",
       "      <td>1.029763</td>\n",
       "      <td>1.000987</td>\n",
       "      <td>1.011430</td>\n",
       "    </tr>\n",
       "    <tr>\n",
       "      <th>4</th>\n",
       "      <td>0.996129</td>\n",
       "      <td>0.972624</td>\n",
       "      <td>1.021442</td>\n",
       "      <td>0.997669</td>\n",
       "      <td>1.015006</td>\n",
       "      <td>1.009271</td>\n",
       "      <td>1.004234</td>\n",
       "      <td>1.017895</td>\n",
       "      <td>1.016703</td>\n",
       "      <td>1.016623</td>\n",
       "      <td>...</td>\n",
       "      <td>1.017965</td>\n",
       "      <td>1.000562</td>\n",
       "      <td>1.013332</td>\n",
       "      <td>1.006827</td>\n",
       "      <td>0.994008</td>\n",
       "      <td>1.005686</td>\n",
       "      <td>1.005772</td>\n",
       "      <td>1.040024</td>\n",
       "      <td>0.987885</td>\n",
       "      <td>1.026675</td>\n",
       "    </tr>\n",
       "    <tr>\n",
       "      <th>...</th>\n",
       "      <td>...</td>\n",
       "      <td>...</td>\n",
       "      <td>...</td>\n",
       "      <td>...</td>\n",
       "      <td>...</td>\n",
       "      <td>...</td>\n",
       "      <td>...</td>\n",
       "      <td>...</td>\n",
       "      <td>...</td>\n",
       "      <td>...</td>\n",
       "      <td>...</td>\n",
       "      <td>...</td>\n",
       "      <td>...</td>\n",
       "      <td>...</td>\n",
       "      <td>...</td>\n",
       "      <td>...</td>\n",
       "      <td>...</td>\n",
       "      <td>...</td>\n",
       "      <td>...</td>\n",
       "      <td>...</td>\n",
       "      <td>...</td>\n",
       "    </tr>\n",
       "    <tr>\n",
       "      <th>2516</th>\n",
       "      <td>6.820813</td>\n",
       "      <td>12.972492</td>\n",
       "      <td>13.458106</td>\n",
       "      <td>13.936099</td>\n",
       "      <td>7.405234</td>\n",
       "      <td>8.162749</td>\n",
       "      <td>7.920491</td>\n",
       "      <td>10.977210</td>\n",
       "      <td>8.648332</td>\n",
       "      <td>7.691355</td>\n",
       "      <td>...</td>\n",
       "      <td>10.046353</td>\n",
       "      <td>10.573649</td>\n",
       "      <td>12.911354</td>\n",
       "      <td>9.783710</td>\n",
       "      <td>8.847226</td>\n",
       "      <td>9.653179</td>\n",
       "      <td>11.057828</td>\n",
       "      <td>8.186643</td>\n",
       "      <td>15.828976</td>\n",
       "      <td>10.234943</td>\n",
       "    </tr>\n",
       "    <tr>\n",
       "      <th>2517</th>\n",
       "      <td>6.790851</td>\n",
       "      <td>13.049089</td>\n",
       "      <td>13.509587</td>\n",
       "      <td>14.030003</td>\n",
       "      <td>7.312367</td>\n",
       "      <td>8.099233</td>\n",
       "      <td>8.011647</td>\n",
       "      <td>10.886653</td>\n",
       "      <td>8.702702</td>\n",
       "      <td>7.745064</td>\n",
       "      <td>...</td>\n",
       "      <td>10.139925</td>\n",
       "      <td>10.639716</td>\n",
       "      <td>12.863178</td>\n",
       "      <td>9.842103</td>\n",
       "      <td>8.968457</td>\n",
       "      <td>9.678614</td>\n",
       "      <td>11.238482</td>\n",
       "      <td>8.169688</td>\n",
       "      <td>15.669499</td>\n",
       "      <td>10.519456</td>\n",
       "    </tr>\n",
       "    <tr>\n",
       "      <th>2518</th>\n",
       "      <td>6.850606</td>\n",
       "      <td>13.098244</td>\n",
       "      <td>13.548658</td>\n",
       "      <td>13.988825</td>\n",
       "      <td>7.323001</td>\n",
       "      <td>8.035672</td>\n",
       "      <td>8.072245</td>\n",
       "      <td>10.887147</td>\n",
       "      <td>8.667093</td>\n",
       "      <td>7.795726</td>\n",
       "      <td>...</td>\n",
       "      <td>10.180313</td>\n",
       "      <td>10.693553</td>\n",
       "      <td>12.974514</td>\n",
       "      <td>9.900963</td>\n",
       "      <td>8.910778</td>\n",
       "      <td>9.699742</td>\n",
       "      <td>11.386424</td>\n",
       "      <td>8.143853</td>\n",
       "      <td>15.856249</td>\n",
       "      <td>10.552523</td>\n",
       "    </tr>\n",
       "    <tr>\n",
       "      <th>2519</th>\n",
       "      <td>6.866831</td>\n",
       "      <td>13.119116</td>\n",
       "      <td>13.415012</td>\n",
       "      <td>13.949463</td>\n",
       "      <td>7.407317</td>\n",
       "      <td>8.060150</td>\n",
       "      <td>8.072277</td>\n",
       "      <td>10.926032</td>\n",
       "      <td>8.684210</td>\n",
       "      <td>7.859703</td>\n",
       "      <td>...</td>\n",
       "      <td>10.188295</td>\n",
       "      <td>10.715432</td>\n",
       "      <td>12.921508</td>\n",
       "      <td>9.802656</td>\n",
       "      <td>9.008200</td>\n",
       "      <td>9.726138</td>\n",
       "      <td>11.442000</td>\n",
       "      <td>8.187264</td>\n",
       "      <td>15.997886</td>\n",
       "      <td>10.590215</td>\n",
       "    </tr>\n",
       "    <tr>\n",
       "      <th>2520</th>\n",
       "      <td>6.839437</td>\n",
       "      <td>13.114044</td>\n",
       "      <td>13.270637</td>\n",
       "      <td>14.024193</td>\n",
       "      <td>7.439320</td>\n",
       "      <td>8.090188</td>\n",
       "      <td>8.044935</td>\n",
       "      <td>10.985814</td>\n",
       "      <td>8.636144</td>\n",
       "      <td>7.913262</td>\n",
       "      <td>...</td>\n",
       "      <td>10.257459</td>\n",
       "      <td>10.587122</td>\n",
       "      <td>12.905299</td>\n",
       "      <td>9.871908</td>\n",
       "      <td>9.043828</td>\n",
       "      <td>9.815198</td>\n",
       "      <td>11.366641</td>\n",
       "      <td>8.180894</td>\n",
       "      <td>16.096994</td>\n",
       "      <td>10.598115</td>\n",
       "    </tr>\n",
       "  </tbody>\n",
       "</table>\n",
       "<p>2521 rows × 500 columns</p>\n",
       "</div>"
      ],
      "text/plain": [
       "           0          1          2          3         4         5         6    \\\n",
       "0     1.000000   1.000000   1.000000   1.000000  1.000000  1.000000  1.000000   \n",
       "1     0.991738   1.007740   0.993068   1.002021  1.002236  0.999182  1.005841   \n",
       "2     0.996940   1.006198   1.004445   1.000088  0.996703  1.003250  1.007701   \n",
       "3     0.997954   0.985912   1.004655   0.999121  1.000849  1.002673  1.009223   \n",
       "4     0.996129   0.972624   1.021442   0.997669  1.015006  1.009271  1.004234   \n",
       "...        ...        ...        ...        ...       ...       ...       ...   \n",
       "2516  6.820813  12.972492  13.458106  13.936099  7.405234  8.162749  7.920491   \n",
       "2517  6.790851  13.049089  13.509587  14.030003  7.312367  8.099233  8.011647   \n",
       "2518  6.850606  13.098244  13.548658  13.988825  7.323001  8.035672  8.072245   \n",
       "2519  6.866831  13.119116  13.415012  13.949463  7.407317  8.060150  8.072277   \n",
       "2520  6.839437  13.114044  13.270637  14.024193  7.439320  8.090188  8.044935   \n",
       "\n",
       "            7         8         9    ...        490        491        492  \\\n",
       "0      1.000000  1.000000  1.000000  ...   1.000000   1.000000   1.000000   \n",
       "1      1.001102  1.015976  1.000135  ...   1.005602   1.003312   1.008653   \n",
       "2      1.006776  1.022545  1.009868  ...   1.022036   1.003986   0.997854   \n",
       "3      1.010627  1.021039  1.010869  ...   1.016014   1.003179   1.008787   \n",
       "4      1.017895  1.016703  1.016623  ...   1.017965   1.000562   1.013332   \n",
       "...         ...       ...       ...  ...        ...        ...        ...   \n",
       "2516  10.977210  8.648332  7.691355  ...  10.046353  10.573649  12.911354   \n",
       "2517  10.886653  8.702702  7.745064  ...  10.139925  10.639716  12.863178   \n",
       "2518  10.887147  8.667093  7.795726  ...  10.180313  10.693553  12.974514   \n",
       "2519  10.926032  8.684210  7.859703  ...  10.188295  10.715432  12.921508   \n",
       "2520  10.985814  8.636144  7.913262  ...  10.257459  10.587122  12.905299   \n",
       "\n",
       "           493       494       495        496       497        498        499  \n",
       "0     1.000000  1.000000  1.000000   1.000000  1.000000   1.000000   1.000000  \n",
       "1     1.004878  1.009654  1.011704   0.995499  0.993956   1.001944   1.013911  \n",
       "2     1.009279  0.994547  1.014711   1.003149  1.012651   1.007703   1.011463  \n",
       "3     1.007407  0.991244  1.013282   1.016134  1.029763   1.000987   1.011430  \n",
       "4     1.006827  0.994008  1.005686   1.005772  1.040024   0.987885   1.026675  \n",
       "...        ...       ...       ...        ...       ...        ...        ...  \n",
       "2516  9.783710  8.847226  9.653179  11.057828  8.186643  15.828976  10.234943  \n",
       "2517  9.842103  8.968457  9.678614  11.238482  8.169688  15.669499  10.519456  \n",
       "2518  9.900963  8.910778  9.699742  11.386424  8.143853  15.856249  10.552523  \n",
       "2519  9.802656  9.008200  9.726138  11.442000  8.187264  15.997886  10.590215  \n",
       "2520  9.871908  9.043828  9.815198  11.366641  8.180894  16.096994  10.598115  \n",
       "\n",
       "[2521 rows x 500 columns]"
      ]
     },
     "execution_count": 39,
     "metadata": {},
     "output_type": "execute_result"
    }
   ],
   "source": [
    "# Run the Monte Carlo simulation to forecast 10 years cumulative returns\n",
    "MC_riskier.calc_cumulative_return()"
   ]
  },
  {
   "cell_type": "code",
   "execution_count": 40,
   "metadata": {},
   "outputs": [
    {
     "data": {
      "image/png": "[encoded data removed]",
      "text/plain": [
       "<Figure size 432x288 with 1 Axes>"
      ]
     },
     "metadata": {
      "needs_background": "light"
     },
     "output_type": "display_data"
    }
   ],
   "source": [
    "# Visualize the 10-year Monte Carlo simulation by creating an\n",
    "# overlay line plot\n",
    "riskier_line_plot = MC_riskier.plot_simulation()\n"
   ]
  },
  {
   "cell_type": "code",
   "execution_count": 41,
   "metadata": {},
   "outputs": [
    {
     "data": {
      "image/png": "[encoded data removed]",
      "text/plain": [
       "<Figure size 432x288 with 1 Axes>"
      ]
     },
     "metadata": {
      "needs_background": "light"
     },
     "output_type": "display_data"
    }
   ],
   "source": [
    "# Visualize the probability distribution of the 10-year Monte Carlo simulation \n",
    "# by plotting a histogram\n",
    "riskier_dist_plot = MC_riskier.plot_distribution()"
   ]
  },
  {
   "cell_type": "code",
   "execution_count": 42,
   "metadata": {},
   "outputs": [
    {
     "name": "stdout",
     "output_type": "stream",
     "text": [
      "count           500.000000\n",
      "mean             11.240486\n",
      "std               4.011564\n",
      "min               3.990575\n",
      "25%               8.299100\n",
      "50%              10.593009\n",
      "75%              13.373806\n",
      "max              38.235844\n",
      "95% CI Lower      5.280518\n",
      "95% CI Upper     20.182993\n",
      "Name: 2520, dtype: float64\n"
     ]
    }
   ],
   "source": [
    "# Generate summary statistics from the 10-year Monte Carlo simulation results\n",
    "# Save the results as a variable\n",
    "riskier_table = MC_riskier.summarize_cumulative_return()\n",
    "\n",
    "# Review the 10-year Monte Carlo summary statistics\n",
    "print(riskier_table)"
   ]
  },
  {
   "cell_type": "markdown",
   "metadata": {},
   "source": [
    "### Answer the following questions:"
   ]
  },
  {
   "cell_type": "markdown",
   "metadata": {},
   "source": [
    "#### Question: Using the current value of only the stock and bond portion of the member's portfolio and the summary statistics that you generated from the new Monte Carlo simulation, what are the lower and upper bounds for the expected value of the portfolio (with the new weights) with a 95% confidence interval?"
   ]
  },
  {
   "cell_type": "code",
   "execution_count": 43,
   "metadata": {},
   "outputs": [
    {
     "name": "stdout",
     "output_type": "stream",
     "text": [
      "The total bonds/stocks porfolio value is $68803.00\n"
     ]
    }
   ],
   "source": [
    "# Print the current balance of the stock and bond portion of the members portfolio\n",
    "print(f\"The total bonds/stocks porfolio value is ${total_stocks_bonds:.2f}\")"
   ]
  },
  {
   "cell_type": "code",
   "execution_count": 44,
   "metadata": {},
   "outputs": [
    {
     "name": "stdout",
     "output_type": "stream",
     "text": [
      "There is a 95% chance that the investment of $68803.00 in the portfolio with Bonds/Stocks 20/80 weight portfolio over the next 10 years will end within in the range of $363315.47 and $1388650.48.\n"
     ]
    }
   ],
   "source": [
    "# Use the lower and upper `95%` confidence intervals to calculate the range of the possible outcomes for the current stock/bond portfolio\n",
    "ci_lower_ten_cumulative_return = round(riskier_table[8]*total_stocks_bonds,2)\n",
    "ci_upper_ten_cumulative_return = round(riskier_table[9]*total_stocks_bonds,2)\n",
    "\n",
    "# Print results\n",
    "print(f\"There is a 95% chance that the investment of ${total_stocks_bonds:.2f} in the portfolio\"\n",
    "      f\" with Bonds/Stocks 20/80 weight portfolio over the next 10 years will end within in the range of\"\n",
    "      f\" ${ci_lower_ten_cumulative_return} and ${ci_upper_ten_cumulative_return}.\")\n"
   ]
  },
  {
   "cell_type": "markdown",
   "metadata": {},
   "source": [
    "#### Question: Will weighting the portfolio more heavily to stocks allow the credit union members to retire after only 10 years?"
   ]
  },
  {
   "cell_type": "raw",
   "metadata": {},
   "source": [
    "**Answer** # Considering that the member's age is not provided the answer is it depends.  For sure, investing the porfolio more into stocks than bonds provide a significant larger return for the credit union members. "
   ]
  },
  {
   "cell_type": "code",
   "execution_count": null,
   "metadata": {},
   "outputs": [],
   "source": []
  }
 ],
 "metadata": {
  "kernelspec": {
   "display_name": "Python 3",
   "language": "python",
   "name": "python3"
  },
  "language_info": {
   "codemirror_mode": {
    "name": "ipython",
    "version": 3
   },
   "file_extension": ".py",
   "mimetype": "text/x-python",
   "name": "python",
   "nbconvert_exporter": "python",
   "pygments_lexer": "ipython3",
   "version": "3.7.9"
  }
 },
 "nbformat": 4,
 "nbformat_minor": 4
}
