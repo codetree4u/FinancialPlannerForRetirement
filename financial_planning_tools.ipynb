{
 "cells": [
  {
   "cell_type": "markdown",
   "metadata": {},
   "source": [
    "# Financial Planning with APIs and Simulations\n",
    "\n",
    "In this Challenge, you’ll create two financial analysis tools by using a single Jupyter notebook:\n",
    "\n",
    "Part 1: A financial planner for emergencies. The members will be able to use this tool to visualize their current savings. The members can then determine if they have enough reserves for an emergency fund.\n",
    "\n",
    "Part 2: A financial planner for retirement. This tool will forecast the performance of their retirement portfolio in 30 years. To do this, the tool will make an Alpaca API call via the Alpaca SDK to get historical price data for use in Monte Carlo simulations.\n",
    "\n",
    "You’ll use the information from the Monte Carlo simulation to answer questions about the portfolio in your Jupyter notebook.\n",
    "\n"
   ]
  },
  {
   "cell_type": "code",
   "execution_count": 1,
   "metadata": {},
   "outputs": [],
   "source": [
    "# Import the required libraries and dependencies\n",
    "import os\n",
    "import requests\n",
    "import json\n",
    "import pandas as pd\n",
    "from dotenv import load_dotenv\n",
    "import alpaca_trade_api as tradeapi\n",
    "from MCForecastTools import MCSimulation\n",
    "\n",
    "%matplotlib inline"
   ]
  },
  {
   "cell_type": "code",
   "execution_count": 185,
   "metadata": {},
   "outputs": [
    {
     "data": {
      "text/plain": [
       "True"
      ]
     },
     "execution_count": 185,
     "metadata": {},
     "output_type": "execute_result"
    }
   ],
   "source": [
    "# Load the environment variables from the .env file\n",
    "#by calling the load_dotenv function\n",
    "load_dotenv()"
   ]
  },
  {
   "cell_type": "markdown",
   "metadata": {},
   "source": [
    "## Part 1: Create a Financial Planner for Emergencies"
   ]
  },
  {
   "cell_type": "markdown",
   "metadata": {},
   "source": [
    "### Evaluate the Cryptocurrency Wallet by Using the Requests Library\n",
    "\n",
    "In this section, you’ll determine the current value of a member’s cryptocurrency wallet. You’ll collect the current prices for the Bitcoin and Ethereum cryptocurrencies by using the Python Requests library. For the prototype, you’ll assume that the member holds the 1.2 Bitcoins (BTC) and 5.3 Ethereum coins (ETH). To do all this, complete the following steps:\n",
    "\n",
    "1. Create a variable named `monthly_income`, and set its value to `12000`.\n",
    "\n",
    "2. Use the Requests library to get the current price (in US dollars) of Bitcoin (BTC) and Ethereum (ETH) by using the API endpoints that the starter code supplies.\n",
    "\n",
    "3. Navigate the JSON response object to access the current price of each coin, and store each in a variable.\n",
    "\n",
    "    > **Hint** Note the specific identifier for each cryptocurrency in the API JSON response. The Bitcoin identifier is `1`, and the Ethereum identifier is `1027`.\n",
    "\n",
    "4. Calculate the value, in US dollars, of the current amount of each cryptocurrency and of the entire cryptocurrency wallet.\n",
    "\n"
   ]
  },
  {
   "cell_type": "code",
   "execution_count": 4,
   "metadata": {},
   "outputs": [],
   "source": [
    "# The current number of coins for each cryptocurrency asset held in the portfolio.\n",
    "btc_coins = 1.2\n",
    "eth_coins = 5.3"
   ]
  },
  {
   "cell_type": "markdown",
   "metadata": {},
   "source": [
    "#### Step 1: Create a variable named `monthly_income`, and set its value to `12000`."
   ]
  },
  {
   "cell_type": "code",
   "execution_count": 5,
   "metadata": {},
   "outputs": [],
   "source": [
    "# The monthly amount for the member's household income\n",
    "# YOUR CODE HERE\n",
    "monthly_income = 12000\n"
   ]
  },
  {
   "cell_type": "markdown",
   "metadata": {},
   "source": [
    "#### Review the endpoint URLs for the API calls to Free Crypto API in order to get the current pricing information for both BTC and ETH."
   ]
  },
  {
   "cell_type": "code",
   "execution_count": 66,
   "metadata": {},
   "outputs": [],
   "source": [
    "# The Free Crypto API Call endpoint URLs for the held cryptocurrency assets\n",
    "btc_url = \"https://api.alternative.me/v2/ticker/Bitcoin/?convert=USD\"\n",
    "eth_url = \"https://api.alternative.me/v2/ticker/Ethereum/?convert=USD\""
   ]
  },
  {
   "cell_type": "markdown",
   "metadata": {},
   "source": [
    "#### Step 2. Use the Requests library to get the current price (in US dollars) of Bitcoin (BTC) and Ethereum (ETH) by using the API endpoints that the starter code supplied."
   ]
  },
  {
   "cell_type": "code",
   "execution_count": 67,
   "metadata": {},
   "outputs": [
    {
     "name": "stdout",
     "output_type": "stream",
     "text": [
      "{\n",
      "  \"data\": {\n",
      "    \"1\": {\n",
      "      \"circulating_supply\": 18696500,\n",
      "      \"id\": 1,\n",
      "      \"last_updated\": 1619917972,\n",
      "      \"max_supply\": 21000000,\n",
      "      \"name\": \"Bitcoin\",\n",
      "      \"quotes\": {\n",
      "        \"USD\": {\n",
      "          \"market_cap\": 1072399381012,\n",
      "          \"percent_change_1h\": -0.638102744788725,\n",
      "          \"percent_change_24h\": -0.300027279048736,\n",
      "          \"percent_change_7d\": 14.4704316937082,\n",
      "          \"percentage_change_1h\": -0.638102744788725,\n",
      "          \"percentage_change_24h\": -0.300027279048736,\n",
      "          \"percentage_change_7d\": 14.4704316937082,\n",
      "          \"price\": 57388.0,\n",
      "          \"volume_24h\": 42511557492\n",
      "        }\n",
      "      },\n",
      "      \"rank\": 1,\n",
      "      \"symbol\": \"BTC\",\n",
      "      \"total_supply\": 18696500,\n",
      "      \"website_slug\": \"bitcoin\"\n",
      "    }\n",
      "  },\n",
      "  \"metadata\": {\n",
      "    \"error\": null,\n",
      "    \"num_cryptocurrencies\": 1308,\n",
      "    \"timestamp\": 1619917972\n",
      "  }\n",
      "}\n"
     ]
    }
   ],
   "source": [
    "# Using the Python requests library, make an API call to access the current price of BTC\n",
    "btc_response = requests.get(btc_url).json()\n",
    "\n",
    "\n",
    "# Use the json.dumps function to review the response data from the API call\n",
    "# Use the indent and sort_keys parameters to make the response object readable\n",
    "# YOUR CODE HERE\n",
    "print(json.dumps(btc_response,indent=2,sort_keys=True))\n"
   ]
  },
  {
   "cell_type": "code",
   "execution_count": 68,
   "metadata": {},
   "outputs": [
    {
     "name": "stdout",
     "output_type": "stream",
     "text": [
      "{\n",
      "  \"data\": {\n",
      "    \"1027\": {\n",
      "      \"circulating_supply\": 115701727,\n",
      "      \"id\": 1027,\n",
      "      \"last_updated\": 1619917977,\n",
      "      \"max_supply\": 0,\n",
      "      \"name\": \"Ethereum\",\n",
      "      \"quotes\": {\n",
      "        \"USD\": {\n",
      "          \"market_cap\": 339249825280,\n",
      "          \"percent_change_1h\": -0.535080307856868,\n",
      "          \"percent_change_24h\": 6.29895471345532,\n",
      "          \"percent_change_7d\": 32.3952826404174,\n",
      "          \"percentage_change_1h\": -0.535080307856868,\n",
      "          \"percentage_change_24h\": 6.29895471345532,\n",
      "          \"percentage_change_7d\": 32.3952826404174,\n",
      "          \"price\": 2929.7,\n",
      "          \"volume_24h\": 36647399231\n",
      "        }\n",
      "      },\n",
      "      \"rank\": 2,\n",
      "      \"symbol\": \"ETH\",\n",
      "      \"total_supply\": 115701727,\n",
      "      \"website_slug\": \"ethereum\"\n",
      "    }\n",
      "  },\n",
      "  \"metadata\": {\n",
      "    \"error\": null,\n",
      "    \"num_cryptocurrencies\": 1308,\n",
      "    \"timestamp\": 1619917977\n",
      "  }\n",
      "}\n"
     ]
    }
   ],
   "source": [
    "# Using the Python requests library, make an API call to access the current price ETH\n",
    "eth_response = requests.get(eth_url).json()\n",
    "# Use the json.dumps function to review the response data from the API call\n",
    "# Use the indent and sort_keys parameters to make the response object readable\n",
    "# YOUR CODE HERE\n",
    "print(json.dumps(eth_response,indent=2,sort_keys=True))"
   ]
  },
  {
   "cell_type": "markdown",
   "metadata": {},
   "source": [
    "#### Step 3: Navigate the JSON response object to access the current price of each coin, and store each in a variable."
   ]
  },
  {
   "cell_type": "code",
   "execution_count": 167,
   "metadata": {},
   "outputs": [
    {
     "name": "stdout",
     "output_type": "stream",
     "text": [
      "57388.0\n"
     ]
    }
   ],
   "source": [
    "# Navigate the BTC response object to access the current price of BTC\n",
    "btc_price = btc_response[\"data\"][\"1\"][\"quotes\"][\"USD\"][\"price\"]\n",
    "   \n",
    "\n",
    "# Print the current price of BTC\n",
    "# YOUR CODE HERE\n",
    "print(btc_price)\n"
   ]
  },
  {
   "cell_type": "code",
   "execution_count": 176,
   "metadata": {},
   "outputs": [
    {
     "name": "stdout",
     "output_type": "stream",
     "text": [
      "2929.7\n"
     ]
    }
   ],
   "source": [
    "# Navigate the BTC response object to access the current price of ETH\n",
    "#eth_price = {\"USD\":[\n",
    "#    eth_response[\"data\"][\"1027\"][\"quotes\"][\"USD\"][\"price\"]\n",
    "#]}\n",
    "eth_price = eth_response[\"data\"][\"1027\"][\"quotes\"][\"USD\"][\"price\"]\n",
    "\n",
    "#eth_price = {\n",
    "#    eth_response[\"data\"][\"1027\"][\"quotes\"][\"USD\"][\"price\"]\n",
    "#}\n",
    "\n",
    "# Print the current price of ETH\n",
    "# YOUR CODE HERE\n",
    "#print(eth_price)\n",
    "print(eth_price)"
   ]
  },
  {
   "cell_type": "markdown",
   "metadata": {},
   "source": [
    "### Step 4: Calculate the value, in US dollars, of the current amount of each cryptocurrency and of the entire cryptocurrency wallet."
   ]
  },
  {
   "cell_type": "code",
   "execution_count": 175,
   "metadata": {},
   "outputs": [
    {
     "name": "stdout",
     "output_type": "stream",
     "text": [
      "68865.59999999999\n"
     ]
    }
   ],
   "source": [
    "# Compute the current value of the BTC holding \n",
    "btc_value = btc_coins * btc_price\n",
    "#btc_value = [btc_price[::0]]\n",
    "#btc_value = btc_price.loc['USD':1]\n",
    "#btc_price.iloc[0:0]\n",
    "\n",
    "\n",
    "# Print current value of your holding in BTC\n",
    "print(btc_value)"
   ]
  },
  {
   "cell_type": "code",
   "execution_count": 177,
   "metadata": {},
   "outputs": [
    {
     "name": "stdout",
     "output_type": "stream",
     "text": [
      "15527.409999999998\n"
     ]
    }
   ],
   "source": [
    "# Compute the current value of the ETH holding \n",
    "eth_value = eth_coins * eth_price\n",
    "\n",
    "# Print current value of your holding in ETH\n",
    "# YOUR CODE HERE\n",
    "print(eth_value)"
   ]
  },
  {
   "cell_type": "code",
   "execution_count": 178,
   "metadata": {},
   "outputs": [
    {
     "name": "stdout",
     "output_type": "stream",
     "text": [
      "84393.01\n"
     ]
    }
   ],
   "source": [
    "# Compute the total value of the cryptocurrency wallet\n",
    "# Add the value of the BTC holding to the value of the ETH holding\n",
    "total_crypto_wallet = btc_value + eth_value\n",
    "\n",
    "# Print current cryptocurrency wallet balance\n",
    "print(total_crypto_wallet)\n"
   ]
  },
  {
   "cell_type": "markdown",
   "metadata": {},
   "source": [
    "### Evaluate the Stock and Bond Holdings by Using the Alpaca SDK\n",
    "\n",
    "In this section, you’ll determine the current value of a member’s stock and bond holdings. You’ll make an API call to Alpaca via the Alpaca SDK to get the current closing prices of the SPDR S&P 500 ETF Trust (ticker: SPY) and of the iShares Core US Aggregate Bond ETF (ticker: AGG). For the prototype, assume that the member holds 110 shares of SPY, which represents the stock portion of their portfolio, and 200 shares of AGG, which represents the bond portion. To do all this, complete the following steps:\n",
    "\n",
    "1. In the `Starter_Code` folder, create an environment file (`.env`) to store the values of your Alpaca API key and Alpaca secret key.\n",
    "\n",
    "2. Set the variables for the Alpaca API and secret keys. Using the Alpaca SDK, create the Alpaca `tradeapi.REST` object. In this object, include the parameters for the Alpaca API key, the secret key, and the version number.\n",
    "\n",
    "3. Set the following parameters for the Alpaca API call:\n",
    "\n",
    "    - `tickers`: Use the tickers for the member’s stock and bond holdings.\n",
    "\n",
    "    - `timeframe`: Use a time frame of one day.\n",
    "\n",
    "    - `start_date` and `end_date`: Use the same date for these parameters, and format them with the date of the previous weekday (or `2020-08-07`). This is because you want the one closing price for the most-recent trading day.\n",
    "\n",
    "4. Get the current closing prices for `SPY` and `AGG` by using the Alpaca `get_barset` function. Format the response as a Pandas DataFrame by including the `df` property at the end of the `get_barset` function.\n",
    "\n",
    "5. Navigating the Alpaca response DataFrame, select the `SPY` and `AGG` closing prices, and store them as variables.\n",
    "\n",
    "6. Calculate the value, in US dollars, of the current amount of shares in each of the stock and bond portions of the portfolio, and print the results.\n"
   ]
  },
  {
   "cell_type": "markdown",
   "metadata": {},
   "source": [
    "#### Review the total number of shares held in both (SPY) and (AGG)."
   ]
  },
  {
   "cell_type": "code",
   "execution_count": 179,
   "metadata": {},
   "outputs": [],
   "source": [
    "# Current amount of shares held in both the stock (SPY) and bond (AGG) portion of the portfolio.\n",
    "spy_shares = 110\n",
    "agg_shares = 200\n"
   ]
  },
  {
   "cell_type": "markdown",
   "metadata": {},
   "source": [
    "#### Step 1: In the `Starter_Code` folder, create an environment file (`.env`) to store the values of your Alpaca API key and Alpaca secret key."
   ]
  },
  {
   "cell_type": "markdown",
   "metadata": {},
   "source": [
    "#### Step 2: Set the variables for the Alpaca API and secret keys. Using the Alpaca SDK, create the Alpaca `tradeapi.REST` object. In this object, include the parameters for the Alpaca API key, the secret key, and the version number."
   ]
  },
  {
   "cell_type": "code",
   "execution_count": 194,
   "metadata": {},
   "outputs": [],
   "source": [
    "# Set the variables for the Alpaca API and secret keys\n",
    "alpaca_api_key = os.getenv(\"ALPACA_API_KEY\")\n",
    "alpaca_secret_key = os.getenv(\"ALPACA_SECRET_KEY\")\n",
    "\n",
    "#print(f\"Alpaca Key type: {type(alpaca_api_key)}\")\n",
    "#print(f\"Alpaca Secret Key type: {type(alpaca_secret_key)}\")\n",
    "#load_dotenv()\n",
    "\n",
    "# Create the Alpaca tradeapi.REST object\n",
    "# Create the Alpaca API object\n",
    "api = tradeapi.REST(\n",
    "    alpaca_api_key,\n",
    "    alpaca_secret_key,\n",
    "    api_version=\"v2\")\n"
   ]
  },
  {
   "cell_type": "markdown",
   "metadata": {},
   "source": [
    "#### Step 3: Set the following parameters for the Alpaca API call:\n",
    "\n",
    "- `tickers`: Use the tickers for the member’s stock and bond holdings.\n",
    "\n",
    "- `timeframe`: Use a time frame of one day.\n",
    "\n",
    "- `start_date` and `end_date`: Use the same date for these parameters, and format them with the date of the previous weekday (or `2020-08-07`). This is because you want the one closing price for the most-recent trading day.\n"
   ]
  },
  {
   "cell_type": "code",
   "execution_count": 197,
   "metadata": {},
   "outputs": [
    {
     "data": {
      "text/html": [
       "<div>\n",
       "<style scoped>\n",
       "    .dataframe tbody tr th:only-of-type {\n",
       "        vertical-align: middle;\n",
       "    }\n",
       "\n",
       "    .dataframe tbody tr th {\n",
       "        vertical-align: top;\n",
       "    }\n",
       "\n",
       "    .dataframe thead tr th {\n",
       "        text-align: left;\n",
       "    }\n",
       "\n",
       "    .dataframe thead tr:last-of-type th {\n",
       "        text-align: right;\n",
       "    }\n",
       "</style>\n",
       "<table border=\"1\" class=\"dataframe\">\n",
       "  <thead>\n",
       "    <tr>\n",
       "      <th></th>\n",
       "      <th colspan=\"5\" halign=\"left\">SPY</th>\n",
       "    </tr>\n",
       "    <tr>\n",
       "      <th></th>\n",
       "      <th>open</th>\n",
       "      <th>high</th>\n",
       "      <th>low</th>\n",
       "      <th>close</th>\n",
       "      <th>volume</th>\n",
       "    </tr>\n",
       "    <tr>\n",
       "      <th>time</th>\n",
       "      <th></th>\n",
       "      <th></th>\n",
       "      <th></th>\n",
       "      <th></th>\n",
       "      <th></th>\n",
       "    </tr>\n",
       "  </thead>\n",
       "  <tbody>\n",
       "    <tr>\n",
       "      <th>2020-12-07 00:00:00-05:00</th>\n",
       "      <td>369.02</td>\n",
       "      <td>369.6200</td>\n",
       "      <td>367.72</td>\n",
       "      <td>369.1200</td>\n",
       "      <td>40456544</td>\n",
       "    </tr>\n",
       "    <tr>\n",
       "      <th>2020-12-08 00:00:00-05:00</th>\n",
       "      <td>367.72</td>\n",
       "      <td>370.7800</td>\n",
       "      <td>367.67</td>\n",
       "      <td>370.1599</td>\n",
       "      <td>32702217</td>\n",
       "    </tr>\n",
       "    <tr>\n",
       "      <th>2020-12-09 00:00:00-05:00</th>\n",
       "      <td>370.88</td>\n",
       "      <td>371.0500</td>\n",
       "      <td>365.95</td>\n",
       "      <td>366.8900</td>\n",
       "      <td>60700254</td>\n",
       "    </tr>\n",
       "    <tr>\n",
       "      <th>2020-12-10 00:00:00-05:00</th>\n",
       "      <td>365.37</td>\n",
       "      <td>367.8600</td>\n",
       "      <td>364.43</td>\n",
       "      <td>366.7200</td>\n",
       "      <td>47851654</td>\n",
       "    </tr>\n",
       "    <tr>\n",
       "      <th>2020-12-11 00:00:00-05:00</th>\n",
       "      <td>364.90</td>\n",
       "      <td>366.7402</td>\n",
       "      <td>363.26</td>\n",
       "      <td>366.2800</td>\n",
       "      <td>47917103</td>\n",
       "    </tr>\n",
       "    <tr>\n",
       "      <th>...</th>\n",
       "      <td>...</td>\n",
       "      <td>...</td>\n",
       "      <td>...</td>\n",
       "      <td>...</td>\n",
       "      <td>...</td>\n",
       "    </tr>\n",
       "    <tr>\n",
       "      <th>2021-04-19 00:00:00-04:00</th>\n",
       "      <td>416.26</td>\n",
       "      <td>416.7400</td>\n",
       "      <td>413.79</td>\n",
       "      <td>415.2400</td>\n",
       "      <td>66226327</td>\n",
       "    </tr>\n",
       "    <tr>\n",
       "      <th>2021-04-20 00:00:00-04:00</th>\n",
       "      <td>413.91</td>\n",
       "      <td>415.0859</td>\n",
       "      <td>410.59</td>\n",
       "      <td>412.2200</td>\n",
       "      <td>69715050</td>\n",
       "    </tr>\n",
       "    <tr>\n",
       "      <th>2021-04-21 00:00:00-04:00</th>\n",
       "      <td>411.51</td>\n",
       "      <td>416.2900</td>\n",
       "      <td>411.36</td>\n",
       "      <td>416.0800</td>\n",
       "      <td>54772634</td>\n",
       "    </tr>\n",
       "    <tr>\n",
       "      <th>2021-04-22 00:00:00-04:00</th>\n",
       "      <td>415.88</td>\n",
       "      <td>416.7800</td>\n",
       "      <td>411.13</td>\n",
       "      <td>412.3000</td>\n",
       "      <td>90086341</td>\n",
       "    </tr>\n",
       "    <tr>\n",
       "      <th>2021-04-23 00:00:00-04:00</th>\n",
       "      <td>412.87</td>\n",
       "      <td>418.2500</td>\n",
       "      <td>412.79</td>\n",
       "      <td>416.7200</td>\n",
       "      <td>62184753</td>\n",
       "    </tr>\n",
       "  </tbody>\n",
       "</table>\n",
       "<p>95 rows × 5 columns</p>\n",
       "</div>"
      ],
      "text/plain": [
       "                              SPY                                      \n",
       "                             open      high     low     close    volume\n",
       "time                                                                   \n",
       "2020-12-07 00:00:00-05:00  369.02  369.6200  367.72  369.1200  40456544\n",
       "2020-12-08 00:00:00-05:00  367.72  370.7800  367.67  370.1599  32702217\n",
       "2020-12-09 00:00:00-05:00  370.88  371.0500  365.95  366.8900  60700254\n",
       "2020-12-10 00:00:00-05:00  365.37  367.8600  364.43  366.7200  47851654\n",
       "2020-12-11 00:00:00-05:00  364.90  366.7402  363.26  366.2800  47917103\n",
       "...                           ...       ...     ...       ...       ...\n",
       "2021-04-19 00:00:00-04:00  416.26  416.7400  413.79  415.2400  66226327\n",
       "2021-04-20 00:00:00-04:00  413.91  415.0859  410.59  412.2200  69715050\n",
       "2021-04-21 00:00:00-04:00  411.51  416.2900  411.36  416.0800  54772634\n",
       "2021-04-22 00:00:00-04:00  415.88  416.7800  411.13  412.3000  90086341\n",
       "2021-04-23 00:00:00-04:00  412.87  418.2500  412.79  416.7200  62184753\n",
       "\n",
       "[95 rows x 5 columns]"
      ]
     },
     "execution_count": 197,
     "metadata": {},
     "output_type": "execute_result"
    }
   ],
   "source": [
    "# Set the tickers for both the bond and stock portion of the portfolio\n",
    "# YOUR CODE HERE\n",
    "ticker_spy = \"SPY\"\n",
    "ticker_agg = \"AGG\"\n",
    "\n",
    "# Set timeframe to 1D \n",
    "# YOUR CODE HERE\n",
    "timeframe = \"1D\"\n",
    "\n",
    "# Format current date as ISO format\n",
    "# Set both the start and end date at the date of your prior weekday \n",
    "# This will give you the closing price of the previous trading day\n",
    "# Alternatively you can use a start and end date of 2020-08-07\n",
    "# YOUR CODE HERE\n",
    "# YOUR CODE HERE\n",
    "start_date = pd.Timestamp(\"2020-08-06\", tz=\"America/New_York\").isoformat()\n",
    "end_date = pd.Timestamp(\"2021-09-06\", tz=\"America/New_York\").isoformat()\n",
    "\n"
   ]
  },
  {
   "cell_type": "markdown",
   "metadata": {},
   "source": [
    "#### Step 4: Get the current closing prices for `SPY` and `AGG` by using the Alpaca `get_barset` function. Format the response as a Pandas DataFrame by including the `df` property at the end of the `get_barset` function."
   ]
  },
  {
   "cell_type": "code",
   "execution_count": 201,
   "metadata": {},
   "outputs": [
    {
     "data": {
      "text/html": [
       "<div>\n",
       "<style scoped>\n",
       "    .dataframe tbody tr th:only-of-type {\n",
       "        vertical-align: middle;\n",
       "    }\n",
       "\n",
       "    .dataframe tbody tr th {\n",
       "        vertical-align: top;\n",
       "    }\n",
       "\n",
       "    .dataframe thead tr th {\n",
       "        text-align: left;\n",
       "    }\n",
       "\n",
       "    .dataframe thead tr:last-of-type th {\n",
       "        text-align: right;\n",
       "    }\n",
       "</style>\n",
       "<table border=\"1\" class=\"dataframe\">\n",
       "  <thead>\n",
       "    <tr>\n",
       "      <th></th>\n",
       "      <th colspan=\"5\" halign=\"left\">SPY</th>\n",
       "    </tr>\n",
       "    <tr>\n",
       "      <th></th>\n",
       "      <th>open</th>\n",
       "      <th>high</th>\n",
       "      <th>low</th>\n",
       "      <th>close</th>\n",
       "      <th>volume</th>\n",
       "    </tr>\n",
       "    <tr>\n",
       "      <th>time</th>\n",
       "      <th></th>\n",
       "      <th></th>\n",
       "      <th></th>\n",
       "      <th></th>\n",
       "      <th></th>\n",
       "    </tr>\n",
       "  </thead>\n",
       "  <tbody>\n",
       "    <tr>\n",
       "      <th>2020-12-07 00:00:00-05:00</th>\n",
       "      <td>369.02</td>\n",
       "      <td>369.6200</td>\n",
       "      <td>367.72</td>\n",
       "      <td>369.1200</td>\n",
       "      <td>40456544</td>\n",
       "    </tr>\n",
       "    <tr>\n",
       "      <th>2020-12-08 00:00:00-05:00</th>\n",
       "      <td>367.72</td>\n",
       "      <td>370.7800</td>\n",
       "      <td>367.67</td>\n",
       "      <td>370.1599</td>\n",
       "      <td>32702217</td>\n",
       "    </tr>\n",
       "    <tr>\n",
       "      <th>2020-12-09 00:00:00-05:00</th>\n",
       "      <td>370.88</td>\n",
       "      <td>371.0500</td>\n",
       "      <td>365.95</td>\n",
       "      <td>366.8900</td>\n",
       "      <td>60700254</td>\n",
       "    </tr>\n",
       "    <tr>\n",
       "      <th>2020-12-10 00:00:00-05:00</th>\n",
       "      <td>365.37</td>\n",
       "      <td>367.8600</td>\n",
       "      <td>364.43</td>\n",
       "      <td>366.7200</td>\n",
       "      <td>47851654</td>\n",
       "    </tr>\n",
       "    <tr>\n",
       "      <th>2020-12-11 00:00:00-05:00</th>\n",
       "      <td>364.90</td>\n",
       "      <td>366.7402</td>\n",
       "      <td>363.26</td>\n",
       "      <td>366.2800</td>\n",
       "      <td>47917103</td>\n",
       "    </tr>\n",
       "    <tr>\n",
       "      <th>...</th>\n",
       "      <td>...</td>\n",
       "      <td>...</td>\n",
       "      <td>...</td>\n",
       "      <td>...</td>\n",
       "      <td>...</td>\n",
       "    </tr>\n",
       "    <tr>\n",
       "      <th>2021-04-19 00:00:00-04:00</th>\n",
       "      <td>416.26</td>\n",
       "      <td>416.7400</td>\n",
       "      <td>413.79</td>\n",
       "      <td>415.2400</td>\n",
       "      <td>66226327</td>\n",
       "    </tr>\n",
       "    <tr>\n",
       "      <th>2021-04-20 00:00:00-04:00</th>\n",
       "      <td>413.91</td>\n",
       "      <td>415.0859</td>\n",
       "      <td>410.59</td>\n",
       "      <td>412.2200</td>\n",
       "      <td>69715050</td>\n",
       "    </tr>\n",
       "    <tr>\n",
       "      <th>2021-04-21 00:00:00-04:00</th>\n",
       "      <td>411.51</td>\n",
       "      <td>416.2900</td>\n",
       "      <td>411.36</td>\n",
       "      <td>416.0800</td>\n",
       "      <td>54772634</td>\n",
       "    </tr>\n",
       "    <tr>\n",
       "      <th>2021-04-22 00:00:00-04:00</th>\n",
       "      <td>415.88</td>\n",
       "      <td>416.7800</td>\n",
       "      <td>411.13</td>\n",
       "      <td>412.3000</td>\n",
       "      <td>90086341</td>\n",
       "    </tr>\n",
       "    <tr>\n",
       "      <th>2021-04-23 00:00:00-04:00</th>\n",
       "      <td>412.87</td>\n",
       "      <td>418.2500</td>\n",
       "      <td>412.79</td>\n",
       "      <td>416.7200</td>\n",
       "      <td>62184753</td>\n",
       "    </tr>\n",
       "  </tbody>\n",
       "</table>\n",
       "<p>95 rows × 5 columns</p>\n",
       "</div>"
      ],
      "text/plain": [
       "                              SPY                                      \n",
       "                             open      high     low     close    volume\n",
       "time                                                                   \n",
       "2020-12-07 00:00:00-05:00  369.02  369.6200  367.72  369.1200  40456544\n",
       "2020-12-08 00:00:00-05:00  367.72  370.7800  367.67  370.1599  32702217\n",
       "2020-12-09 00:00:00-05:00  370.88  371.0500  365.95  366.8900  60700254\n",
       "2020-12-10 00:00:00-05:00  365.37  367.8600  364.43  366.7200  47851654\n",
       "2020-12-11 00:00:00-05:00  364.90  366.7402  363.26  366.2800  47917103\n",
       "...                           ...       ...     ...       ...       ...\n",
       "2021-04-19 00:00:00-04:00  416.26  416.7400  413.79  415.2400  66226327\n",
       "2021-04-20 00:00:00-04:00  413.91  415.0859  410.59  412.2200  69715050\n",
       "2021-04-21 00:00:00-04:00  411.51  416.2900  411.36  416.0800  54772634\n",
       "2021-04-22 00:00:00-04:00  415.88  416.7800  411.13  412.3000  90086341\n",
       "2021-04-23 00:00:00-04:00  412.87  418.2500  412.79  416.7200  62184753\n",
       "\n",
       "[95 rows x 5 columns]"
      ]
     },
     "execution_count": 201,
     "metadata": {},
     "output_type": "execute_result"
    }
   ],
   "source": [
    "# Use the Alpaca get_barset function to get current closing prices the portfolio\n",
    "# Be sure to set the `df` property after the function to format the response object as a DataFrame\n",
    "# YOUR CODE HERE\n",
    "\n",
    "# Get 3 years worth of historical data for TSLA\n",
    "spy_ticker_df = api.get_barset(\n",
    "    ticker_spy,\n",
    "    timeframe,\n",
    "    start=start_date,\n",
    "    end=end_date\n",
    ").df\n",
    "\n",
    "# Review the first 5 rows of the Alpaca DataFrame\n",
    "# YOUR CODE HERE\n",
    "spy_ticker_df.head(-5)"
   ]
  },
  {
   "cell_type": "code",
   "execution_count": 202,
   "metadata": {},
   "outputs": [
    {
     "data": {
      "text/html": [
       "<div>\n",
       "<style scoped>\n",
       "    .dataframe tbody tr th:only-of-type {\n",
       "        vertical-align: middle;\n",
       "    }\n",
       "\n",
       "    .dataframe tbody tr th {\n",
       "        vertical-align: top;\n",
       "    }\n",
       "\n",
       "    .dataframe thead tr th {\n",
       "        text-align: left;\n",
       "    }\n",
       "\n",
       "    .dataframe thead tr:last-of-type th {\n",
       "        text-align: right;\n",
       "    }\n",
       "</style>\n",
       "<table border=\"1\" class=\"dataframe\">\n",
       "  <thead>\n",
       "    <tr>\n",
       "      <th></th>\n",
       "      <th colspan=\"5\" halign=\"left\">AGG</th>\n",
       "    </tr>\n",
       "    <tr>\n",
       "      <th></th>\n",
       "      <th>open</th>\n",
       "      <th>high</th>\n",
       "      <th>low</th>\n",
       "      <th>close</th>\n",
       "      <th>volume</th>\n",
       "    </tr>\n",
       "    <tr>\n",
       "      <th>time</th>\n",
       "      <th></th>\n",
       "      <th></th>\n",
       "      <th></th>\n",
       "      <th></th>\n",
       "      <th></th>\n",
       "    </tr>\n",
       "  </thead>\n",
       "  <tbody>\n",
       "    <tr>\n",
       "      <th>2020-12-07 00:00:00-05:00</th>\n",
       "      <td>117.76</td>\n",
       "      <td>117.8262</td>\n",
       "      <td>117.6900</td>\n",
       "      <td>117.75</td>\n",
       "      <td>4689469</td>\n",
       "    </tr>\n",
       "    <tr>\n",
       "      <th>2020-12-08 00:00:00-05:00</th>\n",
       "      <td>117.88</td>\n",
       "      <td>117.9597</td>\n",
       "      <td>117.7500</td>\n",
       "      <td>117.77</td>\n",
       "      <td>3587353</td>\n",
       "    </tr>\n",
       "    <tr>\n",
       "      <th>2020-12-09 00:00:00-05:00</th>\n",
       "      <td>117.73</td>\n",
       "      <td>117.7800</td>\n",
       "      <td>117.5172</td>\n",
       "      <td>117.62</td>\n",
       "      <td>4720359</td>\n",
       "    </tr>\n",
       "    <tr>\n",
       "      <th>2020-12-10 00:00:00-05:00</th>\n",
       "      <td>117.74</td>\n",
       "      <td>117.9300</td>\n",
       "      <td>117.6900</td>\n",
       "      <td>117.88</td>\n",
       "      <td>4694024</td>\n",
       "    </tr>\n",
       "    <tr>\n",
       "      <th>2020-12-11 00:00:00-05:00</th>\n",
       "      <td>118.01</td>\n",
       "      <td>118.0900</td>\n",
       "      <td>117.9500</td>\n",
       "      <td>118.03</td>\n",
       "      <td>5537449</td>\n",
       "    </tr>\n",
       "    <tr>\n",
       "      <th>...</th>\n",
       "      <td>...</td>\n",
       "      <td>...</td>\n",
       "      <td>...</td>\n",
       "      <td>...</td>\n",
       "      <td>...</td>\n",
       "    </tr>\n",
       "    <tr>\n",
       "      <th>2021-04-19 00:00:00-04:00</th>\n",
       "      <td>114.00</td>\n",
       "      <td>114.5000</td>\n",
       "      <td>114.0000</td>\n",
       "      <td>114.44</td>\n",
       "      <td>4820664</td>\n",
       "    </tr>\n",
       "    <tr>\n",
       "      <th>2021-04-20 00:00:00-04:00</th>\n",
       "      <td>114.42</td>\n",
       "      <td>114.6700</td>\n",
       "      <td>114.3900</td>\n",
       "      <td>114.62</td>\n",
       "      <td>3674209</td>\n",
       "    </tr>\n",
       "    <tr>\n",
       "      <th>2021-04-21 00:00:00-04:00</th>\n",
       "      <td>114.60</td>\n",
       "      <td>114.7400</td>\n",
       "      <td>114.5300</td>\n",
       "      <td>114.74</td>\n",
       "      <td>5250384</td>\n",
       "    </tr>\n",
       "    <tr>\n",
       "      <th>2021-04-22 00:00:00-04:00</th>\n",
       "      <td>114.74</td>\n",
       "      <td>114.8000</td>\n",
       "      <td>114.5900</td>\n",
       "      <td>114.77</td>\n",
       "      <td>3518947</td>\n",
       "    </tr>\n",
       "    <tr>\n",
       "      <th>2021-04-23 00:00:00-04:00</th>\n",
       "      <td>114.81</td>\n",
       "      <td>115.0860</td>\n",
       "      <td>114.6415</td>\n",
       "      <td>114.75</td>\n",
       "      <td>3506457</td>\n",
       "    </tr>\n",
       "  </tbody>\n",
       "</table>\n",
       "<p>95 rows × 5 columns</p>\n",
       "</div>"
      ],
      "text/plain": [
       "                              AGG                                     \n",
       "                             open      high       low   close   volume\n",
       "time                                                                  \n",
       "2020-12-07 00:00:00-05:00  117.76  117.8262  117.6900  117.75  4689469\n",
       "2020-12-08 00:00:00-05:00  117.88  117.9597  117.7500  117.77  3587353\n",
       "2020-12-09 00:00:00-05:00  117.73  117.7800  117.5172  117.62  4720359\n",
       "2020-12-10 00:00:00-05:00  117.74  117.9300  117.6900  117.88  4694024\n",
       "2020-12-11 00:00:00-05:00  118.01  118.0900  117.9500  118.03  5537449\n",
       "...                           ...       ...       ...     ...      ...\n",
       "2021-04-19 00:00:00-04:00  114.00  114.5000  114.0000  114.44  4820664\n",
       "2021-04-20 00:00:00-04:00  114.42  114.6700  114.3900  114.62  3674209\n",
       "2021-04-21 00:00:00-04:00  114.60  114.7400  114.5300  114.74  5250384\n",
       "2021-04-22 00:00:00-04:00  114.74  114.8000  114.5900  114.77  3518947\n",
       "2021-04-23 00:00:00-04:00  114.81  115.0860  114.6415  114.75  3506457\n",
       "\n",
       "[95 rows x 5 columns]"
      ]
     },
     "execution_count": 202,
     "metadata": {},
     "output_type": "execute_result"
    }
   ],
   "source": [
    "# Use the Alpaca get_barset function to get current closing prices the portfolio\n",
    "# Be sure to set the `df` property after the function to format the response object as a DataFrame\n",
    "# YOUR CODE HERE\n",
    "\n",
    "# Get 3 years worth of historical data for TSLA\n",
    "agg_ticker_df = api.get_barset(\n",
    "    ticker_agg,\n",
    "    timeframe,\n",
    "    start=start_date,\n",
    "    end=end_date\n",
    ").df\n",
    "\n",
    "# Review the first 5 rows of the Alpaca DataFrame\n",
    "# YOUR CODE HERE\n",
    "agg_ticker_df.head(-5)"
   ]
  },
  {
   "cell_type": "markdown",
   "metadata": {},
   "source": [
    "#### Step 5: Navigating the Alpaca response DataFrame, select the `SPY` and `AGG` closing prices, and store them as variables."
   ]
  },
  {
   "cell_type": "code",
   "execution_count": 204,
   "metadata": {},
   "outputs": [
    {
     "name": "stdout",
     "output_type": "stream",
     "text": [
      "time\n",
      "2020-12-07 00:00:00-05:00    117.75\n",
      "2020-12-08 00:00:00-05:00    117.77\n",
      "2020-12-09 00:00:00-05:00    117.62\n",
      "2020-12-10 00:00:00-05:00    117.88\n",
      "2020-12-11 00:00:00-05:00    118.03\n",
      "                              ...  \n",
      "2021-04-26 00:00:00-04:00    114.65\n",
      "2021-04-27 00:00:00-04:00    114.37\n",
      "2021-04-28 00:00:00-04:00    114.44\n",
      "2021-04-29 00:00:00-04:00    114.37\n",
      "2021-04-30 00:00:00-04:00    114.50\n",
      "Name: close, Length: 100, dtype: float64\n"
     ]
    }
   ],
   "source": [
    "# Access the closing price for AGG from the Alpaca DataFrame\n",
    "# Converting the value to a floating point number\n",
    "agg_close_price = agg_ticker_df[\"AGG\"][\"close\"]\n",
    "\n",
    "# Print the AGG closing price\n",
    "# YOUR CODE HERE\n",
    "print(agg_close_price)"
   ]
  },
  {
   "cell_type": "code",
   "execution_count": 205,
   "metadata": {},
   "outputs": [
    {
     "name": "stdout",
     "output_type": "stream",
     "text": [
      "time\n",
      "2020-12-07 00:00:00-05:00    369.1200\n",
      "2020-12-08 00:00:00-05:00    370.1599\n",
      "2020-12-09 00:00:00-05:00    366.8900\n",
      "2020-12-10 00:00:00-05:00    366.7200\n",
      "2020-12-11 00:00:00-05:00    366.2800\n",
      "                               ...   \n",
      "2021-04-26 00:00:00-04:00    417.6400\n",
      "2021-04-27 00:00:00-04:00    417.4800\n",
      "2021-04-28 00:00:00-04:00    417.3500\n",
      "2021-04-29 00:00:00-04:00    419.9800\n",
      "2021-04-30 00:00:00-04:00    417.3000\n",
      "Name: close, Length: 100, dtype: float64\n"
     ]
    }
   ],
   "source": [
    "# Access the closing price for SPY from the Alpaca DataFrame\n",
    "# Converting the value to a floating point number\n",
    "spy_close_price  = spy_ticker_df[\"SPY\"][\"close\"]\n",
    "\n",
    "# Print the SPY closing price\n",
    "# YOUR CODE HERE\n",
    "print(spy_close_price)\n"
   ]
  },
  {
   "cell_type": "markdown",
   "metadata": {},
   "source": [
    "#### Step 6: Calculate the value, in US dollars, of the current amount of shares in each of the stock and bond portions of the portfolio, and print the results."
   ]
  },
  {
   "cell_type": "code",
   "execution_count": 242,
   "metadata": {},
   "outputs": [
    {
     "name": "stdout",
     "output_type": "stream",
     "text": [
      "22900.0\n"
     ]
    }
   ],
   "source": [
    "# Calculate the current value of the bond portion of the portfolio\n",
    "agg_value = agg_shares * agg_ticker_df[\"AGG\"][\"close\"].iloc[-1]\n",
    "\n",
    "# Print the current value of the bond portfolio\n",
    "print(agg_value)\n"
   ]
  },
  {
   "cell_type": "code",
   "execution_count": 243,
   "metadata": {},
   "outputs": [
    {
     "name": "stdout",
     "output_type": "stream",
     "text": [
      "45903.0\n"
     ]
    }
   ],
   "source": [
    "# Calculate the current value of the stock portion of the portfolio\n",
    "spy_value = spy_shares * spy_ticker_df[\"SPY\"][\"close\"].iloc[-1]\n",
    "\n",
    "# Print the current value of the stock portfolio\n",
    "print(spy_value)\n"
   ]
  },
  {
   "cell_type": "code",
   "execution_count": 244,
   "metadata": {},
   "outputs": [
    {
     "name": "stdout",
     "output_type": "stream",
     "text": [
      "68803.0\n"
     ]
    }
   ],
   "source": [
    "# Calculate the total value of the stock and bond portion of the portfolio\n",
    "total_stocks_bonds = agg_value + spy_value\n",
    "\n",
    "# Print the current balance of the stock and bond portion of the portfolio\n",
    "print(total_stocks_bonds)\n"
   ]
  },
  {
   "cell_type": "code",
   "execution_count": 246,
   "metadata": {},
   "outputs": [
    {
     "name": "stdout",
     "output_type": "stream",
     "text": [
      "153196.01\n",
      "84393.01\n"
     ]
    }
   ],
   "source": [
    "# Calculate the total value of the member's entire savings portfolio\n",
    "# Add the value of the cryptocurrency walled to the value of the total stocks and bonds\n",
    "total_portfolio = total_stocks_bonds + total_crypto_wallet\n",
    "\n",
    "# Print current cryptocurrency wallet balance\n",
    "# YOUR CODE HERE\n",
    "print(total_portfolio)\n",
    "\n",
    "print(total_crypto_wallet)"
   ]
  },
  {
   "cell_type": "markdown",
   "metadata": {},
   "source": [
    "### Evaluate the Emergency Fund\n",
    "\n",
    "In this section, you’ll use the valuations for the cryptocurrency wallet and for the stock and bond portions of the portfolio to determine if the credit union member has enough savings to build an emergency fund into their financial plan. To do this, complete the following steps:\n",
    "\n",
    "1. Create a Python list named `savings_data` that has two elements. The first element contains the total value of the cryptocurrency wallet. The second element contains the total value of the stock and bond portions of the portfolio.\n",
    "\n",
    "2. Use the `savings_data` list to create a Pandas DataFrame named `savings_df`, and then display this DataFrame. The function to create the DataFrame should take the following three parameters:\n",
    "\n",
    "    - `savings_data`: Use the list that you just created.\n",
    "\n",
    "    - `columns`: Set this parameter equal to a Python list with a single value called `amount`.\n",
    "\n",
    "    - `index`: Set this parameter equal to a Python list with the values of `crypto` and `stock/bond`.\n",
    "\n",
    "3. Use the `savings_df` DataFrame to plot a pie chart that visualizes the composition of the member’s portfolio. The y-axis of the pie chart uses `amount`. Be sure to add a title.\n",
    "\n",
    "4. Using Python, determine if the current portfolio has enough to create an emergency fund as part of the member’s financial plan. Ideally, an emergency fund should equal to three times the member’s monthly income. To do this, implement the following steps:\n",
    "\n",
    "    1. Create a variable named `emergency_fund_value`, and set it equal to three times the value of the member’s `monthly_income` of $12000. (You set this earlier in Part 1).\n",
    "\n",
    "    2. Create a series of three if statements to determine if the member’s total portfolio is large enough to fund the emergency portfolio:\n",
    "\n",
    "        1. If the total portfolio value is greater than the emergency fund value, display a message congratulating the member for having enough money in this fund.\n",
    "\n",
    "        2. Else if the total portfolio value is equal to the emergency fund value, display a message congratulating the member on reaching this important financial goal.\n",
    "\n",
    "        3. Else the total portfolio is less than the emergency fund value, so display a message showing how many dollars away the member is from reaching the goal. (Subtract the total portfolio value from the emergency fund value.)\n"
   ]
  },
  {
   "cell_type": "markdown",
   "metadata": {},
   "source": [
    "#### Step 1: Create a Python list named `savings_data` that has two elements. The first element contains the total value of the cryptocurrency wallet. The second element contains the total value of the stock and bond portions of the portfolio."
   ]
  },
  {
   "cell_type": "code",
   "execution_count": 254,
   "metadata": {},
   "outputs": [
    {
     "name": "stdout",
     "output_type": "stream",
     "text": [
      "[84393.01, 68803.0]\n"
     ]
    }
   ],
   "source": [
    "# Consolidate financial assets data into a Python list\n",
    "# YOUR CODE HERE\n",
    "#savings_data = ['crypto',total_crypto_wallet, 'stock/bond',total_stocks_bonds]\n",
    "savings_data =[total_crypto_wallet,total_stocks_bonds]\n",
    "# Review the Python list savings_data\n",
    "# YOUR CODE HERE\n",
    "print(savings_data)\n",
    "    "
   ]
  },
  {
   "cell_type": "markdown",
   "metadata": {},
   "source": [
    "#### Step 2: Use the `savings_data` list to create a Pandas DataFrame named `savings_df`, and then display this DataFrame. The function to create the DataFrame should take the following three parameters:\n",
    "\n",
    "- `savings_data`: Use the list that you just created.\n",
    "\n",
    "- `columns`: Set this parameter equal to a Python list with a single value called `amount`.\n",
    "\n",
    "- `index`: Set this parameter equal to a Python list with the values of `crypto` and `stock/bond`.\n"
   ]
  },
  {
   "cell_type": "code",
   "execution_count": 256,
   "metadata": {},
   "outputs": [
    {
     "name": "stdout",
     "output_type": "stream",
     "text": [
      "              amount\n",
      "crypto      84393.01\n",
      "stock/bond  68803.00\n"
     ]
    }
   ],
   "source": [
    "# Create a Pandas DataFrame called savings_df \n",
    "# YOUR CODE HERE\n",
    "savings_df = pd.DataFrame(savings_data, columns = ['amount'],index=['crypto','stock/bond'])\n",
    "\n",
    "# Display the savings_df DataFrame\n",
    "# YOUR CODE HERE\n",
    "print(savings_df)\n"
   ]
  },
  {
   "cell_type": "markdown",
   "metadata": {},
   "source": [
    "#### Step 3: Use the `savings_df` DataFrame to plot a pie chart that visualizes the composition of the member’s portfolio. The y-axis of the pie chart uses `amount`. Be sure to add a title."
   ]
  },
  {
   "cell_type": "code",
   "execution_count": 267,
   "metadata": {},
   "outputs": [
    {
     "data": {
      "text/plain": [
       "<AxesSubplot:ylabel='amount'>"
      ]
     },
     "execution_count": 267,
     "metadata": {},
     "output_type": "execute_result"
    },
    {
     "data": {
      "image/png": "[encoded data removed]",
      "text/plain": [
       "<Figure size 360x360 with 1 Axes>"
      ]
     },
     "metadata": {},
     "output_type": "display_data"
    }
   ],
   "source": [
    "# Plot the total value of the member's portfolio (crypto and stock/bond) in a pie chart\n",
    "# YOUR CODE HERE\n",
    "savings_df.plot.pie(y='amount', figsize=(5,5))\n"
   ]
  },
  {
   "cell_type": "markdown",
   "metadata": {},
   "source": [
    "#### Step 4: Using Python, determine if the current portfolio has enough to create an emergency fund as part of the member’s financial plan. Ideally, an emergency fund should equal to three times the member’s monthly income. To do this, implement the following steps:\n",
    "\n",
    "Step 1. Create a variable named `emergency_fund_value`, and set it equal to three times the value of the member’s `monthly_income` of 12000. (You set this earlier in Part 1).\n",
    "\n",
    "Step 2. Create a series of three if statements to determine if the member’s total portfolio is large enough to fund the emergency portfolio:\n",
    "\n",
    "* If the total portfolio value is greater than the emergency fund value, display a message congratulating the member for having enough money in this fund.\n",
    "\n",
    "* Else if the total portfolio value is equal to the emergency fund value, display a message congratulating the member on reaching this important financial goal.\n",
    "\n",
    "* Else the total portfolio is less than the emergency fund value, so display a message showing how many dollars away the member is from reaching the goal. (Subtract the total portfolio value from the emergency fund value.)\n"
   ]
  },
  {
   "cell_type": "markdown",
   "metadata": {},
   "source": [
    "##### Step 4-1: Create a variable named `emergency_fund_value`, and set it equal to three times the value of the member’s `monthly_income` of 12000. (You set this earlier in Part 1)."
   ]
  },
  {
   "cell_type": "code",
   "execution_count": 268,
   "metadata": {},
   "outputs": [
    {
     "name": "stdout",
     "output_type": "stream",
     "text": [
      "36000\n"
     ]
    }
   ],
   "source": [
    "# Create a variable named emergency_fund_value\n",
    "# YOUR CODE HERE\n",
    "emergency_fund_value = 3 * monthly_income\n",
    "print(emergency_fund_value)\n"
   ]
  },
  {
   "cell_type": "markdown",
   "metadata": {},
   "source": [
    "##### Step 4-2: Create a series of three if statements to determine if the member’s total portfolio is large enough to fund the emergency portfolio:\n",
    "\n",
    "* If the total portfolio value is greater than the emergency fund value, display a message congratulating the member for having enough money in this fund.\n",
    "\n",
    "* Else if the total portfolio value is equal to the emergency fund value, display a message congratulating the member on reaching this important financial goal.\n",
    "\n",
    "* Else the total portfolio is less than the emergency fund value, so display a message showing how many dollars away the member is from reaching the goal. (Subtract the total portfolio value from the emergency fund value.)"
   ]
  },
  {
   "cell_type": "code",
   "execution_count": 288,
   "metadata": {},
   "outputs": [
    {
     "name": "stdout",
     "output_type": "stream",
     "text": [
      "Congratulations yeah!\n"
     ]
    }
   ],
   "source": [
    "# Evaluate the possibility of creating an emergency fund with 3 conditions:\n",
    "# YOUR CODE HERE\n",
    "# YOUR CODE HERE\n",
    "# YOUR CODE HERE\n",
    "if total_portfolio > emergency_fund_value:\n",
    "    print('Congratulations yeah!')\n",
    "elif total_portfolio >= emergency_fund_value:\n",
    "    print('Congras reaching goal')\n",
    "else:\n",
    "    print(\"bye\")"
   ]
  },
  {
   "cell_type": "markdown",
   "metadata": {},
   "source": [
    "## Part 2: Create a Financial Planner for Retirement"
   ]
  },
  {
   "cell_type": "markdown",
   "metadata": {},
   "source": [
    "### Create the Monte Carlo Simulation\n",
    "\n",
    "In this section, you’ll use the MCForecastTools library to create a Monte Carlo simulation for the member’s savings portfolio. To do this, complete the following steps:\n",
    "\n",
    "1. Make an API call via the Alpaca SDK to get 10 years of historical closing prices for a traditional 60/40 portfolio split: 60% stocks (SPY) and 40% bonds (AGG).\n",
    "\n",
    "2. Run a Monte Carlo simulation of 500 samples and 30 years for the 60/40 portfolio, and then plot the results.The following image shows the overlay line plot resulting from a simulation with these characteristics. However, because a random number generator is used to run each live Monte Carlo simulation, your image will differ slightly from this exact image:\n",
    "\n",
    "![A screenshot depicts the resulting plot.](Images/5-4-monte-carlo-line-plot.png)\n",
    "\n",
    "3. Plot the probability distribution of the Monte Carlo simulation. Plot the probability distribution of the Monte Carlo simulation. The following image shows the histogram plot resulting from a simulation with these characteristics. However, because a random number generator is used to run each live Monte Carlo simulation, your image will differ slightly from this exact image:\n",
    "\n",
    "![A screenshot depicts the histogram plot.](Images/5-4-monte-carlo-histogram.png)\n",
    "\n",
    "4. Generate the summary statistics for the Monte Carlo simulation.\n",
    "\n"
   ]
  },
  {
   "cell_type": "markdown",
   "metadata": {},
   "source": [
    "#### Step 1: Make an API call via the Alpaca SDK to get 10 years of historical closing prices for a traditional 60/40 portfolio split: 60% stocks (SPY) and 40% bonds (AGG)."
   ]
  },
  {
   "cell_type": "code",
   "execution_count": 299,
   "metadata": {},
   "outputs": [],
   "source": [
    "# Set start and end dates of 10 years back from your current date\n",
    "# Alternatively, you can use an end date of 2020-08-07 and work 10 years back from that date \n",
    "# YOUR CODE HERE\n",
    "# YOUR CODE HERE\n",
    "# Set the IBM and Amazon tickers\n",
    "tickers = [\"AGG\",\"SPY\"]\n",
    "\n",
    "# Set start and end datetimes of 1 year, between now and 365 days ago.\n",
    "start_date = pd.Timestamp(\"2010-08-07\", tz=\"America/New_York\").isoformat()\n",
    "end_date = pd.Timestamp(\"2020-08-07\", tz=\"America/New_York\").isoformat()\n"
   ]
  },
  {
   "cell_type": "code",
   "execution_count": 301,
   "metadata": {},
   "outputs": [
    {
     "data": {
      "text/html": [
       "<div>\n",
       "<style scoped>\n",
       "    .dataframe tbody tr th:only-of-type {\n",
       "        vertical-align: middle;\n",
       "    }\n",
       "\n",
       "    .dataframe tbody tr th {\n",
       "        vertical-align: top;\n",
       "    }\n",
       "\n",
       "    .dataframe thead tr th {\n",
       "        text-align: left;\n",
       "    }\n",
       "\n",
       "    .dataframe thead tr:last-of-type th {\n",
       "        text-align: right;\n",
       "    }\n",
       "</style>\n",
       "<table border=\"1\" class=\"dataframe\">\n",
       "  <thead>\n",
       "    <tr>\n",
       "      <th></th>\n",
       "      <th colspan=\"5\" halign=\"left\">AGG</th>\n",
       "      <th colspan=\"5\" halign=\"left\">SPY</th>\n",
       "    </tr>\n",
       "    <tr>\n",
       "      <th></th>\n",
       "      <th>open</th>\n",
       "      <th>high</th>\n",
       "      <th>low</th>\n",
       "      <th>close</th>\n",
       "      <th>volume</th>\n",
       "      <th>open</th>\n",
       "      <th>high</th>\n",
       "      <th>low</th>\n",
       "      <th>close</th>\n",
       "      <th>volume</th>\n",
       "    </tr>\n",
       "    <tr>\n",
       "      <th>time</th>\n",
       "      <th></th>\n",
       "      <th></th>\n",
       "      <th></th>\n",
       "      <th></th>\n",
       "      <th></th>\n",
       "      <th></th>\n",
       "      <th></th>\n",
       "      <th></th>\n",
       "      <th></th>\n",
       "      <th></th>\n",
       "    </tr>\n",
       "  </thead>\n",
       "  <tbody>\n",
       "    <tr>\n",
       "      <th>2020-03-18 00:00:00-04:00</th>\n",
       "      <td>109.36</td>\n",
       "      <td>110.5700</td>\n",
       "      <td>105.7707</td>\n",
       "      <td>106.33</td>\n",
       "      <td>30117292</td>\n",
       "      <td>236.25</td>\n",
       "      <td>248.3700</td>\n",
       "      <td>228.02</td>\n",
       "      <td>241.01</td>\n",
       "      <td>298252778</td>\n",
       "    </tr>\n",
       "    <tr>\n",
       "      <th>2020-03-19 00:00:00-04:00</th>\n",
       "      <td>106.47</td>\n",
       "      <td>109.2200</td>\n",
       "      <td>105.5600</td>\n",
       "      <td>108.97</td>\n",
       "      <td>21031320</td>\n",
       "      <td>239.25</td>\n",
       "      <td>247.3800</td>\n",
       "      <td>232.22</td>\n",
       "      <td>241.16</td>\n",
       "      <td>261233795</td>\n",
       "    </tr>\n",
       "    <tr>\n",
       "      <th>2020-03-20 00:00:00-04:00</th>\n",
       "      <td>108.46</td>\n",
       "      <td>110.2399</td>\n",
       "      <td>108.4600</td>\n",
       "      <td>109.49</td>\n",
       "      <td>28449412</td>\n",
       "      <td>242.53</td>\n",
       "      <td>244.4700</td>\n",
       "      <td>228.50</td>\n",
       "      <td>228.94</td>\n",
       "      <td>302880969</td>\n",
       "    </tr>\n",
       "    <tr>\n",
       "      <th>2020-03-23 00:00:00-04:00</th>\n",
       "      <td>109.90</td>\n",
       "      <td>112.9400</td>\n",
       "      <td>109.0000</td>\n",
       "      <td>112.55</td>\n",
       "      <td>23873510</td>\n",
       "      <td>228.19</td>\n",
       "      <td>229.6833</td>\n",
       "      <td>218.26</td>\n",
       "      <td>222.51</td>\n",
       "      <td>280560712</td>\n",
       "    </tr>\n",
       "    <tr>\n",
       "      <th>2020-03-24 00:00:00-04:00</th>\n",
       "      <td>111.52</td>\n",
       "      <td>113.5000</td>\n",
       "      <td>111.0754</td>\n",
       "      <td>113.29</td>\n",
       "      <td>18141498</td>\n",
       "      <td>234.42</td>\n",
       "      <td>244.1000</td>\n",
       "      <td>233.80</td>\n",
       "      <td>243.59</td>\n",
       "      <td>211595249</td>\n",
       "    </tr>\n",
       "  </tbody>\n",
       "</table>\n",
       "</div>"
      ],
      "text/plain": [
       "                              AGG                                        \\\n",
       "                             open      high       low   close    volume   \n",
       "time                                                                      \n",
       "2020-03-18 00:00:00-04:00  109.36  110.5700  105.7707  106.33  30117292   \n",
       "2020-03-19 00:00:00-04:00  106.47  109.2200  105.5600  108.97  21031320   \n",
       "2020-03-20 00:00:00-04:00  108.46  110.2399  108.4600  109.49  28449412   \n",
       "2020-03-23 00:00:00-04:00  109.90  112.9400  109.0000  112.55  23873510   \n",
       "2020-03-24 00:00:00-04:00  111.52  113.5000  111.0754  113.29  18141498   \n",
       "\n",
       "                              SPY                                       \n",
       "                             open      high     low   close     volume  \n",
       "time                                                                    \n",
       "2020-03-18 00:00:00-04:00  236.25  248.3700  228.02  241.01  298252778  \n",
       "2020-03-19 00:00:00-04:00  239.25  247.3800  232.22  241.16  261233795  \n",
       "2020-03-20 00:00:00-04:00  242.53  244.4700  228.50  228.94  302880969  \n",
       "2020-03-23 00:00:00-04:00  228.19  229.6833  218.26  222.51  280560712  \n",
       "2020-03-24 00:00:00-04:00  234.42  244.1000  233.80  243.59  211595249  "
      ]
     },
     "execution_count": 301,
     "metadata": {},
     "output_type": "execute_result"
    }
   ],
   "source": [
    "# Use the Alpaca get_barset function to make the API call to get the 10 years worth of pricing data\n",
    "# The tickers and timeframe parameters should have been set in Part 1 of this activity \n",
    "# The start and end dates should be updated with the information set above\n",
    "# Remember to add the df property to the end of the call so the response is returned as a DataFrame\n",
    "# YOUR CODE HERE\n",
    "# Get 1 year's worth of historical data for IBM and Amazon\n",
    "price_10yr_df = alpaca.get_barset(\n",
    "    tickers,\n",
    "    timeframe,\n",
    "    start=start_date,\n",
    "    end=end_date\n",
    ").df\n",
    "\n",
    "# Display both the first and last five rows of the DataFrame\n",
    "# YOUR CODE HERE\n",
    "price_10yr_df.head()\n"
   ]
  },
  {
   "cell_type": "markdown",
   "metadata": {},
   "source": [
    "#### Step 2: Run a Monte Carlo simulation of 500 samples and 30 years for the 60/40 portfolio, and then plot the results."
   ]
  },
  {
   "cell_type": "code",
   "execution_count": 303,
   "metadata": {},
   "outputs": [
    {
     "data": {
      "text/html": [
       "<div>\n",
       "<style scoped>\n",
       "    .dataframe tbody tr th:only-of-type {\n",
       "        vertical-align: middle;\n",
       "    }\n",
       "\n",
       "    .dataframe tbody tr th {\n",
       "        vertical-align: top;\n",
       "    }\n",
       "\n",
       "    .dataframe thead tr th {\n",
       "        text-align: left;\n",
       "    }\n",
       "\n",
       "    .dataframe thead tr:last-of-type th {\n",
       "        text-align: right;\n",
       "    }\n",
       "</style>\n",
       "<table border=\"1\" class=\"dataframe\">\n",
       "  <thead>\n",
       "    <tr>\n",
       "      <th></th>\n",
       "      <th colspan=\"6\" halign=\"left\">AGG</th>\n",
       "      <th colspan=\"6\" halign=\"left\">SPY</th>\n",
       "    </tr>\n",
       "    <tr>\n",
       "      <th></th>\n",
       "      <th>open</th>\n",
       "      <th>high</th>\n",
       "      <th>low</th>\n",
       "      <th>close</th>\n",
       "      <th>volume</th>\n",
       "      <th>daily_return</th>\n",
       "      <th>open</th>\n",
       "      <th>high</th>\n",
       "      <th>low</th>\n",
       "      <th>close</th>\n",
       "      <th>volume</th>\n",
       "      <th>daily_return</th>\n",
       "    </tr>\n",
       "    <tr>\n",
       "      <th>time</th>\n",
       "      <th></th>\n",
       "      <th></th>\n",
       "      <th></th>\n",
       "      <th></th>\n",
       "      <th></th>\n",
       "      <th></th>\n",
       "      <th></th>\n",
       "      <th></th>\n",
       "      <th></th>\n",
       "      <th></th>\n",
       "      <th></th>\n",
       "      <th></th>\n",
       "    </tr>\n",
       "  </thead>\n",
       "  <tbody>\n",
       "    <tr>\n",
       "      <th>2020-03-18 00:00:00-04:00</th>\n",
       "      <td>109.36</td>\n",
       "      <td>110.5700</td>\n",
       "      <td>105.7707</td>\n",
       "      <td>106.33</td>\n",
       "      <td>30117292</td>\n",
       "      <td>NaN</td>\n",
       "      <td>236.25</td>\n",
       "      <td>248.3700</td>\n",
       "      <td>228.02</td>\n",
       "      <td>241.01</td>\n",
       "      <td>298252778</td>\n",
       "      <td>NaN</td>\n",
       "    </tr>\n",
       "    <tr>\n",
       "      <th>2020-03-19 00:00:00-04:00</th>\n",
       "      <td>106.47</td>\n",
       "      <td>109.2200</td>\n",
       "      <td>105.5600</td>\n",
       "      <td>108.97</td>\n",
       "      <td>21031320</td>\n",
       "      <td>0.024828</td>\n",
       "      <td>239.25</td>\n",
       "      <td>247.3800</td>\n",
       "      <td>232.22</td>\n",
       "      <td>241.16</td>\n",
       "      <td>261233795</td>\n",
       "      <td>0.000622</td>\n",
       "    </tr>\n",
       "    <tr>\n",
       "      <th>2020-03-20 00:00:00-04:00</th>\n",
       "      <td>108.46</td>\n",
       "      <td>110.2399</td>\n",
       "      <td>108.4600</td>\n",
       "      <td>109.49</td>\n",
       "      <td>28449412</td>\n",
       "      <td>0.004772</td>\n",
       "      <td>242.53</td>\n",
       "      <td>244.4700</td>\n",
       "      <td>228.50</td>\n",
       "      <td>228.94</td>\n",
       "      <td>302880969</td>\n",
       "      <td>-0.050672</td>\n",
       "    </tr>\n",
       "    <tr>\n",
       "      <th>2020-03-23 00:00:00-04:00</th>\n",
       "      <td>109.90</td>\n",
       "      <td>112.9400</td>\n",
       "      <td>109.0000</td>\n",
       "      <td>112.55</td>\n",
       "      <td>23873510</td>\n",
       "      <td>0.027948</td>\n",
       "      <td>228.19</td>\n",
       "      <td>229.6833</td>\n",
       "      <td>218.26</td>\n",
       "      <td>222.51</td>\n",
       "      <td>280560712</td>\n",
       "      <td>-0.028086</td>\n",
       "    </tr>\n",
       "    <tr>\n",
       "      <th>2020-03-24 00:00:00-04:00</th>\n",
       "      <td>111.52</td>\n",
       "      <td>113.5000</td>\n",
       "      <td>111.0754</td>\n",
       "      <td>113.29</td>\n",
       "      <td>18141498</td>\n",
       "      <td>0.006575</td>\n",
       "      <td>234.42</td>\n",
       "      <td>244.1000</td>\n",
       "      <td>233.80</td>\n",
       "      <td>243.59</td>\n",
       "      <td>211595249</td>\n",
       "      <td>0.094737</td>\n",
       "    </tr>\n",
       "  </tbody>\n",
       "</table>\n",
       "</div>"
      ],
      "text/plain": [
       "                              AGG                                        \\\n",
       "                             open      high       low   close    volume   \n",
       "time                                                                      \n",
       "2020-03-18 00:00:00-04:00  109.36  110.5700  105.7707  106.33  30117292   \n",
       "2020-03-19 00:00:00-04:00  106.47  109.2200  105.5600  108.97  21031320   \n",
       "2020-03-20 00:00:00-04:00  108.46  110.2399  108.4600  109.49  28449412   \n",
       "2020-03-23 00:00:00-04:00  109.90  112.9400  109.0000  112.55  23873510   \n",
       "2020-03-24 00:00:00-04:00  111.52  113.5000  111.0754  113.29  18141498   \n",
       "\n",
       "                                           SPY                            \\\n",
       "                          daily_return    open      high     low   close   \n",
       "time                                                                       \n",
       "2020-03-18 00:00:00-04:00          NaN  236.25  248.3700  228.02  241.01   \n",
       "2020-03-19 00:00:00-04:00     0.024828  239.25  247.3800  232.22  241.16   \n",
       "2020-03-20 00:00:00-04:00     0.004772  242.53  244.4700  228.50  228.94   \n",
       "2020-03-23 00:00:00-04:00     0.027948  228.19  229.6833  218.26  222.51   \n",
       "2020-03-24 00:00:00-04:00     0.006575  234.42  244.1000  233.80  243.59   \n",
       "\n",
       "                                                   \n",
       "                              volume daily_return  \n",
       "time                                               \n",
       "2020-03-18 00:00:00-04:00  298252778          NaN  \n",
       "2020-03-19 00:00:00-04:00  261233795     0.000622  \n",
       "2020-03-20 00:00:00-04:00  302880969    -0.050672  \n",
       "2020-03-23 00:00:00-04:00  280560712    -0.028086  \n",
       "2020-03-24 00:00:00-04:00  211595249     0.094737  "
      ]
     },
     "execution_count": 303,
     "metadata": {},
     "output_type": "execute_result"
    }
   ],
   "source": [
    "# Configure the Monte Carlo simulation to forecast 30 years cumulative returns\n",
    "# The weights should be split 40% to AGG and 60% to SPY.\n",
    "# Run 500 samples.\n",
    "# YOUR CODE HERE\n",
    "\n",
    "# Review the simulation input data\n",
    "# YOUR CODE HERE\n",
    "# Configure a Monte Carlo simulation to forecast five years cumulative returns\n",
    "# Use an even weight of .33 across all 3 stocks\n",
    "MC_even_weight = MCSimulation(\n",
    "    portfolio_data = price_10yr_df,\n",
    "    weights = [.60,.40],\n",
    "    num_simulation = 500,\n",
    "    num_trading_days = 252*30\n",
    ")\n",
    "\n",
    "# Printing the first five rows of the simulation input data\n",
    "MC_even_weight.portfolio_data.head()"
   ]
  },
  {
   "cell_type": "code",
   "execution_count": 304,
   "metadata": {},
   "outputs": [
    {
     "name": "stdout",
     "output_type": "stream",
     "text": [
      "Running Monte Carlo simulation number 0.\n",
      "Running Monte Carlo simulation number 10.\n",
      "Running Monte Carlo simulation number 20.\n",
      "Running Monte Carlo simulation number 30.\n",
      "Running Monte Carlo simulation number 40.\n",
      "Running Monte Carlo simulation number 50.\n",
      "Running Monte Carlo simulation number 60.\n",
      "Running Monte Carlo simulation number 70.\n",
      "Running Monte Carlo simulation number 80.\n",
      "Running Monte Carlo simulation number 90.\n",
      "Running Monte Carlo simulation number 100.\n",
      "Running Monte Carlo simulation number 110.\n",
      "Running Monte Carlo simulation number 120.\n",
      "Running Monte Carlo simulation number 130.\n",
      "Running Monte Carlo simulation number 140.\n",
      "Running Monte Carlo simulation number 150.\n",
      "Running Monte Carlo simulation number 160.\n",
      "Running Monte Carlo simulation number 170.\n",
      "Running Monte Carlo simulation number 180.\n",
      "Running Monte Carlo simulation number 190.\n",
      "Running Monte Carlo simulation number 200.\n",
      "Running Monte Carlo simulation number 210.\n",
      "Running Monte Carlo simulation number 220.\n",
      "Running Monte Carlo simulation number 230.\n",
      "Running Monte Carlo simulation number 240.\n",
      "Running Monte Carlo simulation number 250.\n",
      "Running Monte Carlo simulation number 260.\n",
      "Running Monte Carlo simulation number 270.\n",
      "Running Monte Carlo simulation number 280.\n",
      "Running Monte Carlo simulation number 290.\n",
      "Running Monte Carlo simulation number 300.\n",
      "Running Monte Carlo simulation number 310.\n",
      "Running Monte Carlo simulation number 320.\n",
      "Running Monte Carlo simulation number 330.\n",
      "Running Monte Carlo simulation number 340.\n",
      "Running Monte Carlo simulation number 350.\n",
      "Running Monte Carlo simulation number 360.\n",
      "Running Monte Carlo simulation number 370.\n",
      "Running Monte Carlo simulation number 380.\n",
      "Running Monte Carlo simulation number 390.\n",
      "Running Monte Carlo simulation number 400.\n",
      "Running Monte Carlo simulation number 410.\n",
      "Running Monte Carlo simulation number 420.\n",
      "Running Monte Carlo simulation number 430.\n",
      "Running Monte Carlo simulation number 440.\n",
      "Running Monte Carlo simulation number 450.\n",
      "Running Monte Carlo simulation number 460.\n",
      "Running Monte Carlo simulation number 470.\n",
      "Running Monte Carlo simulation number 480.\n",
      "Running Monte Carlo simulation number 490.\n"
     ]
    },
    {
     "data": {
      "text/html": [
       "<div>\n",
       "<style scoped>\n",
       "    .dataframe tbody tr th:only-of-type {\n",
       "        vertical-align: middle;\n",
       "    }\n",
       "\n",
       "    .dataframe tbody tr th {\n",
       "        vertical-align: top;\n",
       "    }\n",
       "\n",
       "    .dataframe thead th {\n",
       "        text-align: right;\n",
       "    }\n",
       "</style>\n",
       "<table border=\"1\" class=\"dataframe\">\n",
       "  <thead>\n",
       "    <tr style=\"text-align: right;\">\n",
       "      <th></th>\n",
       "      <th>0</th>\n",
       "      <th>1</th>\n",
       "      <th>2</th>\n",
       "      <th>3</th>\n",
       "      <th>4</th>\n",
       "      <th>5</th>\n",
       "      <th>6</th>\n",
       "      <th>7</th>\n",
       "      <th>8</th>\n",
       "      <th>9</th>\n",
       "      <th>...</th>\n",
       "      <th>490</th>\n",
       "      <th>491</th>\n",
       "      <th>492</th>\n",
       "      <th>493</th>\n",
       "      <th>494</th>\n",
       "      <th>495</th>\n",
       "      <th>496</th>\n",
       "      <th>497</th>\n",
       "      <th>498</th>\n",
       "      <th>499</th>\n",
       "    </tr>\n",
       "  </thead>\n",
       "  <tbody>\n",
       "    <tr>\n",
       "      <th>0</th>\n",
       "      <td>1.000000e+00</td>\n",
       "      <td>1.000000e+00</td>\n",
       "      <td>1.000000e+00</td>\n",
       "      <td>1.000000e+00</td>\n",
       "      <td>1.000000e+00</td>\n",
       "      <td>1.000000e+00</td>\n",
       "      <td>1.000000e+00</td>\n",
       "      <td>1.000000e+00</td>\n",
       "      <td>1.000000e+00</td>\n",
       "      <td>1.000000e+00</td>\n",
       "      <td>...</td>\n",
       "      <td>1.000000e+00</td>\n",
       "      <td>1.000000e+00</td>\n",
       "      <td>1.000000e+00</td>\n",
       "      <td>1.000000e+00</td>\n",
       "      <td>1.000000e+00</td>\n",
       "      <td>1.000000e+00</td>\n",
       "      <td>1.000000e+00</td>\n",
       "      <td>1.000000e+00</td>\n",
       "      <td>1.000000e+00</td>\n",
       "      <td>1.000000e+00</td>\n",
       "    </tr>\n",
       "    <tr>\n",
       "      <th>1</th>\n",
       "      <td>9.969632e-01</td>\n",
       "      <td>9.928543e-01</td>\n",
       "      <td>1.004639e+00</td>\n",
       "      <td>9.908060e-01</td>\n",
       "      <td>9.993534e-01</td>\n",
       "      <td>1.010517e+00</td>\n",
       "      <td>1.005310e+00</td>\n",
       "      <td>1.010551e+00</td>\n",
       "      <td>9.937894e-01</td>\n",
       "      <td>1.001283e+00</td>\n",
       "      <td>...</td>\n",
       "      <td>1.014080e+00</td>\n",
       "      <td>9.947718e-01</td>\n",
       "      <td>9.950483e-01</td>\n",
       "      <td>9.964881e-01</td>\n",
       "      <td>9.991831e-01</td>\n",
       "      <td>1.004601e+00</td>\n",
       "      <td>9.933517e-01</td>\n",
       "      <td>1.008332e+00</td>\n",
       "      <td>1.012418e+00</td>\n",
       "      <td>9.999282e-01</td>\n",
       "    </tr>\n",
       "    <tr>\n",
       "      <th>2</th>\n",
       "      <td>9.992203e-01</td>\n",
       "      <td>9.968681e-01</td>\n",
       "      <td>9.964065e-01</td>\n",
       "      <td>9.877057e-01</td>\n",
       "      <td>1.005422e+00</td>\n",
       "      <td>1.007306e+00</td>\n",
       "      <td>1.002886e+00</td>\n",
       "      <td>1.004936e+00</td>\n",
       "      <td>9.884357e-01</td>\n",
       "      <td>1.003843e+00</td>\n",
       "      <td>...</td>\n",
       "      <td>1.010425e+00</td>\n",
       "      <td>1.009497e+00</td>\n",
       "      <td>9.964476e-01</td>\n",
       "      <td>1.007461e+00</td>\n",
       "      <td>1.025282e+00</td>\n",
       "      <td>1.007553e+00</td>\n",
       "      <td>9.943234e-01</td>\n",
       "      <td>1.022957e+00</td>\n",
       "      <td>1.013492e+00</td>\n",
       "      <td>1.002583e+00</td>\n",
       "    </tr>\n",
       "    <tr>\n",
       "      <th>3</th>\n",
       "      <td>1.014429e+00</td>\n",
       "      <td>9.977372e-01</td>\n",
       "      <td>1.001476e+00</td>\n",
       "      <td>9.764619e-01</td>\n",
       "      <td>1.008045e+00</td>\n",
       "      <td>1.010020e+00</td>\n",
       "      <td>9.860655e-01</td>\n",
       "      <td>1.024799e+00</td>\n",
       "      <td>9.993323e-01</td>\n",
       "      <td>1.010283e+00</td>\n",
       "      <td>...</td>\n",
       "      <td>1.012887e+00</td>\n",
       "      <td>1.022758e+00</td>\n",
       "      <td>1.011979e+00</td>\n",
       "      <td>1.006340e+00</td>\n",
       "      <td>1.029633e+00</td>\n",
       "      <td>1.013683e+00</td>\n",
       "      <td>1.004637e+00</td>\n",
       "      <td>1.039090e+00</td>\n",
       "      <td>9.834678e-01</td>\n",
       "      <td>1.007809e+00</td>\n",
       "    </tr>\n",
       "    <tr>\n",
       "      <th>4</th>\n",
       "      <td>1.001351e+00</td>\n",
       "      <td>9.943880e-01</td>\n",
       "      <td>9.954100e-01</td>\n",
       "      <td>9.929633e-01</td>\n",
       "      <td>1.021981e+00</td>\n",
       "      <td>1.012820e+00</td>\n",
       "      <td>9.867037e-01</td>\n",
       "      <td>1.030890e+00</td>\n",
       "      <td>9.975706e-01</td>\n",
       "      <td>1.010289e+00</td>\n",
       "      <td>...</td>\n",
       "      <td>1.015232e+00</td>\n",
       "      <td>1.022859e+00</td>\n",
       "      <td>1.003939e+00</td>\n",
       "      <td>1.008477e+00</td>\n",
       "      <td>1.011650e+00</td>\n",
       "      <td>1.002330e+00</td>\n",
       "      <td>1.012045e+00</td>\n",
       "      <td>1.028858e+00</td>\n",
       "      <td>9.936564e-01</td>\n",
       "      <td>1.002081e+00</td>\n",
       "    </tr>\n",
       "    <tr>\n",
       "      <th>...</th>\n",
       "      <td>...</td>\n",
       "      <td>...</td>\n",
       "      <td>...</td>\n",
       "      <td>...</td>\n",
       "      <td>...</td>\n",
       "      <td>...</td>\n",
       "      <td>...</td>\n",
       "      <td>...</td>\n",
       "      <td>...</td>\n",
       "      <td>...</td>\n",
       "      <td>...</td>\n",
       "      <td>...</td>\n",
       "      <td>...</td>\n",
       "      <td>...</td>\n",
       "      <td>...</td>\n",
       "      <td>...</td>\n",
       "      <td>...</td>\n",
       "      <td>...</td>\n",
       "      <td>...</td>\n",
       "      <td>...</td>\n",
       "      <td>...</td>\n",
       "    </tr>\n",
       "    <tr>\n",
       "      <th>7556</th>\n",
       "      <td>1.868099e+06</td>\n",
       "      <td>1.247610e+07</td>\n",
       "      <td>2.449178e+07</td>\n",
       "      <td>7.763928e+06</td>\n",
       "      <td>1.563900e+06</td>\n",
       "      <td>8.200970e+06</td>\n",
       "      <td>1.089949e+06</td>\n",
       "      <td>6.609717e+06</td>\n",
       "      <td>6.859755e+06</td>\n",
       "      <td>8.305410e+06</td>\n",
       "      <td>...</td>\n",
       "      <td>1.725108e+07</td>\n",
       "      <td>1.653527e+07</td>\n",
       "      <td>6.363695e+06</td>\n",
       "      <td>8.250885e+06</td>\n",
       "      <td>6.187170e+06</td>\n",
       "      <td>3.147860e+06</td>\n",
       "      <td>4.084280e+06</td>\n",
       "      <td>2.440136e+06</td>\n",
       "      <td>8.494253e+06</td>\n",
       "      <td>2.930895e+06</td>\n",
       "    </tr>\n",
       "    <tr>\n",
       "      <th>7557</th>\n",
       "      <td>1.848128e+06</td>\n",
       "      <td>1.225417e+07</td>\n",
       "      <td>2.439605e+07</td>\n",
       "      <td>7.785989e+06</td>\n",
       "      <td>1.589035e+06</td>\n",
       "      <td>8.257201e+06</td>\n",
       "      <td>1.088278e+06</td>\n",
       "      <td>6.660192e+06</td>\n",
       "      <td>6.868208e+06</td>\n",
       "      <td>8.358013e+06</td>\n",
       "      <td>...</td>\n",
       "      <td>1.706511e+07</td>\n",
       "      <td>1.630194e+07</td>\n",
       "      <td>6.427559e+06</td>\n",
       "      <td>8.210631e+06</td>\n",
       "      <td>6.223126e+06</td>\n",
       "      <td>3.135536e+06</td>\n",
       "      <td>4.077468e+06</td>\n",
       "      <td>2.420113e+06</td>\n",
       "      <td>8.553198e+06</td>\n",
       "      <td>2.905108e+06</td>\n",
       "    </tr>\n",
       "    <tr>\n",
       "      <th>7558</th>\n",
       "      <td>1.842311e+06</td>\n",
       "      <td>1.235981e+07</td>\n",
       "      <td>2.427039e+07</td>\n",
       "      <td>7.775951e+06</td>\n",
       "      <td>1.563686e+06</td>\n",
       "      <td>8.342722e+06</td>\n",
       "      <td>1.087518e+06</td>\n",
       "      <td>6.747708e+06</td>\n",
       "      <td>6.871160e+06</td>\n",
       "      <td>8.443650e+06</td>\n",
       "      <td>...</td>\n",
       "      <td>1.692467e+07</td>\n",
       "      <td>1.632391e+07</td>\n",
       "      <td>6.482080e+06</td>\n",
       "      <td>8.186174e+06</td>\n",
       "      <td>6.288499e+06</td>\n",
       "      <td>3.127479e+06</td>\n",
       "      <td>4.050870e+06</td>\n",
       "      <td>2.403141e+06</td>\n",
       "      <td>8.599812e+06</td>\n",
       "      <td>2.867612e+06</td>\n",
       "    </tr>\n",
       "    <tr>\n",
       "      <th>7559</th>\n",
       "      <td>1.843361e+06</td>\n",
       "      <td>1.258081e+07</td>\n",
       "      <td>2.457646e+07</td>\n",
       "      <td>7.780003e+06</td>\n",
       "      <td>1.563143e+06</td>\n",
       "      <td>8.326743e+06</td>\n",
       "      <td>1.072050e+06</td>\n",
       "      <td>6.694083e+06</td>\n",
       "      <td>6.930791e+06</td>\n",
       "      <td>8.395390e+06</td>\n",
       "      <td>...</td>\n",
       "      <td>1.695684e+07</td>\n",
       "      <td>1.656668e+07</td>\n",
       "      <td>6.454861e+06</td>\n",
       "      <td>8.280848e+06</td>\n",
       "      <td>6.356608e+06</td>\n",
       "      <td>3.147323e+06</td>\n",
       "      <td>4.101582e+06</td>\n",
       "      <td>2.390904e+06</td>\n",
       "      <td>8.670445e+06</td>\n",
       "      <td>2.865732e+06</td>\n",
       "    </tr>\n",
       "    <tr>\n",
       "      <th>7560</th>\n",
       "      <td>1.831229e+06</td>\n",
       "      <td>1.254663e+07</td>\n",
       "      <td>2.476198e+07</td>\n",
       "      <td>7.597688e+06</td>\n",
       "      <td>1.561652e+06</td>\n",
       "      <td>8.433149e+06</td>\n",
       "      <td>1.069885e+06</td>\n",
       "      <td>6.633768e+06</td>\n",
       "      <td>7.020046e+06</td>\n",
       "      <td>8.493815e+06</td>\n",
       "      <td>...</td>\n",
       "      <td>1.704612e+07</td>\n",
       "      <td>1.668071e+07</td>\n",
       "      <td>6.513635e+06</td>\n",
       "      <td>8.232908e+06</td>\n",
       "      <td>6.338977e+06</td>\n",
       "      <td>3.151938e+06</td>\n",
       "      <td>4.017169e+06</td>\n",
       "      <td>2.419931e+06</td>\n",
       "      <td>8.876767e+06</td>\n",
       "      <td>2.862355e+06</td>\n",
       "    </tr>\n",
       "  </tbody>\n",
       "</table>\n",
       "<p>7561 rows × 500 columns</p>\n",
       "</div>"
      ],
      "text/plain": [
       "               0             1             2             3             4    \\\n",
       "0     1.000000e+00  1.000000e+00  1.000000e+00  1.000000e+00  1.000000e+00   \n",
       "1     9.969632e-01  9.928543e-01  1.004639e+00  9.908060e-01  9.993534e-01   \n",
       "2     9.992203e-01  9.968681e-01  9.964065e-01  9.877057e-01  1.005422e+00   \n",
       "3     1.014429e+00  9.977372e-01  1.001476e+00  9.764619e-01  1.008045e+00   \n",
       "4     1.001351e+00  9.943880e-01  9.954100e-01  9.929633e-01  1.021981e+00   \n",
       "...            ...           ...           ...           ...           ...   \n",
       "7556  1.868099e+06  1.247610e+07  2.449178e+07  7.763928e+06  1.563900e+06   \n",
       "7557  1.848128e+06  1.225417e+07  2.439605e+07  7.785989e+06  1.589035e+06   \n",
       "7558  1.842311e+06  1.235981e+07  2.427039e+07  7.775951e+06  1.563686e+06   \n",
       "7559  1.843361e+06  1.258081e+07  2.457646e+07  7.780003e+06  1.563143e+06   \n",
       "7560  1.831229e+06  1.254663e+07  2.476198e+07  7.597688e+06  1.561652e+06   \n",
       "\n",
       "               5             6             7             8             9    \\\n",
       "0     1.000000e+00  1.000000e+00  1.000000e+00  1.000000e+00  1.000000e+00   \n",
       "1     1.010517e+00  1.005310e+00  1.010551e+00  9.937894e-01  1.001283e+00   \n",
       "2     1.007306e+00  1.002886e+00  1.004936e+00  9.884357e-01  1.003843e+00   \n",
       "3     1.010020e+00  9.860655e-01  1.024799e+00  9.993323e-01  1.010283e+00   \n",
       "4     1.012820e+00  9.867037e-01  1.030890e+00  9.975706e-01  1.010289e+00   \n",
       "...            ...           ...           ...           ...           ...   \n",
       "7556  8.200970e+06  1.089949e+06  6.609717e+06  6.859755e+06  8.305410e+06   \n",
       "7557  8.257201e+06  1.088278e+06  6.660192e+06  6.868208e+06  8.358013e+06   \n",
       "7558  8.342722e+06  1.087518e+06  6.747708e+06  6.871160e+06  8.443650e+06   \n",
       "7559  8.326743e+06  1.072050e+06  6.694083e+06  6.930791e+06  8.395390e+06   \n",
       "7560  8.433149e+06  1.069885e+06  6.633768e+06  7.020046e+06  8.493815e+06   \n",
       "\n",
       "      ...           490           491           492           493  \\\n",
       "0     ...  1.000000e+00  1.000000e+00  1.000000e+00  1.000000e+00   \n",
       "1     ...  1.014080e+00  9.947718e-01  9.950483e-01  9.964881e-01   \n",
       "2     ...  1.010425e+00  1.009497e+00  9.964476e-01  1.007461e+00   \n",
       "3     ...  1.012887e+00  1.022758e+00  1.011979e+00  1.006340e+00   \n",
       "4     ...  1.015232e+00  1.022859e+00  1.003939e+00  1.008477e+00   \n",
       "...   ...           ...           ...           ...           ...   \n",
       "7556  ...  1.725108e+07  1.653527e+07  6.363695e+06  8.250885e+06   \n",
       "7557  ...  1.706511e+07  1.630194e+07  6.427559e+06  8.210631e+06   \n",
       "7558  ...  1.692467e+07  1.632391e+07  6.482080e+06  8.186174e+06   \n",
       "7559  ...  1.695684e+07  1.656668e+07  6.454861e+06  8.280848e+06   \n",
       "7560  ...  1.704612e+07  1.668071e+07  6.513635e+06  8.232908e+06   \n",
       "\n",
       "               494           495           496           497           498  \\\n",
       "0     1.000000e+00  1.000000e+00  1.000000e+00  1.000000e+00  1.000000e+00   \n",
       "1     9.991831e-01  1.004601e+00  9.933517e-01  1.008332e+00  1.012418e+00   \n",
       "2     1.025282e+00  1.007553e+00  9.943234e-01  1.022957e+00  1.013492e+00   \n",
       "3     1.029633e+00  1.013683e+00  1.004637e+00  1.039090e+00  9.834678e-01   \n",
       "4     1.011650e+00  1.002330e+00  1.012045e+00  1.028858e+00  9.936564e-01   \n",
       "...            ...           ...           ...           ...           ...   \n",
       "7556  6.187170e+06  3.147860e+06  4.084280e+06  2.440136e+06  8.494253e+06   \n",
       "7557  6.223126e+06  3.135536e+06  4.077468e+06  2.420113e+06  8.553198e+06   \n",
       "7558  6.288499e+06  3.127479e+06  4.050870e+06  2.403141e+06  8.599812e+06   \n",
       "7559  6.356608e+06  3.147323e+06  4.101582e+06  2.390904e+06  8.670445e+06   \n",
       "7560  6.338977e+06  3.151938e+06  4.017169e+06  2.419931e+06  8.876767e+06   \n",
       "\n",
       "               499  \n",
       "0     1.000000e+00  \n",
       "1     9.999282e-01  \n",
       "2     1.002583e+00  \n",
       "3     1.007809e+00  \n",
       "4     1.002081e+00  \n",
       "...            ...  \n",
       "7556  2.930895e+06  \n",
       "7557  2.905108e+06  \n",
       "7558  2.867612e+06  \n",
       "7559  2.865732e+06  \n",
       "7560  2.862355e+06  \n",
       "\n",
       "[7561 rows x 500 columns]"
      ]
     },
     "execution_count": 304,
     "metadata": {},
     "output_type": "execute_result"
    }
   ],
   "source": [
    "# Run the Monte Carlo simulation to forecast 30 years cumulative returns\n",
    "# YOUR CODE HERE\n",
    "MC_even_weight.calc_cumulative_return()"
   ]
  },
  {
   "cell_type": "code",
   "execution_count": 305,
   "metadata": {},
   "outputs": [
    {
     "data": {
      "image/png": "[encoded data removed]",
      "text/plain": [
       "<Figure size 432x288 with 1 Axes>"
      ]
     },
     "metadata": {
      "needs_background": "light"
     },
     "output_type": "display_data"
    }
   ],
   "source": [
    "# Visualize the 30-year Monte Carlo simulation by creating an\n",
    "# overlay line plot\n",
    "# YOUR CODE HERE\n",
    "even_weight_line_plot = MC_even_weight.plot_simulation()"
   ]
  },
  {
   "cell_type": "markdown",
   "metadata": {},
   "source": [
    "#### Step 3: Plot the probability distribution of the Monte Carlo simulation."
   ]
  },
  {
   "cell_type": "code",
   "execution_count": 306,
   "metadata": {},
   "outputs": [
    {
     "data": {
      "image/png": "[encoded data removed]",
      "text/plain": [
       "<Figure size 432x288 with 1 Axes>"
      ]
     },
     "metadata": {
      "needs_background": "light"
     },
     "output_type": "display_data"
    }
   ],
   "source": [
    "# Visualize the probability distribution of the 30-year Monte Carlo simulation \n",
    "# by plotting a histogram\n",
    "# YOUR CODE HERE\n",
    "even_weight_distribution_plot = MC_even_weight.plot_distribution()"
   ]
  },
  {
   "cell_type": "markdown",
   "metadata": {},
   "source": [
    "#### Step 4: Generate the summary statistics for the Monte Carlo simulation."
   ]
  },
  {
   "cell_type": "code",
   "execution_count": 307,
   "metadata": {},
   "outputs": [
    {
     "name": "stdout",
     "output_type": "stream",
     "text": [
      "count           5.000000e+02\n",
      "mean            9.418880e+06\n",
      "std             8.208941e+06\n",
      "min             6.196507e+05\n",
      "25%             4.222559e+06\n",
      "50%             7.000112e+06\n",
      "75%             1.155954e+07\n",
      "max             7.093283e+07\n",
      "95% CI Lower    1.664696e+06\n",
      "95% CI Upper    3.259363e+07\n",
      "Name: 7560, dtype: float64\n"
     ]
    }
   ],
   "source": [
    "# Generate summary statistics from the 30-year Monte Carlo simulation results\n",
    "# Save the results as a variable\n",
    "# YOUR CODE HERE\n",
    "\n",
    "\n",
    "# Review the 30-year Monte Carlo summary statistics\n",
    "# YOUR CODE HERE\n",
    "# Generate the summary statistics for the Monte Carlo simulation\n",
    "# Save the summary statistics information in a variable called even_weights_table \n",
    "even_weight_table = MC_even_weight.summarize_cumulative_return()\n",
    "\n",
    "# Print the table of summary statistics\n",
    "print(even_weight_table)"
   ]
  },
  {
   "cell_type": "markdown",
   "metadata": {},
   "source": [
    "### Analyze the Retirement Portfolio Forecasts\n",
    "\n",
    "Using the current value of only the stock and bond portion of the member's portfolio and the summary statistics that you generated from the Monte Carlo simulation, answer the following question in your Jupyter notebook:\n",
    "\n",
    "-  What are the lower and upper bounds for the expected value of the portfolio with a 95% confidence interval?\n"
   ]
  },
  {
   "cell_type": "code",
   "execution_count": null,
   "metadata": {},
   "outputs": [],
   "source": [
    "# Print the current balance of the stock and bond portion of the members portfolio\n",
    "# YOUR CODE HERE\n"
   ]
  },
  {
   "cell_type": "code",
   "execution_count": 308,
   "metadata": {},
   "outputs": [
    {
     "name": "stdout",
     "output_type": "stream",
     "text": [
      "There is a 95% chance that an initial investment of $15,000 in the portfolio with an even weight portfolio over the next 5 years will end within in the range of $255024848735.48 and $4993213663761.36.\n"
     ]
    }
   ],
   "source": [
    "# Use the lower and upper `95%` confidence intervals to calculate the range of the possible outcomes for the current stock/bond portfolio\n",
    "#ci_lower_thirty_cumulative_return = # YOUR CODE HERE\n",
    "#ci_upper_thirty_cumulative_return = # YOUR CODE HERE\n",
    "\n",
    "# Print the result of your calculations\n",
    "# YOUR CODE HERE\n",
    "# Using the lower and upper `95%` confidence interval values \n",
    "# (index positions 8 & 9 from the even_weight_table)\n",
    "# calculate  the range of the possible outcomes for a $15,000 investment \n",
    "even_ci_lower = round(even_weight_table[8]*total_portfolio,2)\n",
    "even_ci_upper = round(even_weight_table[9]*total_portfolio,2)\n",
    "\n",
    "# Print results of your calculations\n",
    "print(f\"There is a 95% chance that an initial investment of $15,000 in the portfolio\"\n",
    "      f\" with an even weight portfolio over the next 5 years will end within in the range of\"\n",
    "      f\" ${even_ci_lower} and ${even_ci_upper}.\")"
   ]
  },
  {
   "cell_type": "markdown",
   "metadata": {},
   "source": [
    "### Forecast Cumulative Returns in 10 Years\n",
    "\n",
    "The CTO of the credit union is impressed with your work on these planning tools but wonders if 30 years is a long time to wait until retirement. So, your next task is to adjust the retirement portfolio and run a new Monte Carlo simulation to find out if the changes will allow members to retire earlier.\n",
    "\n",
    "For this new Monte Carlo simulation, do the following: \n",
    "\n",
    "- Forecast the cumulative returns for 10 years from now. Because of the shortened investment horizon (30 years to 10 years), the portfolio needs to invest more heavily in the riskier asset&mdash;that is, stock&mdash;to help accumulate wealth for retirement. \n",
    "\n",
    "- Adjust the weights of the retirement portfolio so that the composition for the Monte Carlo simulation consists of 20% bonds and 80% stocks. \n",
    "\n",
    "- Run the simulation over 500 samples, and use the same data that the API call to Alpaca generated.\n",
    "\n",
    "- Based on the new Monte Carlo simulation, answer the following questions in your Jupyter notebook:\n",
    "\n",
    "    - Using the current value of only the stock and bond portion of the member's portfolio and the summary statistics that you generated from the new Monte Carlo simulation, what are the lower and upper bounds for the expected value of the portfolio (with the new weights) with a 95% confidence interval?\n",
    "\n",
    "    - Will weighting the portfolio more heavily toward stocks allow the credit union members to retire after only 10 years?\n"
   ]
  },
  {
   "cell_type": "code",
   "execution_count": null,
   "metadata": {},
   "outputs": [],
   "source": [
    "# Configure a Monte Carlo simulation to forecast 10 years cumulative returns\n",
    "# The weights should be split 20% to AGG and 80% to SPY.\n",
    "# Run 500 samples.\n",
    "# YOUR CODE HERE\n",
    "\n",
    "# Review the simulation input data\n",
    "# YOUR CODE HERE\n"
   ]
  },
  {
   "cell_type": "code",
   "execution_count": null,
   "metadata": {},
   "outputs": [],
   "source": [
    "# Run the Monte Carlo simulation to forecast 10 years cumulative returns\n",
    "# YOUR CODE HERE\n"
   ]
  },
  {
   "cell_type": "code",
   "execution_count": null,
   "metadata": {},
   "outputs": [],
   "source": [
    "# Visualize the 10-year Monte Carlo simulation by creating an\n",
    "# overlay line plot\n",
    "# YOUR CODE HERE\n"
   ]
  },
  {
   "cell_type": "code",
   "execution_count": null,
   "metadata": {},
   "outputs": [],
   "source": [
    "# Visualize the probability distribution of the 10-year Monte Carlo simulation \n",
    "# by plotting a histogram\n",
    "# YOUR CODE HERE\n"
   ]
  },
  {
   "cell_type": "code",
   "execution_count": null,
   "metadata": {},
   "outputs": [],
   "source": [
    "# Generate summary statistics from the 10-year Monte Carlo simulation results\n",
    "# Save the results as a variable\n",
    "# YOUR CODE HERE\n",
    "\n",
    "\n",
    "# Review the 10-year Monte Carlo summary statistics\n",
    "# YOUR CODE HERE"
   ]
  },
  {
   "cell_type": "markdown",
   "metadata": {},
   "source": [
    "### Answer the following questions:"
   ]
  },
  {
   "cell_type": "markdown",
   "metadata": {},
   "source": [
    "#### Question: Using the current value of only the stock and bond portion of the member's portfolio and the summary statistics that you generated from the new Monte Carlo simulation, what are the lower and upper bounds for the expected value of the portfolio (with the new weights) with a 95% confidence interval?"
   ]
  },
  {
   "cell_type": "code",
   "execution_count": null,
   "metadata": {},
   "outputs": [],
   "source": [
    "# Print the current balance of the stock and bond portion of the members portfolio\n",
    "# YOUR CODE HERE\n"
   ]
  },
  {
   "cell_type": "code",
   "execution_count": null,
   "metadata": {},
   "outputs": [],
   "source": [
    "# Use the lower and upper `95%` confidence intervals to calculate the range of the possible outcomes for the current stock/bond portfolio\n",
    "ci_lower_ten_cumulative_return = # YOUR CODE HERE\n",
    "ci_upper_ten_cumulative_return = # YOUR CODE HERE\n",
    "\n",
    "# Print the result of your calculations\n",
    "# YOUR CODE HERE\n"
   ]
  },
  {
   "cell_type": "markdown",
   "metadata": {},
   "source": [
    "#### Question: Will weighting the portfolio more heavily to stocks allow the credit union members to retire after only 10 years?"
   ]
  },
  {
   "cell_type": "raw",
   "metadata": {},
   "source": [
    "**Answer** # YOUR ANSWER HERE"
   ]
  },
  {
   "cell_type": "code",
   "execution_count": null,
   "metadata": {},
   "outputs": [],
   "source": []
  }
 ],
 "metadata": {
  "kernelspec": {
   "display_name": "Python 3",
   "language": "python",
   "name": "python3"
  },
  "language_info": {
   "codemirror_mode": {
    "name": "ipython",
    "version": 3
   },
   "file_extension": ".py",
   "mimetype": "text/x-python",
   "name": "python",
   "nbconvert_exporter": "python",
   "pygments_lexer": "ipython3",
   "version": "3.7.9"
  }
 },
 "nbformat": 4,
 "nbformat_minor": 4
}
